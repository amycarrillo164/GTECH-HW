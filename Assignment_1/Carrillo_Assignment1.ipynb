{
 "cells": [
  {
   "cell_type": "code",
   "execution_count": 2,
   "metadata": {},
   "outputs": [
    {
     "name": "stdout",
     "output_type": "stream",
     "text": [
      "3.9.13\n"
     ]
    }
   ],
   "source": [
    "#This is to verify that Python works properly on your computer.\n",
    "import platform\n",
    "print(platform.python_version())"
   ]
  },
  {
   "cell_type": "code",
   "execution_count": 2,
   "metadata": {},
   "outputs": [
    {
     "name": "stdout",
     "output_type": "stream",
     "text": [
      "[150, 121, 145, 184, 131, 33, 46, 91, 138, 160, 93, 41, 38, 167, 109, 149, 110, 77, 172, 153, 75, 89, 71, 109, 9, 168, 121, 9, 125, 107, 125, 189, 175, 10, 101, 27, 118, 122, 151, 125, 134, 8, 155, 115, 97, 82, 105, 155, 10]\n"
     ]
    }
   ],
   "source": [
    "# Generate a list of random numbers using random module in Python\n",
    "import random\n",
    "random_lst = []\n",
    "\n",
    "for i in range (1, 50):\n",
    "    random_lst.append(random.randint(0,200))\n",
    "    \n",
    "print(random_lst)"
   ]
  },
  {
   "cell_type": "code",
   "execution_count": 13,
   "metadata": {},
   "outputs": [
    {
     "name": "stdout",
     "output_type": "stream",
     "text": [
      "106.0204081632653\n"
     ]
    }
   ],
   "source": [
    "#Calculate the mean value for the list by looping through its element\n",
    "res1 = 0\n",
    "\n",
    "for i in random_lst:\n",
    "    res1 += i\n",
    "mean = res1 / len(random_lst)\n",
    "print(mean)"
   ]
  },
  {
   "cell_type": "code",
   "execution_count": 37,
   "metadata": {},
   "outputs": [
    {
     "name": "stdout",
     "output_type": "stream",
     "text": [
      "106.0204081632653\n",
      "106.0204081632653\n"
     ]
    }
   ],
   "source": [
    "#Double check the mean\n",
    "sum_lst = sum(random_lst)\n",
    "mean2 = sum_lst / len(random_lst)\n",
    "print(mean2)"
   ]
  },
  {
   "cell_type": "code",
   "execution_count": 35,
   "metadata": {},
   "outputs": [
    {
     "name": "stdout",
     "output_type": "stream",
     "text": [
      "2638.770408163266\n"
     ]
    }
   ],
   "source": [
    "#Calculate the variance of the list\n",
    "top = 0\n",
    "\n",
    "for i in random_lst:\n",
    "    top += pow(i-mean, 2)\n",
    "\n",
    "bottom = len(random_lst)-1\n",
    "\n",
    "variance = top/bottom\n",
    "print(variance)"
   ]
  },
  {
   "cell_type": "code",
   "execution_count": 23,
   "metadata": {},
   "outputs": [
    {
     "name": "stdout",
     "output_type": "stream",
     "text": [
      "2638.770408163265\n"
     ]
    }
   ],
   "source": [
    "#Double check the variance of the list\n",
    "import statistics\n",
    "print(statistics.variance(random_lst))"
   ]
  }
 ],
 "metadata": {
  "kernelspec": {
   "display_name": "base",
   "language": "python",
   "name": "python3"
  },
  "language_info": {
   "codemirror_mode": {
    "name": "ipython",
    "version": 3
   },
   "file_extension": ".py",
   "mimetype": "text/x-python",
   "name": "python",
   "nbconvert_exporter": "python",
   "pygments_lexer": "ipython3",
   "version": "3.9.13"
  },
  "orig_nbformat": 4,
  "vscode": {
   "interpreter": {
    "hash": "e8a21d808dd2dbf19e8996affc9523669993497fdeccbcdabb7e9e60698cb18e"
   }
  }
 },
 "nbformat": 4,
 "nbformat_minor": 2
}
