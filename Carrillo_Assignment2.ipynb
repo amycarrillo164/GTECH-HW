{
 "cells": [
  {
   "cell_type": "code",
   "execution_count": 104,
   "metadata": {},
   "outputs": [],
   "source": [
    "#Task 1\n",
    "import json"
   ]
  },
  {
   "cell_type": "code",
   "execution_count": 105,
   "metadata": {},
   "outputs": [
    {
     "name": "stdout",
     "output_type": "stream",
     "text": [
      "Number of Counties in US: 3221\n",
      "Blount\n"
     ]
    }
   ],
   "source": [
    "#Option1\n",
    "with open(\"Files_for_HW/gz_2010_us_050_00_20m.json\", 'r') as f:\n",
    "    data = json.load(f)\n",
    "print('Number of Counties in US: {}'.format(len(data['features'])))\n",
    "print(data['features'][1]['properties']['NAME'])"
   ]
  },
  {
   "cell_type": "code",
   "execution_count": 106,
   "metadata": {},
   "outputs": [
    {
     "name": "stdout",
     "output_type": "stream",
     "text": [
      "Number of Counties in US: 3221\n",
      "First entry is Wade Hampton\n"
     ]
    }
   ],
   "source": [
    "# Option2: May not run. Check the online source.\n",
    "import requests, json\n",
    "url = \"https://eric.clst.org/assets/wiki/uploads/Stuff/gz_2010_us_050_00_5m.json\"\n",
    "\n",
    "with requests.get(url) as response:\n",
    "    data = response.json()\n",
    "print('Number of Counties in US: ' + str(len(data['features'])))\n",
    "print('First entry is {}'.format(data['features'][1]['properties']['NAME']))"
   ]
  },
  {
   "cell_type": "code",
   "execution_count": 107,
   "metadata": {},
   "outputs": [],
   "source": [
    "# Task 2: Find the 3 most common names of the counties. (COUNTY NAME & STATE CODE)"
   ]
  },
  {
   "cell_type": "code",
   "execution_count": 280,
   "metadata": {},
   "outputs": [
    {
     "name": "stdout",
     "output_type": "stream",
     "text": [
      "{'Washington': 32, 'Franklin': 27, 'Jefferson': 27}\n",
      "['08', '12', '05', '17', '19', '23', '24', '29', '47', '40', '41', '55', '49', '50', '20', '18', '21', '27', '13', '01', '22', '16', '36', '37', '31', '28', '42', '39', '44', '51', '48']\n",
      "['13', '01', '18', '16', '21', '19', '28', '36', '48', '05', '12', '22', '23', '25', '17', '20', '29', '47', '31', '37', '42', '39', '51', '51', '53', '50']\n",
      "['17', '13', '19', '41', '08', '05', '12', '20', '21', '01', '22', '28', '16', '18', '29', '47', '48', '36', '40', '31', '30', '42', '39', '54', '55', '53']\n"
     ]
    },
    {
     "data": {
      "text/plain": [
       "26"
      ]
     },
     "execution_count": 280,
     "metadata": {},
     "output_type": "execute_result"
    }
   ],
   "source": [
    "# ANSWER 1: WORK\n",
    "\n",
    "#Create a dictionary\n",
    "featureList = data['features']\n",
    "cntyDict = {}\n",
    "\n",
    "for f in featureList:\n",
    "    dict_name = f['properties']['NAME']\n",
    "\n",
    "    if cntyDict.get(dict_name) is None:\n",
    "        cntyDict.update({dict_name:1})\n",
    "    else:\n",
    "        pass\n",
    "\n",
    "#Create a list\n",
    "featureList = data['features']\n",
    "namelist = []\n",
    "\n",
    "for f in featureList:\n",
    "    county_name = f['properties']['NAME']\n",
    "    namelist.append(county_name)\n",
    "\n",
    "#Compare dictionary and list\n",
    "for new_name in namelist:\n",
    "    if new_name in cntyDict:\n",
    "        cntyDict[new_name] +=1\n",
    "    else:\n",
    "        cntyDict[new_name] = 1\n",
    "\n",
    "#Sort\n",
    "sorted_new_list = sorted(cntyDict.items(), key=lambda x:x[1], reverse=True)\n",
    "top_new_list = sorted_new_list[0:3]\n",
    "converted_newdict = dict(top_new_list)\n",
    "\n",
    "#Answer\n",
    "print(converted_newdict)\n",
    "\n",
    "\n",
    "#Find state code\n",
    "#Washington\n",
    "Washington_List = []\n",
    "\n",
    "for f in featureList:\n",
    "    dict_name2 = f['properties']['NAME']\n",
    "    WA_code = f['properties']['STATE']\n",
    "\n",
    "    if dict_name2 == \"Washington\":\n",
    "        Washington_List.append(WA_code)\n",
    "    else:\n",
    "        pass\n",
    "\n",
    "print(Washington_List)\n",
    "\n",
    "\n",
    "#Franklin\n",
    "Franklin_List = []\n",
    "\n",
    "for f in featureList:\n",
    "    dict_name2 = f['properties']['NAME']\n",
    "    Frank_code = f['properties']['STATE']\n",
    "\n",
    "    if dict_name2 == \"Franklin\":\n",
    "        Franklin_List.append(Frank_code)\n",
    "    else:\n",
    "        pass\n",
    "\n",
    "print(Franklin_List)\n",
    "\n",
    "\n",
    "#Jefferson\n",
    "Jefferson_List = []\n",
    "\n",
    "for f in featureList:\n",
    "    dict_name2 = f['properties']['NAME']\n",
    "    Jeff_code = f['properties']['STATE']\n",
    "\n",
    "    if dict_name2 == \"Jefferson\":\n",
    "        Jefferson_List.append(Jeff_code)\n",
    "    else:\n",
    "        pass\n",
    "\n",
    "print(Jefferson_List)\n",
    "len(Jefferson_List)\n"
   ]
  },
  {
   "cell_type": "code",
   "execution_count": 286,
   "metadata": {},
   "outputs": [
    {
     "name": "stdout",
     "output_type": "stream",
     "text": [
      "One of the three most common county names is Washington.\n",
      "One of the three most common county names is Franklin.\n",
      "One of the three most common county names is Jefferson.\n",
      "\n",
      "States that have the county name of Washington: ['01', '05', '08', '12', '13', '16', '17', '18', '19', '20', '21', '22', '23', '24', '27', '28', '29', '31', '36', '37', '39', '40', '41', '42', '44', '47', '48', '49', '50', '51', '55']\n",
      "States that have the county name of Franklin: ['01', '05', '12', '13', '16', '17', '18', '19', '20', '21', '22', '23', '25', '28', '29', '31', '36', '37', '39', '42', '47', '48', '50', '51', '51', '53']\n",
      "States that have the county name of Jefferson: ['01', '05', '08', '12', '13', '16', '17', '18', '19', '20', '21', '22', '28', '29', '30', '31', '36', '39', '40', '41', '42', '47', '48', '53', '54', '55']\n"
     ]
    }
   ],
   "source": [
    "#ANSWER 1: Formated Final Answer\n",
    "for county2 in converted_newdict.keys():\n",
    "  print(f\"One of the three most common county names is {county2.title()}.\")\n",
    "\n",
    "print(f\"\\nStates that have the county name of Washington: {sorted(Washington_List)}\")\n",
    "print(f\"States that have the county name of Franklin: {sorted(Franklin_List)}\")\n",
    "print(f\"States that have the county name of Jefferson: {sorted(Jefferson_List)}\")"
   ]
  },
  {
   "cell_type": "code",
   "execution_count": 287,
   "metadata": {},
   "outputs": [
    {
     "name": "stdout",
     "output_type": "stream",
     "text": [
      "{'Washington': 31, 'Franklin': 26, 'Jefferson': 26}\n",
      "One of the three most common county names is Washington.\n",
      "One of the three most common county names is Franklin.\n",
      "One of the three most common county names is Jefferson.\n",
      "\n",
      "States that have the county name of Washington: ['01', '05', '08', '12', '13', '16', '17', '18', '19', '20', '21', '22', '23', '24', '27', '28', '29', '31', '36', '37', '39', '40', '41', '42', '44', '47', '48', '49', '50', '51', '55']\n",
      "States that have the county name of Franklin: ['01', '05', '12', '13', '16', '17', '18', '19', '20', '21', '22', '23', '25', '28', '29', '31', '36', '37', '39', '42', '47', '48', '50', '51', '51', '53']\n",
      "States that have the county name of Jefferson: ['01', '05', '08', '12', '13', '16', '17', '18', '19', '20', '21', '22', '28', '29', '30', '31', '36', '39', '40', '41', '42', '47', '48', '53', '54', '55']\n"
     ]
    }
   ],
   "source": [
    "# NOTES\n",
    "# ANSWER 2\n",
    "\n",
    "#Create a list\n",
    "featureList = data['features']\n",
    "namelist = []\n",
    "\n",
    "for f in featureList:\n",
    "    county_name = f['properties']['NAME']\n",
    "    namelist.append(county_name)\n",
    "\n",
    "#Define & use function\n",
    "def countOccurrence(a):\n",
    "  k = {}\n",
    "  for j in a:\n",
    "    if j in k:\n",
    "      k[j] +=1\n",
    "    else:\n",
    "      k[j] =1\n",
    "  return k\n",
    "\n",
    "repeats = countOccurrence(namelist)\n",
    "\n",
    "#Sort\n",
    "sorted_repeats = sorted(repeats.items(), key=lambda x:x[1], reverse=True)\n",
    "top_repeats = sorted_repeats[0:3]\n",
    "converted_repeats = dict(top_repeats)\n",
    "\n",
    "#Answer\n",
    "print(converted_repeats)\n",
    "\n",
    "for county in converted_repeats.keys():\n",
    "  print(f\"One of the three most common county names is {county.title()}.\")\n",
    "\n",
    "print(f\"\\nStates that have the county name of Washington: {sorted(Washington_List)}\")\n",
    "print(f\"States that have the county name of Franklin: {sorted(Franklin_List)}\")\n",
    "print(f\"States that have the county name of Jefferson: {sorted(Jefferson_List)}\")"
   ]
  },
  {
   "cell_type": "code",
   "execution_count": null,
   "metadata": {},
   "outputs": [],
   "source": [
    "#Notes\n",
    "#Set\n",
    "setlist = {}\n",
    "\n",
    "setlist = set(namelist)\n",
    "len(setlist)"
   ]
  }
 ],
 "metadata": {
  "kernelspec": {
   "display_name": "base",
   "language": "python",
   "name": "python3"
  },
  "language_info": {
   "codemirror_mode": {
    "name": "ipython",
    "version": 3
   },
   "file_extension": ".py",
   "mimetype": "text/x-python",
   "name": "python",
   "nbconvert_exporter": "python",
   "pygments_lexer": "ipython3",
   "version": "3.9.13"
  },
  "orig_nbformat": 4,
  "vscode": {
   "interpreter": {
    "hash": "e8a21d808dd2dbf19e8996affc9523669993497fdeccbcdabb7e9e60698cb18e"
   }
  }
 },
 "nbformat": 4,
 "nbformat_minor": 2
}
