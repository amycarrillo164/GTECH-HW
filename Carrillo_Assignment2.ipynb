{
 "cells": [
  {
   "cell_type": "code",
   "execution_count": 104,
   "metadata": {},
   "outputs": [],
   "source": [
    "#Task 1\n",
    "import json"
   ]
  },
  {
   "cell_type": "code",
   "execution_count": 3,
   "metadata": {},
   "outputs": [
    {
     "name": "stdout",
     "output_type": "stream",
     "text": [
      "Number of Counties in US: 3221\n",
      "First entry is Wade Hampton\n"
     ]
    }
   ],
   "source": [
    "# Option2: May not run. Check the online source.\n",
    "import requests, json\n",
    "url = \"https://eric.clst.org/assets/wiki/uploads/Stuff/gz_2010_us_050_00_5m.json\"\n",
    "\n",
    "with requests.get(url) as response:\n",
    "    data = response.json()\n",
    "print('Number of Counties in US: ' + str(len(data['features'])))\n",
    "print('First entry is {}'.format(data['features'][1]['properties']['NAME']))"
   ]
  },
  {
   "cell_type": "code",
   "execution_count": 5,
   "metadata": {},
   "outputs": [
    {
     "name": "stdout",
     "output_type": "stream",
     "text": [
      "{'Vermillion', 'Kennebec', 'Guthrie', 'Custer', 'Bates', 'Hutchinson', 'Woodruff', 'Macon', 'Fayette', 'Harney', 'Massac', 'Colusa', 'Craighead', 'Goochland', 'Barceloneta', 'Sweet Grass', 'Staunton', 'Licking', 'Butts', 'Attala', 'Marion', 'Van Buren', 'Chester', 'Hawaii', 'Columbus', 'Caddo', 'Lake and Peninsula', 'Barry', 'Lee', 'Oglethorpe', 'Klamath', 'De Baca', 'Washakie', 'Tripp', 'Iredell', 'Bear Lake', 'Petroleum', 'Colfax', 'Lamb', 'Pittsburg', 'Reynolds', 'Maury', 'Wade Hampton', 'Dimmit', 'Howell', 'Dare', 'Rooks', 'Alachua', 'Lassen', 'Weakley', 'Denton', 'Eddy', 'Cheatham', 'Kaufman', 'Baylor', 'Camuy', 'Ulster', 'Fallon', 'Lackawanna', 'Surry', 'Dooly', 'Renville', 'Juneau', 'Edmunds', 'Geary', 'Rogers', 'Brazos', 'Giles', 'Hays', 'Forrest', 'Morrill', 'Waldo', 'Northwest Arctic', 'Mahnomen', 'Austin', 'Cerro Gordo', 'Falls', 'Natchitoches', 'Salem', 'Missoula', 'Randolph', 'Haakon', 'Harmon', 'St. Mary', 'Ocean', 'Walworth', 'Brooks', 'Haywood', 'Clearwater', 'Maricopa', 'Chautauqua', 'Morehouse', 'Otoe', 'Gates', 'Childress', 'Cecil', 'Kershaw', 'Jackson', 'Sabine', 'New Castle', 'Lonoke', 'Pender', 'Uvalde', 'Placer', 'Catoosa', 'Isle of Wight', 'Ellis', 'Lewis', 'Jerauld', 'Jessamine', 'Bernalillo', 'Sarasota', 'Conejos', 'Big Stone', 'Clayton', 'Androscoggin', 'Upshur', 'Newport News', 'Day', 'Oregon', 'Lemhi', 'Crisp', 'Cooper', 'Troup', 'Pike', 'Hettinger', 'Racine', 'Huntingdon', 'Crawford', 'Stanly', 'Antrim', 'Armstrong', 'Weber', 'Kittitas', 'Chase', 'Buffalo', 'Sacramento', 'Tuscarawas', 'Jerome', 'Price', 'McDuffie', 'Gladwin', 'Nicholas', 'Tyler', 'McClain', 'Crosby', 'Kidder', 'Bingham', 'Hickory', 'Gilpin', 'Coryell', 'Collier', 'Clear Creek', 'Iosco', 'Dougherty', 'Harvey', 'Kodiak Island', 'Ceiba', 'Morrow', 'Benzie', 'Ogle', 'Cape Girardeau', 'McHenry', 'Haskell', 'Danville', 'Andrews', 'Franklin', 'Wapello', 'Pershing', 'Luce', 'Fairfax', 'Tunica', 'Anoka', 'Yukon-Koyukuk', 'Crook', 'Mendocino', 'Long', 'Coshocton', 'Clackamas', 'Bayfield', 'Judith Basin', 'Harlan', 'Natrona', 'Nevada', 'Fremont', 'Washburn', 'Towner', 'Gosper', 'Little River', 'Drew', 'Camp', 'San Patricio', 'Teton', 'San Augustine', 'Anchorage', 'Muskogee', 'Alpine', 'St. Martin', 'Stanley', 'Coosa', 'Geauga', 'Raleigh', 'Tuscola', 'Aleutians West', 'Hendricks', 'Matanuska-Susitna', 'Moca', 'Forsyth', 'Osage', 'Aleutians East', 'Wallace', 'Simpson', 'Whitfield', 'Park', 'Gilchrist', 'Pecos', 'St. Lawrence', 'Burleson', 'Saline', 'Saluda', 'Wakulla', 'Monona', 'Richmond', 'Cheyenne', 'Wheeler', 'Yadkin', 'Moore', 'Toa Baja', 'Carter', 'Hill', 'Larue', 'Tazewell', 'Montezuma', 'Lucas', 'Davidson', 'Hunt', 'Wythe', 'Tuolumne', 'Tooele', 'Presque Isle', 'Dundy', 'Litchfield', 'Bryan', 'Ashtabula', 'Stone', 'Newberry', 'Powell', 'Windsor', 'Effingham', 'Las Mar�as', 'Elkhart', 'Cochise', 'Early', 'Gage', 'Lawrence', 'Dane', 'Walla Walla', 'Val Verde', 'Etowah', 'San Miguel', 'Bristol', 'Isanti', 'Russell', 'Alexander', 'Huerfano', 'Newport', 'McLennan', 'Mille Lacs', 'Marinette', 'Erie', 'Del Norte', 'Harnett', 'Bayam�n', 'Bottineau', 'Columbia', 'Rush', 'Leon', 'Bremer', 'Allamakee', 'Vernon', 'Sac', 'Dixie', 'Bucks', 'Wasco', 'Elmore', 'Garfield', 'Brazoria', 'Costilla', 'Gray', 'Metcalfe', 'McLeod', 'Lamoille', 'Sauk', 'Taos', 'Leake', 'Pemiscot', 'Burke', 'Jenkins', 'Prince George', 'Rockbridge', 'Cape May', 'Kinney', 'Sebastian', 'Fergus', 'Coffey', 'Mariposa', 'Steuben', 'Titus', 'Patillas', 'Sheboygan', 'Guayanilla', 'Chesterfield', 'Wadena', 'Woodford', 'Canadian', 'Guaynabo', 'Catron', 'Passaic', 'Clarendon', 'Hormigueros', 'Olmsted', 'Dickinson', 'Macomb', 'Parker', 'Wicomico', 'Borden', 'Tioga', 'McNairy', 'Baca', 'Branch', 'Mobile', 'Power', 'Panola', 'Charlton', 'Delta', 'Hansford', 'Dauphin', 'Wabasha', 'Dewey', 'Tallahatchie', 'Grand Forks', 'Harper', 'Door', 'Escambia', 'Goshen', 'Dillingham', 'Kandiyohi', 'Paulding', 'Independence', 'Trousdale', 'Gurabo', 'Grainger', 'Cobb', 'Augusta', 'Caswell', 'Collingsworth', 'Wabash', 'Lenoir', 'Nicollet', 'Shelby', 'Fredericksburg', 'Yuba', 'Mackinac', 'Jones', 'Sherman', 'Elliott', 'Keya Paha', 'Harding', 'Wabaunsee', 'Sagadahoc', 'Kootenai', 'Dawson', 'Vieques', 'Stevens', 'Ransom', 'North Slope', 'Volusia', 'Cocke', 'Warrick', 'Ida', 'Wallowa', 'Dorado', 'Washtenaw', 'Gilmer', 'Strafford', 'Lunenburg', 'Gloucester', 'Kalkaska', 'Can�vanas', 'Henry', 'Bedford', 'Greensville', 'Yancey', 'Broadwater', 'Josephine', 'Tehama', 'Cullman', 'Wright', 'Grant', 'Arlington', 'Colbert', 'Lares', 'Ness', 'Crane', 'Gila', 'Hamilton', 'Kane', 'Aiken', 'Roger Mills', 'Indian River', 'Goliad', 'Spartanburg', 'Addison', 'Holmes', 'Dubuque', 'Cascade', 'Nome', 'Westmoreland', 'Baldwin', 'Upson', 'Silver Bow', 'Northumberland', 'Beckham', 'Cherry', 'Miner', 'Taylor', 'Chaffee', 'West Carroll', 'Rapides', 'St. Clair', 'Dunn', 'Ross', 'Noble', 'Yoakum', 'King William', 'Arecibo', 'Beaufort', 'Kendall', 'Brooke', 'Waller', 'Hardee', 'Itasca', 'Zapata', 'Los Angeles', 'Polk', 'Terrebonne', 'Kenedy', 'Summers', 'Shannon', 'Karnes', 'Kent', 'Rawlins', 'Lexington', 'Garrard', 'Hopkins', 'Minnehaha', 'Albemarle', 'Greer', 'Anson', 'Imperial', 'Huntington', 'Cherokee', 'Quay', 'Webster', 'Navarro', 'Okmulgee', 'Cavalier', 'Bay', 'Flagler', 'Boyd', 'Searcy', 'Pettis', 'Owsley', 'Duplin', 'Boyle', 'Snyder', 'Terry', 'Ventura', 'Mercer', 'Hickman', 'Baxter', 'Medina', 'Greenup', 'Nowata', 'Mountrail', 'Johnston', 'Valley', 'St. John the Baptist', 'Cass', 'Ouray', 'Walker', 'Winona', 'Petersburg', 'McLean', 'Appomattox', 'Porter', 'Bradley', 'Beauregard', 'Kerr', 'Norton', 'Dade', 'Solano', 'Stanislaus', 'Doniphan', 'Hampshire', 'White Pine', 'St. Tammany', 'Labette', 'Dickenson', 'Monterey', 'Dolores', 'Broome', 'Menard', 'Angelina', 'King George', 'Cortland', 'Defiance', 'Perquimans', \"St. Mary's\", 'Hooker', 'Comer�o', 'Glenn', 'Hockley', 'Tift', 'Montmorency', 'Parmer', 'Fairbanks North Star', 'Bethel', 'Ravalli', 'Benewah', 'Assumption', 'Do�a Ana', 'Pendleton', 'Daggett', 'Carlisle', 'Cameron', 'Tillamook', 'Putnam', 'Mahoning', 'Dillon', 'Somervell', 'Darlington', 'Casey', 'Gadsden', 'Stonewall', 'Codington', 'Buckingham', 'Scott', 'Pitt', 'Lorain', 'San Mateo', 'Gem', 'Hot Spring', 'Valencia', 'Mifflin', 'Archer', 'Fluvanna', 'Shawnee', 'Appling', 'Granite', 'McDowell', 'Barren', 'Ada', 'Turner', 'Ballard', 'Culpeper', 'Martin', 'Muscatine', 'Gooding', 'Freestone', 'Grundy', 'Estill', 'Bristol Bay', 'Mora', 'Starke', 'Garza', 'Norman', 'Laclede', 'Comal', 'Isabella', 'Fannin', 'San Benito', 'Beadle', 'Island', 'Rankin', 'Dickens', 'Hood River', 'Sarpy', 'Newaygo', 'Willacy', 'Sibley', 'Bond', 'Falls Church', 'Sequoyah', 'Pointe Coupee', 'Cloud', 'Shackelford', 'Schoharie', 'Chilton', 'Keith', 'White', 'Quitman', 'Sheridan', 'Izard', 'Schenectady', 'Naranjito', 'Kanabec', 'Luna', 'Worth', 'Wahkiakum', 'Parke', 'Dodge', 'Rio Grande', 'Live Oak', 'Apache', 'Otsego', 'St. Louis', 'Saunders', 'Kalamazoo', 'Gwinnett', 'Las Piedras', 'Keweenaw', 'East Carroll', 'Stutsman', 'Laurens', 'Barnes', 'Palo Pinto', 'Davie', 'Denali', 'Liberty', 'Muskingum', 'Lyon', 'Furnas', 'McCook', 'Poweshiek', 'Modoc', 'Hopewell', 'Marathon', 'Gaston', 'Darke', 'Kiowa', 'Colquitt', 'Haralson', 'St. Francois', 'Washita', 'San Lorenzo', 'Dorchester', 'Stark', 'Kingsbury', 'Campbell', 'McCreary', 'Cowlitz', 'Cottle', 'Bee', 'East Baton Rouge', 'Le Flore', 'Pasco', 'Greenwood', 'Stafford', 'Georgetown', 'Rio Arriba', 'McCormick', 'Sully', 'Candler', 'Hatillo', 'Griggs', 'Hale', 'Botetourt', 'Schuyler', 'Pope', 'Emery', 'Cabell', 'Wilson', 'Lac qui Parle', 'Hillsdale', 'Greenbrier', 'St. Charles', 'Madera', 'Cleveland', 'Oldham', 'Sherburne', 'Randall', 'Philadelphia', 'Pawnee', 'Throckmorton', 'Vega Alta', 'Berrien', 'Talbot', 'Cata�o', 'Acadia', 'Faulkner', 'Rabun', 'St. Francis', 'Wilkinson', 'Patrick', 'Maricao', 'La Paz', 'Calaveras', 'Denver', 'Schuylkill', 'Nelson', 'Pipestone', 'Outagamie', 'Calhoun', 'Llano', 'Pe�uelas', 'Storey', 'Cassia', 'Crittenden', 'Irion', 'Cross', 'Cheshire', 'Cedar', 'Wyoming', 'Houghton', 'Oktibbeha', 'Trego', 'Lauderdale', 'Billings', \"O'Brien\", 'Fillmore', 'Cayey', 'Lampasas', 'McKinley', 'Guilford', 'Auglaize', 'Spink', 'St. Helena', 'Craig', 'Trinity', 'Mingo', 'Clearfield', 'Weld', 'Heard', 'Jayuya', 'Gibson', 'Corozal', 'Fleming', 'Isabela', 'Pacific', 'Shoshone', 'Galveston', 'Newton', 'Obion', 'Abbeville', 'Lumpkin', 'Milam', 'Nantucket', 'Poinsett', 'DeKalb', 'Treasure', 'La Salle', 'Dawes', 'Calvert', 'Mineral', 'Chouteau', 'Sharkey', 'Ripley', 'Hoke', 'Cole', 'Crockett', 'Wilcox', 'Spencer', 'Palm Beach', 'Brevard', 'Moultrie', 'Gallatin', 'Boulder', 'San Joaquin', 'Gasconade', 'Stoddard', 'Bamberg', 'Phillips', 'McKenzie', 'Cannon', 'Breckinridge', 'Kimble', 'Macoupin', 'Unicoi', 'Rensselaer', 'Todd', 'Miami', 'Shawano', 'District of Columbia', 'Montour', 'York', 'Merrick', 'Crow Wing', 'Pushmataha', 'Telfair', 'Routt', 'Westchester', 'Ellsworth', 'Texas', 'Sussex', 'Salinas', 'Wheatland', 'Golden Valley', 'Mills', 'Ottawa', 'Brookings', 'Charles City', 'Genesee', 'Norfolk', 'Torrance', 'Calloway', 'Merced', 'Salt Lake', 'West Baton Rouge', 'Pocahontas', 'Alger', 'Barber', 'Jewell', 'Ashe', 'Pulaski', 'Clay', 'Fajardo', 'Menominee', 'Kauai', 'Richardson', 'Nolan', 'Kingfisher', 'Culberson', 'Scotts Bluff', 'Roberts', 'Nye', 'Conecuh', 'Iberville', 'Converse', 'Utuado', 'Curry', 'Marin', 'Coamo', 'New Haven', 'Wichita', 'Carroll', 'Boundary', 'Frontier', 'El Dorado', 'Juncos', 'Swisher', 'Tattnall', 'St. Croix', 'Plaquemines', 'Claiborne', 'Buchanan', 'Florence', 'DuPage', 'Orangeburg', 'Williams', 'Roane', 'Pine', 'Ritchie', 'Phelps', 'Bradford', 'Kearney', 'Oceana', 'Hardeman', 'Posey', 'Avoyelles', 'Greeley', 'Chemung', 'Bureau', 'Seward', 'Aguadilla', 'Juana D�az', 'Greenville', 'Mohave', 'Hertford', 'Emanuel', 'Hennepin', 'Davison', 'Chambers', 'Minidoka', 'Atlantic', 'Livingston', 'Transylvania', 'Mesa', 'Cabo Rojo', 'LaSalle', 'Allegheny', 'Tulsa', 'Sonoma', 'Pepin', 'Oxford', 'Talladega', 'Gratiot', 'Levy', 'Niobrara', 'Greene', 'Box Butte', 'Andrew', 'Colorado', 'Ouachita', 'Kittson', 'Smith', 'Humphreys', 'Nuckolls', 'Johnson', 'Bowie', 'Perry', 'Gilliam', 'Aurora', 'Hinds', 'Traverse', 'Sevier', 'Gove', 'Amherst', 'Dubois', 'Ware', 'Woodbury', 'Hinsdale', 'Otero', 'Concordia', 'Coffee', 'Osceola', 'Arkansas', 'Bacon', 'Poquoson', 'Divide', 'Pinellas', 'Penobscot', 'Lane', 'Uinta', 'Villalba', 'Schley', 'Hoonah-Angoon', 'Rockwall', 'Gordon', 'Maverick', 'Scioto', 'Palo Alto', 'Pontotoc', 'Bandera', 'Nottoway', 'Eaton', 'Garland', 'Grady', 'Ashley', 'St. Joseph', 'Lake', 'Ingham', 'Ochiltree', 'Providence', 'Dale', 'Brewster', 'Currituck', 'Gregg', 'Navajo', 'Rockingham', 'Champaign', 'Lea', 'Sioux', 'Bienville', 'Catawba', 'Marengo', 'Saginaw', 'Van Wert', 'Kanawha', 'Shasta', 'Menifee', 'Schleicher', 'Jasper', 'Grand Isle', 'Powder River', 'Baker', 'Clarke', 'Benton', 'Gaines', 'Middlesex', 'Amelia', 'Cache', 'Tate', 'R�o Grande', 'Utah', 'Allendale', 'Adjuntas', 'Page', 'Ferry', 'Clarion', 'Sargent', 'Henderson', 'Colleton', 'Walton', 'Guernsey', 'Winneshiek', 'Irwin', 'Foster', 'Oconto', 'Sequatchie', 'Tillman', 'Loudon', 'Flathead', 'Barton', 'Portage', 'Brule', 'Love', 'Gentry', 'New London', 'Langlade', 'Owyhee', 'Pleasants', 'Prentiss', 'Schoolcraft', 'Deaf Smith', 'Onslow', 'Montgomery', 'Pinal', 'Thurston', 'Steele', 'Indiana', 'Fond du Lac', 'Bon Homme', 'Ector', 'Essex', 'Winchester', 'Columbiana', 'Monongalia', 'Edgecombe', 'Piatt', 'Sampson', 'Waseca', 'Christian', 'Kankakee', 'McIntosh', 'King', 'Stanton', 'Bailey', 'King and Queen', 'Elk', 'Yauco', 'Oklahoma', 'McCulloch', 'Barron', 'Faulk', 'Caldwell', 'Scotland', 'Rock Island', 'Highlands', 'Gu�nica', 'Manatee', 'Manistee', 'McMinn', 'Refugio', 'Decatur', 'Laramie', 'Redwood', 'Box Elder', 'Piscataquis', 'Fulton', 'Hubbard', 'Winnebago', 'Tishomingo', 'Tarrant', 'Leelanau', 'Hot Springs', 'Tangipahoa', 'Sharp', 'Fresno', 'Moody', 'Tucker', 'Tipton', 'Red Willow', 'Treutlen', 'Harford', 'Tippah', 'Knox', 'Williamsburg', 'Pittsylvania', 'San Saba', 'Pamlico', 'Centre', 'Morovis', 'Charles Mix', 'Arroyo', 'San Diego', 'Cochran', 'Robertson', 'Rinc�n', 'Spotsylvania', 'Onondaga', 'Dickson', 'Spokane', 'Chelan', 'Freeborn', 'Grayson', 'Barnstable', 'Preble', 'St. James', 'Northampton', 'Barrow', 'Deuel', 'Tom Green', 'Clinch', 'Mecklenburg', 'Yalobusha', 'Vega Baja', 'Clinton', 'Harrison', 'Wexford', 'Burleigh', 'Bell', 'Screven', 'Ascension', 'A�asco', 'Pend Oreille', 'Pembina', 'Atoka', 'Dukes', 'Gonzales', 'Ogemaw', 'Carver', 'Chesapeake', 'Donley', 'Hernando', 'Bosque', 'Montrose', 'Winn', 'Kern', 'Coos', 'Glynn', 'Republic', 'La Crosse', 'Seminole', 'Stillwater', 'Meigs', 'Ward', 'Yakutat', 'Fauquier', 'Kitsap', 'Tolland', 'Orange', 'Barnwell', 'Roosevelt', 'Terrell', 'Van Zandt', 'Sanilac', 'Lynn', 'Prairie', 'Coweta', 'Santa Cruz', 'Iron', 'Madison', 'Bolivar', 'Emmet', 'Bexar', 'Bowman', 'Vigo', 'Allen', 'Fall River', 'Lo�za', 'Burnet', 'Sunflower', 'Kearny', 'Marquette', 'Woods', 'Banner', 'Belmont', 'Ozaukee', 'Snohomish', 'Bledsoe', 'Southeast Fairbanks', 'Sweetwater', 'San Francisco', 'Orleans', 'Santa Rosa', 'Somerset', 'Alcorn', 'Socorro', 'Mason', 'Clermont', 'Kalawao', 'Briscoe', 'Dunklin', 'Nueces', 'Virginia Beach', 'Caguas', 'El Paso', 'East Feliciana', 'Hocking', 'Buncombe', 'Aguada', 'Wilkin', 'Webb', 'Winkler', 'Whitley', 'Howard', 'Rice', 'Maries', 'Cooke', 'Comanche', 'Southampton', 'Larimer', 'Bladen', 'Aibonito', 'Crenshaw', 'Cook', 'Lander', 'Umatilla', 'Mississippi', 'Rockdale', 'Dyer', 'Sterling', 'Allegany', 'Loving', 'Trumbull', 'Cattaraugus', 'Kimball', 'Bullitt', 'Colonial Heights', 'Ponce', 'Stephenson', 'Waushara', 'Miller', 'LaMoure', 'Sublette', 'McCracken', 'Pickens', 'Baraga', 'Hanover', 'Durham', 'Pratt', 'Florida', 'Black Hawk', 'Lancaster', 'Mower', 'Ciales', 'Hidalgo', 'Napa', 'Yamhill', 'Douglas', 'Alameda', 'Burt', 'Orocovis', 'Lafayette', 'Alamance', 'Conway', 'Deschutes', 'Glades', 'Clark', 'Windham', 'Humboldt', 'Neosho', 'Ralls', 'Payette', 'West Feliciana', 'Deer Lodge', 'Ashland', 'Rusk', 'Kings', 'Crowley', 'Catahoula', 'Morris', 'Halifax', 'Logan', 'New York', 'Yuma', 'Chittenden', 'Sawyer', 'Wolfe', 'Gallia', 'Ste. Genevieve', 'Suwannee', 'Teller', 'Rutland', 'Marshall', 'Roanoke', 'Fountain', 'Stephens', 'Meagher', 'Camden', 'Sutter', 'Honolulu', 'Jersey', 'Caledonia', 'Cuyahoga', 'Kenai Peninsula', 'Sumner', 'Spalding', 'Highland', 'Goodhue', 'Monroe', 'St. Johns', 'Eastland', 'Vilas', 'Motley', 'Hall', 'Harrisonburg', 'Ben Hill', 'Doddridge', 'Rockland', 'Victoria', 'Grays Harbor', 'Baltimore', 'Wyandot', 'Summit', 'Breathitt', 'Pueblo', 'Powhatan', 'Butler', 'Cuming', 'Meeker', 'Yates', 'Sangamon', 'Malheur', 'Santa Fe', 'Robeson', 'Berkeley', 'Prince William', 'Wayne', 'Inyo', 'Finney', 'Prince Edward', 'Mitchell', 'Trujillo Alto', 'Murray', 'Woodward', 'Des Moines', 'Carson', 'Tompkins', 'Muskegon', 'Carbon', 'Rich', 'Nacogdoches', 'Union', 'Oakland', 'Gogebic', 'Yellowstone', 'Desha', 'Emmons', 'Hillsborough', 'Klickitat', 'Iroquois', 'Moniteau', 'Becker', 'Adair', 'McCone', 'Grafton', 'Mayes', 'Toombs', 'Craven', 'Elbert', 'Geneva', 'Humacao', 'Graves', 'Esmeralda', 'Trimble', 'New Madrid', 'Alamosa', 'Manat�', 'Perkins', 'Roscommon', 'Braxton', 'Manitowoc', 'Calumet', 'Nassau', 'Piute', 'Bennett', 'Gunnison', 'Bath', 'Saratoga', 'Granville', 'Bland', 'Loudoun', 'Barranquitas', 'Banks', 'Lanier', 'Sierra', 'Latimer', 'Susquehanna', 'James City', 'Bullock', 'McCurtain', 'Warren', 'Edwards', 'Stokes', 'DeSoto', 'Queens', 'Loup', 'Kingman', 'Bossier', 'Tulare', 'Cabarrus', 'Calcasieu', 'Eau Claire', 'Alpena', 'Bartow', 'Pottawatomie', 'Los Alamos', 'Ray', 'Huron', 'LaPorte', 'Mayag�ez', 'McPherson', 'Ohio', 'Plumas', 'Eureka', 'Stewart', 'Jo Daviess', 'Guayama', 'Missaukee', 'De Soto', 'Thomas', 'Okaloosa', 'Kewaunee', 'Jay', 'Chicot', 'Hodgeman', 'Moffat', 'Burlington', 'Ontonagon', 'Blue Earth', 'Upton', 'Butte', 'Dakota', 'Mahaska', 'Berks', 'Story', 'Peoria', 'Sutton', 'Charleston', 'McDonough', 'Bennington', 'Scurry', 'McDonald', 'Person', 'Duval', 'Cimarron', 'Travis', 'Gillespie', 'Chowan', 'Ionia', 'Glascock', 'Milwaukee', 'Green', 'Hawkins', 'Sullivan', 'Lenawee', 'Berkshire', 'Uintah', 'Venango', 'Laurel', 'Blount', 'Morgan', 'Young', 'Limestone', 'Lewis and Clark', 'Taney', 'Dixon', 'Cowley', 'Platte', 'Ontario', 'Carteret', 'Hardy', 'Stearns', 'Trempealeau', 'Garrett', 'Sanders', 'Brown', 'Grimes', 'Bronx', 'Prince of Wales-Hyder', 'Hemphill', 'Brunswick', 'Waukesha', 'Pima', 'Gulf', 'Valdez-Cordova', 'Sanborn', 'Okfuskee', 'Wharton', 'Mathews', 'Rosebud', 'Elko', 'Wrangell', 'Chippewa', 'Hendry', 'Buena Vista', 'Yankton', 'Echols', 'Swain', 'Whitman', 'Lowndes', 'Lynchburg', 'Idaho', 'Broomfield', 'Chisago', 'Garden', 'Taliaferro', 'Pickett', 'Walthall', 'Oliver', 'Lycoming', 'Alfalfa', 'Allegan', 'Rutherford', 'Ziebach', 'Multnomah', 'Shenandoah', 'Red Lake', 'Keokuk', 'Latah', 'Delaware', 'Presidio', 'Yabucoa', 'Carlton', 'Coconino', 'Rappahannock', 'Santa Clara', 'Mono', 'Kenton', 'St. Landry', 'Bonneville', 'Tama', 'Floyd', 'Kay', 'Collin', 'Reeves', 'Tallapoosa', 'San Germ�n', 'Major', 'Marlboro', 'Alleghany', 'Ford', 'Choctaw', 'Morton', 'Riley', 'Lipscomb', 'Rowan', 'Eagle', 'Koochiching', 'Edgar', 'Linn', 'Caribou', 'Wibaux', 'Galax', 'Juniata', 'Rock', 'Juab', 'Vinton', 'New Kent', 'Martinsville', 'Mellette', 'Lajas', 'Bibb', 'Oconee', 'Hand', 'Broward', 'Carolina', 'Jefferson', 'Issaquena', 'Autauga', 'Charlottesville', 'Chaves', 'Seneca', 'Winston', 'Rhea', 'Hempstead', 'Hyde', 'Oneida', 'Sedgwick', 'Arthur', 'Watonwan', 'Chickasaw', 'Lamar', 'Hampden', 'Weston', 'Lake of the Woods', 'Jim Wells', 'Saguache', 'Chenango', 'San Sebasti�n', 'Maunabo', 'Daniels', 'Coleman', 'Fort Bend', 'Churchill', 'Lyman', 'Santa Isabel', 'Anne Arundel', 'Red River', 'Edmonson', 'Sabana Grande', 'Callahan', 'Archuleta', 'Wagoner', 'Trigg', 'Wetzel', 'Vance', 'Musselshell', 'Itawamba', 'Radford', 'Wood', 'Skagit', 'Atascosa', 'Quebradillas', 'Camas', 'Thayer', 'Midland', 'Oscoda', 'Knott', 'Chattooga', 'Daviess', 'Aransas', 'Horry', 'Jim Hogg', 'Yakima', 'Hamblen', 'Bartholomew', 'Yellow Medicine', 'Lafourche', 'Tensas', 'Jack', 'Reagan', 'Culebra', 'Lubbock', 'Yell', 'Wells', 'George', 'Burnett', 'La Plata', 'St. Lucie', 'Foard', 'Carson City', 'Okeechobee', 'Ketchikan Gateway', 'Slope', 'Houston', 'Twiggs', 'Henrico', 'Coahoma', 'Leslie', 'Wilkes', 'Coal', 'Iowa', 'Miami-Dade', 'Hood', 'Lavaca', 'Grand Traverse', 'Prowers', 'Owen', 'Herkimer', 'Guadalupe', 'Athens', 'Manassas Park', 'Cibola', 'Hunterdon', 'Davis', 'Pierce', 'Bourbon', 'Towns', 'Audubon', 'Green Lake', 'Cumberland', 'Pondera', 'Clare', 'DeWitt', 'Graham', 'Lebanon', 'Dutchess', 'Vermilion', 'Chariton', 'Bracken', 'Glasscock', 'Hancock', 'Woodson', 'Nance', 'McKean', 'Cheboygan', 'Big Horn', 'Greenlee', 'Kossuth', 'Yolo', 'Skamania', 'Monmouth', 'Montague', 'Garvin', 'Hughes', 'Cidra', 'Evangeline', 'Plymouth', 'Coke', 'Mecosta', 'Bulloch', 'Antelope', 'Callaway', 'Tyrrell', 'Richland', 'Beaver', \"Prince George's\", 'Hardin', 'Twin Falls', 'Nobles', 'Edgefield', 'De Witt', 'Charlevoix', 'Amador', 'Albany', 'Overton', 'Copiah', 'Pickaway', 'Waupaca', 'Hayes', 'Nemaha', 'Sanpete', 'Evans', 'Traill', 'Glacier', 'Vanderburgh', 'Wyandotte', 'Holt', 'Ozark', 'Cleburne', 'Las Animas', 'Payne', 'Clallam', 'Dinwiddie', 'Concho', 'Clatsop', 'Forest', 'Jennings', 'Hartford', 'Amite', 'Blaine', 'Aroostook', 'San Bernardino', 'Jefferson Davis', 'San Luis Obispo', 'Dickey', 'Tippecanoe', 'Leavenworth', 'Rolette', 'Adams', 'Kenosha', 'Matagorda', 'Williamson', 'Maui', 'Blanco', 'Aitkin', 'Cotton', 'Lapeer', 'Emporia', 'Charles', 'Sandusky', 'Bertie', 'Washington', 'San Jacinto', 'Starr', 'Rockcastle', 'Potter', 'Belknap', 'Yavapai', 'Wirt', 'Hampton', 'LaGrange', 'Letcher', 'Alexandria', 'Leflore', 'Luquillo', 'Nodaway', 'Asotin', 'Dallam', 'Kit Carson', 'Hitchcock', 'Smyth', 'Okanogan', 'Ringgold', 'Noxubee', 'Rains', 'Aguas Buenas', 'Nash', 'Erath', 'Real', 'Wilbarger', 'Appanoose', 'Tuscaloosa', 'Bent', 'Bergen', 'Grand', 'San Juan', 'Frio', 'Toa Alta', 'Swift', 'Rio Blanco', 'Magoffin', 'Yazoo', 'Kosciusko', 'Contra Costa', 'Benson', 'Lehigh', 'Iberia', 'Brantley', 'Siskiyou', 'Atchison', 'Boone', 'Otter Tail', 'Habersham', 'Sandoval', 'Portsmouth', 'Sumter', 'Shiawassee', 'Pitkin', 'Cayuga', 'Morrison', 'Beltrami', 'Meriwether', 'Frederick', 'Gregory', 'Kemper', 'Blackford', 'Walsh', 'Naguabo', 'Anderson', 'Bleckley', 'Grenada', 'Luzerne', 'Fairfield', 'Muhlenberg', 'Waynesboro', 'Beaverhead', 'Oswego', 'Ramsey', 'Meade', 'Roseau', 'Osborne', 'Sitka', 'Watauga', 'Cambria', 'Accomack', 'Caroline', 'Riverside', 'Hart', 'Hudspeth', 'Dallas', 'Toole', 'Hanson', 'Barbour', 'Chatham', 'Manassas', 'Kleberg', 'Fentress', 'Santa Barbara', 'Skagway', 'Pasquotank', 'Charlotte', 'Pennington', 'Millard', 'Bonner', 'Corson', 'McMullen', 'Washoe', 'Audrain', 'Pearl River', 'Bollinger', 'Le Sueur', 'Neshoba', 'Switzerland', 'Runnels', 'Citrus', 'Cottonwood', 'Fisher', 'Canyon', 'Hartley', 'Covington', 'Hamlin', 'Will', 'Castro', 'Harris', 'Pottawattamie', 'Blair', 'Faribault', 'Arenac', 'Niagara', 'Preston', 'Dent', 'Duchesne', 'Bannock', 'Lincoln', 'Haines', 'Wake', 'Chattahoochee', 'Creek', 'Nez Perce', 'Whatcom', 'Bastrop', 'Whiteside', 'Avery', 'Reno', 'Hudson', 'Coles', 'Worcester', 'Peach', 'New Hanover', 'Muscogee', 'Arapahoe', 'St. Bernard', 'Suffolk', 'Alcona', 'Atkinson', 'Wasatch', \"Queen Anne's\", 'Zavala', 'Merrimack', 'Dearborn', 'Wise', 'Montcalm', 'Jeff Davis', 'Boise', 'Louisa'}\n"
     ]
    }
   ],
   "source": [
    "# Make a list of unique county names\n",
    "\n",
    "featureList = data['features']\n",
    "namelist = []\n",
    "\n",
    "for f in featureList:\n",
    "    county_name = f['properties']['NAME']\n",
    "    namelist.append(county_name)\n",
    "    \n",
    "setlist = set(namelist)\n",
    "len(setlist)\n",
    "print(setlist)"
   ]
  },
  {
   "cell_type": "code",
   "execution_count": 107,
   "metadata": {},
   "outputs": [],
   "source": [
    "# Task 2: Find the 3 most common names of the counties. (COUNTY NAME & STATE CODE)"
   ]
  },
  {
   "cell_type": "code",
   "execution_count": 280,
   "metadata": {},
   "outputs": [
    {
     "name": "stdout",
     "output_type": "stream",
     "text": [
      "{'Washington': 32, 'Franklin': 27, 'Jefferson': 27}\n",
      "['08', '12', '05', '17', '19', '23', '24', '29', '47', '40', '41', '55', '49', '50', '20', '18', '21', '27', '13', '01', '22', '16', '36', '37', '31', '28', '42', '39', '44', '51', '48']\n",
      "['13', '01', '18', '16', '21', '19', '28', '36', '48', '05', '12', '22', '23', '25', '17', '20', '29', '47', '31', '37', '42', '39', '51', '51', '53', '50']\n",
      "['17', '13', '19', '41', '08', '05', '12', '20', '21', '01', '22', '28', '16', '18', '29', '47', '48', '36', '40', '31', '30', '42', '39', '54', '55', '53']\n"
     ]
    },
    {
     "data": {
      "text/plain": [
       "26"
      ]
     },
     "execution_count": 280,
     "metadata": {},
     "output_type": "execute_result"
    }
   ],
   "source": [
    "# ANSWER 1: WORK\n",
    "\n",
    "#Create a dictionary\n",
    "featureList = data['features']\n",
    "cntyDict = {}\n",
    "\n",
    "for f in featureList:\n",
    "    dict_name = f['properties']['NAME']\n",
    "\n",
    "    if cntyDict.get(dict_name) is None:\n",
    "        cntyDict.update({dict_name:1})\n",
    "    else:\n",
    "        pass\n",
    "\n",
    "#Create a list\n",
    "featureList = data['features']\n",
    "namelist = []\n",
    "\n",
    "for f in featureList:\n",
    "    county_name = f['properties']['NAME']\n",
    "    namelist.append(county_name)\n",
    "\n",
    "#Compare dictionary and list\n",
    "for new_name in namelist:\n",
    "    if new_name in cntyDict:\n",
    "        cntyDict[new_name] +=1\n",
    "    else:\n",
    "        cntyDict[new_name] = 1\n",
    "\n",
    "#Sort\n",
    "sorted_new_list = sorted(cntyDict.items(), key=lambda x:x[1], reverse=True)\n",
    "top_new_list = sorted_new_list[0:3]\n",
    "converted_newdict = dict(top_new_list)\n",
    "\n",
    "#Answer\n",
    "print(converted_newdict)\n",
    "\n",
    "\n",
    "#Find state code\n",
    "#Washington\n",
    "Washington_List = []\n",
    "\n",
    "for f in featureList:\n",
    "    dict_name2 = f['properties']['NAME']\n",
    "    WA_code = f['properties']['STATE']\n",
    "\n",
    "    if dict_name2 == \"Washington\":\n",
    "        Washington_List.append(WA_code)\n",
    "    else:\n",
    "        pass\n",
    "\n",
    "print(Washington_List)\n",
    "\n",
    "\n",
    "#Franklin\n",
    "Franklin_List = []\n",
    "\n",
    "for f in featureList:\n",
    "    dict_name2 = f['properties']['NAME']\n",
    "    Frank_code = f['properties']['STATE']\n",
    "\n",
    "    if dict_name2 == \"Franklin\":\n",
    "        Franklin_List.append(Frank_code)\n",
    "    else:\n",
    "        pass\n",
    "\n",
    "print(Franklin_List)\n",
    "\n",
    "\n",
    "#Jefferson\n",
    "Jefferson_List = []\n",
    "\n",
    "for f in featureList:\n",
    "    dict_name2 = f['properties']['NAME']\n",
    "    Jeff_code = f['properties']['STATE']\n",
    "\n",
    "    if dict_name2 == \"Jefferson\":\n",
    "        Jefferson_List.append(Jeff_code)\n",
    "    else:\n",
    "        pass\n",
    "\n",
    "print(Jefferson_List)\n",
    "len(Jefferson_List)\n"
   ]
  },
  {
   "cell_type": "code",
   "execution_count": 286,
   "metadata": {},
   "outputs": [
    {
     "name": "stdout",
     "output_type": "stream",
     "text": [
      "One of the three most common county names is Washington.\n",
      "One of the three most common county names is Franklin.\n",
      "One of the three most common county names is Jefferson.\n",
      "\n",
      "States that have the county name of Washington: ['01', '05', '08', '12', '13', '16', '17', '18', '19', '20', '21', '22', '23', '24', '27', '28', '29', '31', '36', '37', '39', '40', '41', '42', '44', '47', '48', '49', '50', '51', '55']\n",
      "States that have the county name of Franklin: ['01', '05', '12', '13', '16', '17', '18', '19', '20', '21', '22', '23', '25', '28', '29', '31', '36', '37', '39', '42', '47', '48', '50', '51', '51', '53']\n",
      "States that have the county name of Jefferson: ['01', '05', '08', '12', '13', '16', '17', '18', '19', '20', '21', '22', '28', '29', '30', '31', '36', '39', '40', '41', '42', '47', '48', '53', '54', '55']\n"
     ]
    }
   ],
   "source": [
    "#ANSWER 1: Formated Final Answer\n",
    "for county2 in converted_newdict.keys():\n",
    "  print(f\"One of the three most common county names is {county2.title()}.\")\n",
    "\n",
    "print(f\"\\nStates that have the county name of Washington: {sorted(Washington_List)}\")\n",
    "print(f\"States that have the county name of Franklin: {sorted(Franklin_List)}\")\n",
    "print(f\"States that have the county name of Jefferson: {sorted(Jefferson_List)}\")"
   ]
  },
  {
   "cell_type": "code",
   "execution_count": 287,
   "metadata": {},
   "outputs": [
    {
     "name": "stdout",
     "output_type": "stream",
     "text": [
      "{'Washington': 31, 'Franklin': 26, 'Jefferson': 26}\n",
      "One of the three most common county names is Washington.\n",
      "One of the three most common county names is Franklin.\n",
      "One of the three most common county names is Jefferson.\n",
      "\n",
      "States that have the county name of Washington: ['01', '05', '08', '12', '13', '16', '17', '18', '19', '20', '21', '22', '23', '24', '27', '28', '29', '31', '36', '37', '39', '40', '41', '42', '44', '47', '48', '49', '50', '51', '55']\n",
      "States that have the county name of Franklin: ['01', '05', '12', '13', '16', '17', '18', '19', '20', '21', '22', '23', '25', '28', '29', '31', '36', '37', '39', '42', '47', '48', '50', '51', '51', '53']\n",
      "States that have the county name of Jefferson: ['01', '05', '08', '12', '13', '16', '17', '18', '19', '20', '21', '22', '28', '29', '30', '31', '36', '39', '40', '41', '42', '47', '48', '53', '54', '55']\n"
     ]
    }
   ],
   "source": [
    "# NOTES\n",
    "# ANSWER 2\n",
    "\n",
    "#Create a list\n",
    "featureList = data['features']\n",
    "namelist = []\n",
    "\n",
    "for f in featureList:\n",
    "    county_name = f['properties']['NAME']\n",
    "    namelist.append(county_name)\n",
    "\n",
    "#Define & use function\n",
    "def countOccurrence(a):\n",
    "  k = {}\n",
    "  for j in a:\n",
    "    if j in k:\n",
    "      k[j] +=1\n",
    "    else:\n",
    "      k[j] =1\n",
    "  return k\n",
    "\n",
    "repeats = countOccurrence(namelist)\n",
    "\n",
    "#Sort\n",
    "sorted_repeats = sorted(repeats.items(), key=lambda x:x[1], reverse=True)\n",
    "top_repeats = sorted_repeats[0:3]\n",
    "converted_repeats = dict(top_repeats)\n",
    "\n",
    "#Answer\n",
    "print(converted_repeats)\n",
    "\n",
    "for county in converted_repeats.keys():\n",
    "  print(f\"One of the three most common county names is {county.title()}.\")\n",
    "\n",
    "print(f\"\\nStates that have the county name of Washington: {sorted(Washington_List)}\")\n",
    "print(f\"States that have the county name of Franklin: {sorted(Franklin_List)}\")\n",
    "print(f\"States that have the county name of Jefferson: {sorted(Jefferson_List)}\")"
   ]
  },
  {
   "cell_type": "code",
   "execution_count": null,
   "metadata": {},
   "outputs": [],
   "source": [
    "#Notes\n",
    "#Set\n",
    "setlist = {}\n",
    "\n",
    "setlist = set(namelist)\n",
    "len(setlist)"
   ]
  }
 ],
 "metadata": {
  "kernelspec": {
   "display_name": "base",
   "language": "python",
   "name": "python3"
  },
  "language_info": {
   "codemirror_mode": {
    "name": "ipython",
    "version": 3
   },
   "file_extension": ".py",
   "mimetype": "text/x-python",
   "name": "python",
   "nbconvert_exporter": "python",
   "pygments_lexer": "ipython3",
   "version": "3.9.13"
  },
  "orig_nbformat": 4,
  "vscode": {
   "interpreter": {
    "hash": "e8a21d808dd2dbf19e8996affc9523669993497fdeccbcdabb7e9e60698cb18e"
   }
  }
 },
 "nbformat": 4,
 "nbformat_minor": 2
}
