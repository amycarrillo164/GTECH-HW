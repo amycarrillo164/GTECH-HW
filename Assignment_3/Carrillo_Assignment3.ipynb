{
 "cells": [
  {
   "cell_type": "markdown",
   "metadata": {},
   "source": [
    "# Assignment 1"
   ]
  },
  {
   "cell_type": "code",
   "execution_count": 190,
   "metadata": {},
   "outputs": [],
   "source": [
    "#Trying out list comprehensions"
   ]
  },
  {
   "attachments": {},
   "cell_type": "markdown",
   "metadata": {},
   "source": [
    "### Part 1. Generate a list of random numbers using random module in Python"
   ]
  },
  {
   "cell_type": "code",
   "execution_count": 191,
   "metadata": {},
   "outputs": [
    {
     "name": "stdout",
     "output_type": "stream",
     "text": [
      "[16, 18, 75, 31, 94, 95, 99, 59, 60, 34, 98, 78, 6, 71, 51, 86, 1, 82, 79, 3, 19, 81, 22, 23, 52, 32, 4, 71, 64, 31, 90, 65, 69, 21, 92, 67, 8, 28, 38, 50, 57, 69, 6, 61, 43, 24, 12, 38, 69]\n"
     ]
    }
   ],
   "source": [
    "# Original\n",
    "import random\n",
    "random_lst = []\n",
    "\n",
    "for i in range (1, 50):\n",
    "    random_lst.append(random.randint(0,100))\n",
    "    \n",
    "print(random_lst)"
   ]
  },
  {
   "cell_type": "code",
   "execution_count": 192,
   "metadata": {},
   "outputs": [
    {
     "name": "stdout",
     "output_type": "stream",
     "text": [
      "Random number list is : [76, 29, 3, 73, 6, 37, 88, 10, 27, 7, 44, 70, 10, 71, 63, 70, 7, 43, 5, 51, 52, 13, 37, 43, 60, 28, 28, 89, 91, 19, 17, 32, 52, 94, 11, 62, 22, 46, 70, 65, 21, 17, 20, 64, 27, 17, 95, 48, 95, 13]\n"
     ]
    }
   ],
   "source": [
    "#List Comprehension [ASSIGNMENT 3 CHNAGE]\n",
    "import random\n",
    "res = [random.randrange(1,100,1) for i in range(50)]\n",
    "print (\"Random number list is : \" +  str(res))"
   ]
  },
  {
   "cell_type": "markdown",
   "metadata": {},
   "source": [
    "### Part 2. Calculate the mean & variance value for the list by looping through its element"
   ]
  },
  {
   "cell_type": "code",
   "execution_count": 193,
   "metadata": {},
   "outputs": [
    {
     "name": "stdout",
     "output_type": "stream",
     "text": [
      "42.76\n"
     ]
    }
   ],
   "source": [
    "#Original\n",
    "total_num = 0\n",
    "for i in res:\n",
    "    total_num += i\n",
    "mean = total_num / len(res)\n",
    "print(mean)"
   ]
  },
  {
   "cell_type": "code",
   "execution_count": 194,
   "metadata": {},
   "outputs": [
    {
     "name": "stdout",
     "output_type": "stream",
     "text": [
      "42.76\n"
     ]
    }
   ],
   "source": [
    "#List Comprehension [ASSIGNMENT 3 CHANGE]\n",
    "total_num_lc = 0\n",
    "total_num_lc_mean = (sum(total_num_lc + i for i in res))/len(res)\n",
    "print(total_num_lc_mean)"
   ]
  },
  {
   "cell_type": "markdown",
   "metadata": {},
   "source": [
    "### Calculate the variance of the list"
   ]
  },
  {
   "cell_type": "code",
   "execution_count": 195,
   "metadata": {},
   "outputs": [
    {
     "name": "stdout",
     "output_type": "stream",
     "text": [
      "797.2065306122448\n"
     ]
    }
   ],
   "source": [
    "#Original\n",
    "top = 0\n",
    "\n",
    "for i in res:\n",
    "    top += pow(i-mean, 2)\n",
    "\n",
    "bottom = len(res)-1\n",
    "\n",
    "variance = top/bottom\n",
    "print(variance)"
   ]
  },
  {
   "cell_type": "code",
   "execution_count": 196,
   "metadata": {},
   "outputs": [
    {
     "name": "stdout",
     "output_type": "stream",
     "text": [
      "797.2065306122448\n"
     ]
    }
   ],
   "source": [
    "#List comprehension [ASSIGNMENT 3 CHANGE]\n",
    "top2 = [(i - mean)** 2 for i in res]\n",
    "variance2 = sum(top2)/(len(res)-1)\n",
    "print(variance2)"
   ]
  },
  {
   "cell_type": "markdown",
   "metadata": {},
   "source": [
    "# Assignment 2"
   ]
  },
  {
   "cell_type": "code",
   "execution_count": 197,
   "metadata": {},
   "outputs": [],
   "source": [
    "#Trying out functions"
   ]
  },
  {
   "attachments": {},
   "cell_type": "markdown",
   "metadata": {},
   "source": [
    "## Task 1"
   ]
  },
  {
   "cell_type": "code",
   "execution_count": 198,
   "metadata": {},
   "outputs": [],
   "source": [
    "import json"
   ]
  },
  {
   "cell_type": "code",
   "execution_count": 199,
   "metadata": {},
   "outputs": [
    {
     "name": "stdout",
     "output_type": "stream",
     "text": [
      "Number of Counties in US: 3221\n",
      "First entry is Wade Hampton\n"
     ]
    }
   ],
   "source": [
    "# Original\n",
    "import requests, json\n",
    "url = \"https://eric.clst.org/assets/wiki/uploads/Stuff/gz_2010_us_050_00_5m.json\"\n",
    "\n",
    "with requests.get(url) as response:\n",
    "    data = response.json()\n",
    "print('Number of Counties in US: ' + str(len(data['features'])))\n",
    "print('First entry is {}'.format(data['features'][1]['properties']['NAME']))"
   ]
  },
  {
   "cell_type": "code",
   "execution_count": 216,
   "metadata": {},
   "outputs": [],
   "source": [
    "# get_data Function [ASSIGNMENT 3 CHANGE]\n",
    "import requests, json\n",
    "def get_data(url):\n",
    "    with requests.get(url) as response:\n",
    "        return response.json()\n",
    "    \n",
    "url = \"https://eric.clst.org/assets/wiki/uploads/Stuff/gz_2010_us_050_00_5m.json\"\n",
    "#get_data(url)"
   ]
  },
  {
   "attachments": {},
   "cell_type": "markdown",
   "metadata": {},
   "source": [
    "## Task 2\n",
    "Find the 3 most common names of counties. List the name and state code."
   ]
  },
  {
   "attachments": {},
   "cell_type": "markdown",
   "metadata": {},
   "source": [
    "### Part 1. Common Names"
   ]
  },
  {
   "cell_type": "code",
   "execution_count": 201,
   "metadata": {},
   "outputs": [],
   "source": [
    "#Create a list\n",
    "featureList = data['features']\n",
    "nameList = []\n",
    "\n",
    "for f in featureList:\n",
    "    county_name = f['properties']['NAME']\n",
    "    nameList.append(county_name)"
   ]
  },
  {
   "cell_type": "code",
   "execution_count": 202,
   "metadata": {},
   "outputs": [],
   "source": [
    "#Creating the \"common_names\" function [ASSIGNMENT 3 CHANGE]\n",
    "def common_names(nameList):\n",
    "  common_names_dict = {}\n",
    "  for name in nameList:\n",
    "    if name in common_names_dict:\n",
    "      common_names_dict[name] +=1\n",
    "    else:\n",
    "      common_names_dict[name] =1\n",
    "  return common_names_dict\n",
    "\n",
    "repeats = common_names(nameList)"
   ]
  },
  {
   "cell_type": "code",
   "execution_count": 203,
   "metadata": {},
   "outputs": [
    {
     "name": "stdout",
     "output_type": "stream",
     "text": [
      "{'Washington': 31, 'Franklin': 26, 'Jefferson': 26}\n",
      "One of the three most common county names is Washington.\n",
      "One of the three most common county names is Franklin.\n",
      "One of the three most common county names is Jefferson.\n"
     ]
    }
   ],
   "source": [
    "#Sort\n",
    "sorted_repeats = sorted(repeats.items(), key=lambda x:x[1], reverse=True)\n",
    "top_repeats = sorted_repeats[0:3]\n",
    "converted_repeats = dict(top_repeats)\n",
    "\n",
    "#Answer\n",
    "print(converted_repeats)\n",
    "\n",
    "for county in converted_repeats.keys():\n",
    "  print(f\"One of the three most common county names is {county.title()}.\")"
   ]
  },
  {
   "attachments": {},
   "cell_type": "markdown",
   "metadata": {},
   "source": [
    "### Part 2. State codes"
   ]
  },
  {
   "cell_type": "code",
   "execution_count": 204,
   "metadata": {},
   "outputs": [],
   "source": [
    "#Creating a function [ASSIGNMENT 3 CHANGE]\n",
    "#Creating the function find_state_codes\n",
    "featureList = data['features']\n",
    "\n",
    "def find_state_code(sc):\n",
    "    Repeats3_List = []\n",
    "\n",
    "    for f in featureList:\n",
    "        properties = f['properties']\n",
    "        county_name = properties['NAME']\n",
    "        state_code = properties['STATE']\n",
    "        \n",
    "        if county_name == (sc):\n",
    "            Repeats3_List.append(state_code)\n",
    "        else:\n",
    "            pass\n",
    "\n",
    "    return Repeats3_List\n"
   ]
  },
  {
   "cell_type": "code",
   "execution_count": 205,
   "metadata": {},
   "outputs": [
    {
     "name": "stdout",
     "output_type": "stream",
     "text": [
      " The number of states that have the county name of Washington is 31.\n",
      " State codes: ['01', '05', '08', '12', '13', '16', '17', '18', '19', '20', '21', '22', '23', '24', '27', '28', '29', '31', '36', '37', '39', '40', '41', '42', '44', '47', '48', '49', '50', '51', '55']\n"
     ]
    }
   ],
   "source": [
    "Washington_list = find_state_code(\"Washington\")\n",
    "print(f\" The number of states that have the county name of Washington is {len(Washington_list)}.\\n State codes: {sorted(Washington_list)}\")"
   ]
  },
  {
   "cell_type": "code",
   "execution_count": 206,
   "metadata": {},
   "outputs": [
    {
     "name": "stdout",
     "output_type": "stream",
     "text": [
      " The number of states that have the county name of Franklin is 26.\n",
      " State codes: ['01', '05', '12', '13', '16', '17', '18', '19', '20', '21', '22', '23', '25', '28', '29', '31', '36', '37', '39', '42', '47', '48', '50', '51', '51', '53']\n"
     ]
    }
   ],
   "source": [
    "Franklin_list = find_state_code(\"Franklin\")\n",
    "print(f\" The number of states that have the county name of Franklin is {len(Franklin_list)}.\\n State codes: {sorted(Franklin_list)}\")"
   ]
  },
  {
   "cell_type": "code",
   "execution_count": 207,
   "metadata": {},
   "outputs": [
    {
     "name": "stdout",
     "output_type": "stream",
     "text": [
      " The number of states that have the county name of Jefferson is 26.\n",
      " State codes: ['01', '05', '08', '12', '13', '16', '17', '18', '19', '20', '21', '22', '28', '29', '30', '31', '36', '39', '40', '41', '42', '47', '48', '53', '54', '55']\n"
     ]
    }
   ],
   "source": [
    "Jefferson_list = find_state_code(\"Jefferson\")\n",
    "print(f\" The number of states that have the county name of Jefferson is {len(Jefferson_list)}.\\n State codes: {sorted(Jefferson_list)}\")"
   ]
  },
  {
   "attachments": {},
   "cell_type": "markdown",
   "metadata": {},
   "source": [
    "## Task 3: Basic statistics by state\n",
    "\n",
    "### For each state find:\n",
    "- Number of counties\n",
    "- Name and size (census area) of the biggest and smallest county by area\n",
    "- Find the total and average area of counties"
   ]
  },
  {
   "cell_type": "code",
   "execution_count": 208,
   "metadata": {},
   "outputs": [
    {
     "name": "stdout",
     "output_type": "stream",
     "text": [
      "{'02': 29, '04': 15, '05': 75, '08': 64, '09': 8, '12': 67, '13': 159, '06': 58, '01': 67, '17': 102, '18': 92, '19': 99, '15': 5, '16': 44, '20': 105, '21': 120, '22': 64, '26': 83, '27': 87, '28': 82, '23': 16, '24': 24, '25': 14, '30': 56, '31': 93, '32': 17, '33': 10, '34': 21, '35': 33, '29': 115, '37': 100, '38': 53, '39': 88, '40': 77, '36': 62, '45': 46, '46': 66, '47': 95, '41': 36, '42': 67, '48': 254, '49': 29, '53': 39, '54': 55, '55': 72, '56': 23, '72': 78, '50': 14, '51': 134, '10': 3, '11': 1, '44': 5}\n"
     ]
    }
   ],
   "source": [
    "#Number of counties (Original...Didn't think it would benefit from a change)\n",
    "state_dict_counties = {}\n",
    "\n",
    "for element in data['features']:\n",
    "  properties = element['properties']\n",
    "  state_code = properties['STATE']\n",
    "  state_dict_counties[state_code] = state_dict_counties.get(state_code, 0) + 1\n",
    "\n",
    "print(state_dict_counties)"
   ]
  },
  {
   "cell_type": "code",
   "execution_count": 209,
   "metadata": {},
   "outputs": [],
   "source": [
    "#Created functions for every section [EVERYHTING BELOW IS AN ASSIGNMENT 3 CHANGE]\n",
    "    # Name and size (census area) of the biggest and smallest county by area\n",
    "    # Find the total and average area of counties"
   ]
  },
  {
   "cell_type": "code",
   "execution_count": 210,
   "metadata": {},
   "outputs": [],
   "source": [
    "#sort_counties function\n",
    "def sort_counties(counties):\n",
    "    counties = sorted(counties.items(),key=lambda item: item[1])\n",
    "    smallest = counties[0]\n",
    "    biggest = counties[len(counties)-1]\n",
    "    return f'\\n{smallest[0]} is the smallest county with area: {smallest[1]}\\n{biggest[0]} is the biggest county with area: {biggest[1]}'"
   ]
  },
  {
   "cell_type": "code",
   "execution_count": 211,
   "metadata": {},
   "outputs": [],
   "source": [
    "#get_counties_by_state function\n",
    "def get_counties_by_state(data):\n",
    "    states = {}\n",
    "\n",
    "    for element in data['features']:\n",
    "        properties = element['properties']\n",
    "        state = properties['STATE']\n",
    "\n",
    "        if state not in states:\n",
    "            states[state] = {}\n",
    "            states[state][properties['NAME']] = properties['CENSUSAREA']\n",
    "        else:\n",
    "            states[state][properties['NAME']] = properties['CENSUSAREA']\n",
    "    return states\n",
    "\n"
   ]
  },
  {
   "cell_type": "code",
   "execution_count": 212,
   "metadata": {},
   "outputs": [],
   "source": [
    "#get_smallest_and_largest_county_by_state function\n",
    "def get_smallest_and_largest_county_by_state(states):\n",
    "    for state in states:\n",
    "        result = sort_counties(states[state])\n",
    "        #reuslt is a string with info on the smallest and largest\n",
    "        print(f'For state{state}: {result}\\n')"
   ]
  },
  {
   "cell_type": "code",
   "execution_count": 213,
   "metadata": {},
   "outputs": [],
   "source": [
    "#get_total_and_avg_area_by_state function\n",
    "def  get_total_and_avg_area_by_state(states):\n",
    "    for state in states:\n",
    "        counties = states[state]\n",
    "        #calculate total\n",
    "        total = 0\n",
    "        for area in counties.values():\n",
    "            total += area\n",
    "        #calculate avegerage\n",
    "        avg = total/len(counties)\n",
    "        print(f'For state {state}, the total area is {round(total, 2)} with an average county size of {round(avg, 2)}')"
   ]
  },
  {
   "cell_type": "code",
   "execution_count": 214,
   "metadata": {},
   "outputs": [],
   "source": [
    "#Answer the questions function\n",
    "def answer_states_questions():\n",
    "    url = \"https://eric.clst.org/assets/wiki/uploads/Stuff/gz_2010_us_050_00_5m.json\"\n",
    "    data = get_data(url)\n",
    "    states = get_counties_by_state(data)\n",
    "\n",
    "    # part 2: For each state, find the name and size (census area) of the biggest and smallest county by area\n",
    "    get_smallest_and_largest_county_by_state(states)\n",
    "\n",
    "    # part 3: For each state, the total and average area of counties\n",
    "    get_total_and_avg_area_by_state(states)"
   ]
  },
  {
   "cell_type": "code",
   "execution_count": 215,
   "metadata": {},
   "outputs": [
    {
     "name": "stdout",
     "output_type": "stream",
     "text": [
      "For state02: \n",
      "Skagway is the smallest county with area: 452.325\n",
      "Yukon-Koyukuk is the biggest county with area: 145504.789\n",
      "\n",
      "For state04: \n",
      "Santa Cruz is the smallest county with area: 1236.916\n",
      "Coconino is the biggest county with area: 18618.885\n",
      "\n",
      "For state05: \n",
      "Lafayette is the smallest county with area: 528.268\n",
      "Union is the biggest county with area: 1039.214\n",
      "\n",
      "For state08: \n",
      "Broomfield is the smallest county with area: 33.034\n",
      "Las Animas is the biggest county with area: 4772.672\n",
      "\n",
      "For state09: \n",
      "Middlesex is the smallest county with area: 369.301\n",
      "Litchfield is the biggest county with area: 920.56\n",
      "\n",
      "For state12: \n",
      "Union is the smallest county with area: 243.556\n",
      "Collier is the biggest county with area: 1998.324\n",
      "\n",
      "For state13: \n",
      "Clarke is the smallest county with area: 119.2\n",
      "Ware is the biggest county with area: 892.461\n",
      "\n",
      "For state06: \n",
      "San Francisco is the smallest county with area: 46.873\n",
      "San Bernardino is the biggest county with area: 20056.938\n",
      "\n",
      "For state01: \n",
      "Etowah is the smallest county with area: 534.991\n",
      "Baldwin is the biggest county with area: 1589.784\n",
      "\n",
      "For state17: \n",
      "Putnam is the smallest county with area: 160.161\n",
      "McLean is the biggest county with area: 1183.378\n",
      "\n",
      "For state18: \n",
      "Ohio is the smallest county with area: 86.14\n",
      "Allen is the biggest county with area: 657.308\n",
      "\n",
      "For state19: \n",
      "Dickinson is the smallest county with area: 380.606\n",
      "Kossuth is the biggest county with area: 972.72\n",
      "\n",
      "For state15: \n",
      "Kalawao is the smallest county with area: 11.991\n",
      "Hawaii is the biggest county with area: 4028.417\n",
      "\n",
      "For state16: \n",
      "Payette is the smallest county with area: 406.867\n",
      "Idaho is the biggest county with area: 8477.352\n",
      "\n",
      "For state20: \n",
      "Wyandotte is the smallest county with area: 151.6\n",
      "Butler is the biggest county with area: 1429.863\n",
      "\n",
      "For state21: \n",
      "Robertson is the smallest county with area: 99.911\n",
      "Pike is the biggest county with area: 786.833\n",
      "\n",
      "For state22: \n",
      "Orleans is the smallest county with area: 169.423\n",
      "Vernon is the biggest county with area: 1327.91\n",
      "\n",
      "For state26: \n",
      "Benzie is the smallest county with area: 319.704\n",
      "Marquette is the biggest county with area: 1808.401\n",
      "\n",
      "For state27: \n",
      "Ramsey is the smallest county with area: 152.212\n",
      "St. Louis is the biggest county with area: 6247.401\n",
      "\n",
      "For state28: \n",
      "Alcorn is the smallest county with area: 400.038\n",
      "Yazoo is the biggest county with area: 922.947\n",
      "\n",
      "For state23: \n",
      "Sagadahoc is the smallest county with area: 253.695\n",
      "Aroostook is the biggest county with area: 6671.33\n",
      "\n",
      "For state24: \n",
      "Baltimore is the smallest county with area: 80.944\n",
      "Frederick is the biggest county with area: 660.221\n",
      "\n",
      "For state25: \n",
      "Nantucket is the smallest county with area: 44.97\n",
      "Worcester is the biggest county with area: 1510.77\n",
      "\n",
      "For state30: \n",
      "Silver Bow is the smallest county with area: 718.477\n",
      "Beaverhead is the biggest county with area: 5541.624\n",
      "\n",
      "For state31: \n",
      "Sarpy is the smallest county with area: 238.99\n",
      "Cherry is the biggest county with area: 5960.422\n",
      "\n",
      "For state32: \n",
      "Carson City is the smallest county with area: 144.662\n",
      "Nye is the biggest county with area: 18181.924\n",
      "\n",
      "For state33: \n",
      "Strafford is the smallest county with area: 368.975\n",
      "Coos is the biggest county with area: 1794.685\n",
      "\n",
      "For state34: \n",
      "Hudson is the smallest county with area: 46.191\n",
      "Burlington is the biggest county with area: 798.576\n",
      "\n",
      "For state35: \n",
      "Los Alamos is the smallest county with area: 109.167\n",
      "Catron is the biggest county with area: 6923.69\n",
      "\n",
      "For state29: \n",
      "St. Louis is the smallest county with area: 61.909\n",
      "Texas is the biggest county with area: 1177.266\n",
      "\n",
      "For state37: \n",
      "Chowan is the smallest county with area: 172.473\n",
      "Robeson is the biggest county with area: 949.221\n",
      "\n",
      "For state38: \n",
      "Eddy is the smallest county with area: 630.171\n",
      "McKenzie is the biggest county with area: 2760.323\n",
      "\n",
      "For state39: \n",
      "Lake is the smallest county with area: 227.493\n",
      "Ashtabula is the biggest county with area: 701.931\n",
      "\n",
      "For state40: \n",
      "Marshall is the smallest county with area: 371.08\n",
      "Osage is the biggest county with area: 2246.358\n",
      "\n",
      "For state36: \n",
      "New York is the smallest county with area: 22.829\n",
      "St. Lawrence is the biggest county with area: 2680.377\n",
      "\n",
      "For state45: \n",
      "McCormick is the smallest county with area: 359.13\n",
      "Horry is the biggest county with area: 1133.896\n",
      "\n",
      "For state46: \n",
      "Clay is the smallest county with area: 412.185\n",
      "Meade is the biggest county with area: 3470.984\n",
      "\n",
      "For state47: \n",
      "Trousdale is the smallest county with area: 114.193\n",
      "Shelby is the biggest county with area: 763.174\n",
      "\n",
      "For state41: \n",
      "Multnomah is the smallest county with area: 431.297\n",
      "Harney is the biggest county with area: 10133.17\n",
      "\n",
      "For state42: \n",
      "Montour is the smallest county with area: 130.242\n",
      "Lycoming is the biggest county with area: 1228.594\n",
      "\n",
      "For state48: \n",
      "Rockwall is the smallest county with area: 127.036\n",
      "Brewster is the biggest county with area: 6183.733\n",
      "\n",
      "For state49: \n",
      "Davis is the smallest county with area: 298.778\n",
      "San Juan is the biggest county with area: 7819.988\n",
      "\n",
      "For state53: \n",
      "San Juan is the smallest county with area: 173.915\n",
      "Okanogan is the biggest county with area: 5267.978\n",
      "\n",
      "For state54: \n",
      "Hancock is the smallest county with area: 82.609\n",
      "Randolph is the biggest county with area: 1039.681\n",
      "\n",
      "For state55: \n",
      "Pepin is the smallest county with area: 231.983\n",
      "Marathon is the biggest county with area: 1544.983\n",
      "\n",
      "For state56: \n",
      "Hot Springs is the smallest county with area: 2004.092\n",
      "Sweetwater is the biggest county with area: 10426.649\n",
      "\n",
      "For state72: \n",
      "Cata�o is the smallest county with area: 4.845\n",
      "Arecibo is the biggest county with area: 125.947\n",
      "\n",
      "For state50: \n",
      "Grand Isle is the smallest county with area: 81.811\n",
      "Windsor is the biggest county with area: 969.337\n",
      "\n",
      "For state51: \n",
      "Falls Church is the smallest county with area: 1.999\n",
      "Pittsylvania is the biggest county with area: 968.941\n",
      "\n",
      "For state10: \n",
      "New Castle is the smallest county with area: 426.286\n",
      "Sussex is the biggest county with area: 936.079\n",
      "\n",
      "For state11: \n",
      "District of Columbia is the smallest county with area: 61.048\n",
      "District of Columbia is the biggest county with area: 61.048\n",
      "\n",
      "For state44: \n",
      "Bristol is the smallest county with area: 24.164\n",
      "Providence is the biggest county with area: 409.502\n",
      "\n",
      "For state 02, the total area is 570640.95 with an average county size of 19677.27\n",
      "For state 04, the total area is 113594.09 with an average county size of 7572.94\n",
      "For state 05, the total area is 52035.48 with an average county size of 693.81\n",
      "For state 08, the total area is 103641.89 with an average county size of 1619.4\n",
      "For state 09, the total area is 4842.36 with an average county size of 605.29\n",
      "For state 12, the total area is 53624.76 with an average county size of 800.37\n",
      "For state 13, the total area is 57513.49 with an average county size of 361.72\n",
      "For state 06, the total area is 155779.22 with an average county size of 2685.85\n",
      "For state 01, the total area is 50645.33 with an average county size of 755.9\n",
      "For state 17, the total area is 55518.93 with an average county size of 544.3\n",
      "For state 18, the total area is 35826.11 with an average county size of 389.41\n",
      "For state 19, the total area is 55857.13 with an average county size of 564.21\n",
      "For state 15, the total area is 6422.63 with an average county size of 1284.53\n",
      "For state 16, the total area is 82643.12 with an average county size of 1878.25\n",
      "For state 20, the total area is 81758.72 with an average county size of 778.65\n",
      "For state 21, the total area is 39486.33 with an average county size of 329.05\n",
      "For state 22, the total area is 43203.91 with an average county size of 675.06\n",
      "For state 26, the total area is 56538.9 with an average county size of 681.19\n",
      "For state 27, the total area is 79626.74 with an average county size of 915.25\n",
      "For state 28, the total area is 46923.27 with an average county size of 572.24\n",
      "For state 23, the total area is 30842.92 with an average county size of 1927.68\n",
      "For state 24, the total area is 9108.94 with an average county size of 396.04\n",
      "For state 25, the total area is 7800.06 with an average county size of 557.15\n",
      "For state 30, the total area is 145545.8 with an average county size of 2599.03\n",
      "For state 31, the total area is 76824.18 with an average county size of 826.07\n",
      "For state 32, the total area is 109781.18 with an average county size of 6457.72\n",
      "For state 33, the total area is 8952.65 with an average county size of 895.26\n",
      "For state 34, the total area is 7354.22 with an average county size of 350.2\n",
      "For state 35, the total area is 121298.15 with an average county size of 3675.7\n",
      "For state 29, the total area is 68233.73 with an average county size of 598.54\n",
      "For state 37, the total area is 48617.9 with an average county size of 486.18\n",
      "For state 38, the total area is 69000.8 with an average county size of 1301.9\n",
      "For state 39, the total area is 40860.7 with an average county size of 464.33\n",
      "For state 40, the total area is 68594.92 with an average county size of 890.84\n",
      "For state 36, the total area is 47126.39 with an average county size of 760.1\n",
      "For state 45, the total area is 30060.7 with an average county size of 653.49\n",
      "For state 46, the total area is 75811.0 with an average county size of 1148.65\n",
      "For state 47, the total area is 41234.89 with an average county size of 434.05\n",
      "For state 41, the total area is 95988.01 with an average county size of 2666.33\n",
      "For state 42, the total area is 44742.7 with an average county size of 667.8\n",
      "For state 48, the total area is 261231.71 with an average county size of 1028.47\n",
      "For state 49, the total area is 82169.62 with an average county size of 2833.44\n",
      "For state 53, the total area is 66455.52 with an average county size of 1703.99\n",
      "For state 54, the total area is 24038.21 with an average county size of 437.06\n",
      "For state 55, the total area is 54157.8 with an average county size of 752.19\n",
      "For state 56, the total area is 97093.14 with an average county size of 4221.44\n",
      "For state 72, the total area is 3423.78 with an average county size of 43.89\n",
      "For state 50, the total area is 9216.66 with an average county size of 658.33\n",
      "For state 51, the total area is 38167.76 with an average county size of 295.87\n",
      "For state 10, the total area is 1948.54 with an average county size of 649.51\n",
      "For state 11, the total area is 61.05 with an average county size of 61.05\n",
      "For state 44, the total area is 1033.82 with an average county size of 206.76\n"
     ]
    }
   ],
   "source": [
    "answer_states_questions()"
   ]
  }
 ],
 "metadata": {
  "kernelspec": {
   "display_name": "base",
   "language": "python",
   "name": "python3"
  },
  "language_info": {
   "codemirror_mode": {
    "name": "ipython",
    "version": 3
   },
   "file_extension": ".py",
   "mimetype": "text/x-python",
   "name": "python",
   "nbconvert_exporter": "python",
   "pygments_lexer": "ipython3",
   "version": "3.9.13"
  },
  "orig_nbformat": 4,
  "vscode": {
   "interpreter": {
    "hash": "e8a21d808dd2dbf19e8996affc9523669993497fdeccbcdabb7e9e60698cb18e"
   }
  }
 },
 "nbformat": 4,
 "nbformat_minor": 2
}
