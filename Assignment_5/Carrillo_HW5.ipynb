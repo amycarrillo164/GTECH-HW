{
 "cells": [
  {
   "attachments": {},
   "cell_type": "markdown",
   "metadata": {},
   "source": [
    "## Task 1\n",
    "Install the plotly and other data visualization packages using either pip or conda."
   ]
  },
  {
   "cell_type": "code",
   "execution_count": 1,
   "metadata": {},
   "outputs": [
    {
     "name": "stdout",
     "output_type": "stream",
     "text": [
      "Requirement already satisfied: jupyterlab>=3 in c:\\users\\amyca\\anaconda3\\lib\\site-packages (3.4.4)\n",
      "Requirement already satisfied: ipywidgets>=7.6 in c:\\users\\amyca\\anaconda3\\lib\\site-packages (7.6.5)\n",
      "Requirement already satisfied: jupyterlab-server~=2.10 in c:\\users\\amyca\\anaconda3\\lib\\site-packages (from jupyterlab>=3) (2.10.3)\n",
      "Requirement already satisfied: ipython in c:\\users\\amyca\\anaconda3\\lib\\site-packages (from jupyterlab>=3) (7.31.1)\n",
      "Requirement already satisfied: jupyter-server~=1.16 in c:\\users\\amyca\\anaconda3\\lib\\site-packages (from jupyterlab>=3) (1.18.1)\n",
      "Requirement already satisfied: nbclassic in c:\\users\\amyca\\anaconda3\\lib\\site-packages (from jupyterlab>=3) (0.3.5)\n",
      "Requirement already satisfied: packaging in c:\\users\\amyca\\anaconda3\\lib\\site-packages (from jupyterlab>=3) (21.3)\n",
      "Requirement already satisfied: jinja2>=2.1 in c:\\users\\amyca\\anaconda3\\lib\\site-packages (from jupyterlab>=3) (2.11.3)\n",
      "Requirement already satisfied: notebook<7 in c:\\users\\amyca\\anaconda3\\lib\\site-packages (from jupyterlab>=3) (6.4.12)\n",
      "Requirement already satisfied: jupyter-core in c:\\users\\amyca\\anaconda3\\lib\\site-packages (from jupyterlab>=3) (4.11.1)\n",
      "Requirement already satisfied: tornado>=6.1.0 in c:\\users\\amyca\\anaconda3\\lib\\site-packages (from jupyterlab>=3) (6.1)\n",
      "Requirement already satisfied: nbformat>=4.2.0 in c:\\users\\amyca\\anaconda3\\lib\\site-packages (from ipywidgets>=7.6) (5.5.0)\n",
      "Requirement already satisfied: ipykernel>=4.5.1 in c:\\users\\amyca\\anaconda3\\lib\\site-packages (from ipywidgets>=7.6) (6.15.2)\n",
      "Requirement already satisfied: widgetsnbextension~=3.5.0 in c:\\users\\amyca\\anaconda3\\lib\\site-packages (from ipywidgets>=7.6) (3.5.2)\n",
      "Requirement already satisfied: ipython-genutils~=0.2.0 in c:\\users\\amyca\\anaconda3\\lib\\site-packages (from ipywidgets>=7.6) (0.2.0)\n",
      "Requirement already satisfied: jupyterlab-widgets>=1.0.0 in c:\\users\\amyca\\anaconda3\\lib\\site-packages (from ipywidgets>=7.6) (1.0.0)\n",
      "Requirement already satisfied: traitlets>=4.3.1 in c:\\users\\amyca\\anaconda3\\lib\\site-packages (from ipywidgets>=7.6) (5.1.1)\n",
      "Requirement already satisfied: nest-asyncio in c:\\users\\amyca\\anaconda3\\lib\\site-packages (from ipykernel>=4.5.1->ipywidgets>=7.6) (1.5.5)\n",
      "Requirement already satisfied: psutil in c:\\users\\amyca\\anaconda3\\lib\\site-packages (from ipykernel>=4.5.1->ipywidgets>=7.6) (5.9.0)\n",
      "Requirement already satisfied: debugpy>=1.0 in c:\\users\\amyca\\anaconda3\\lib\\site-packages (from ipykernel>=4.5.1->ipywidgets>=7.6) (1.5.1)\n",
      "Requirement already satisfied: jupyter-client>=6.1.12 in c:\\users\\amyca\\anaconda3\\lib\\site-packages (from ipykernel>=4.5.1->ipywidgets>=7.6) (7.3.4)\n",
      "Requirement already satisfied: pyzmq>=17 in c:\\users\\amyca\\anaconda3\\lib\\site-packages (from ipykernel>=4.5.1->ipywidgets>=7.6) (23.2.0)\n",
      "Requirement already satisfied: matplotlib-inline>=0.1 in c:\\users\\amyca\\anaconda3\\lib\\site-packages (from ipykernel>=4.5.1->ipywidgets>=7.6) (0.1.6)\n",
      "Requirement already satisfied: pygments in c:\\users\\amyca\\anaconda3\\lib\\site-packages (from ipython->jupyterlab>=3) (2.11.2)\n",
      "Requirement already satisfied: prompt-toolkit!=3.0.0,!=3.0.1,<3.1.0,>=2.0.0 in c:\\users\\amyca\\anaconda3\\lib\\site-packages (from ipython->jupyterlab>=3) (3.0.20)\n",
      "Requirement already satisfied: colorama in c:\\users\\amyca\\anaconda3\\lib\\site-packages (from ipython->jupyterlab>=3) (0.4.5)\n",
      "Requirement already satisfied: backcall in c:\\users\\amyca\\anaconda3\\lib\\site-packages (from ipython->jupyterlab>=3) (0.2.0)\n",
      "Requirement already satisfied: decorator in c:\\users\\amyca\\anaconda3\\lib\\site-packages (from ipython->jupyterlab>=3) (5.1.1)\n",
      "Requirement already satisfied: setuptools>=18.5 in c:\\users\\amyca\\anaconda3\\lib\\site-packages (from ipython->jupyterlab>=3) (63.4.1)\n",
      "Requirement already satisfied: jedi>=0.16 in c:\\users\\amyca\\anaconda3\\lib\\site-packages (from ipython->jupyterlab>=3) (0.18.1)\n",
      "Requirement already satisfied: pickleshare in c:\\users\\amyca\\anaconda3\\lib\\site-packages (from ipython->jupyterlab>=3) (0.7.5)\n",
      "Requirement already satisfied: MarkupSafe>=0.23 in c:\\users\\amyca\\anaconda3\\lib\\site-packages (from jinja2>=2.1->jupyterlab>=3) (2.0.1)\n",
      "Requirement already satisfied: Send2Trash in c:\\users\\amyca\\anaconda3\\lib\\site-packages (from jupyter-server~=1.16->jupyterlab>=3) (1.8.0)\n",
      "Requirement already satisfied: terminado>=0.8.3 in c:\\users\\amyca\\anaconda3\\lib\\site-packages (from jupyter-server~=1.16->jupyterlab>=3) (0.13.1)\n",
      "Requirement already satisfied: prometheus-client in c:\\users\\amyca\\anaconda3\\lib\\site-packages (from jupyter-server~=1.16->jupyterlab>=3) (0.14.1)\n",
      "Requirement already satisfied: anyio<4,>=3.1.0 in c:\\users\\amyca\\anaconda3\\lib\\site-packages (from jupyter-server~=1.16->jupyterlab>=3) (3.5.0)\n",
      "Requirement already satisfied: websocket-client in c:\\users\\amyca\\anaconda3\\lib\\site-packages (from jupyter-server~=1.16->jupyterlab>=3) (0.58.0)\n",
      "Requirement already satisfied: pywinpty in c:\\users\\amyca\\anaconda3\\lib\\site-packages (from jupyter-server~=1.16->jupyterlab>=3) (2.0.2)\n",
      "Requirement already satisfied: argon2-cffi in c:\\users\\amyca\\anaconda3\\lib\\site-packages (from jupyter-server~=1.16->jupyterlab>=3) (21.3.0)\n",
      "Requirement already satisfied: nbconvert>=6.4.4 in c:\\users\\amyca\\anaconda3\\lib\\site-packages (from jupyter-server~=1.16->jupyterlab>=3) (6.4.4)\n",
      "Requirement already satisfied: pywin32>=1.0 in c:\\users\\amyca\\anaconda3\\lib\\site-packages (from jupyter-core->jupyterlab>=3) (302)\n",
      "Requirement already satisfied: jsonschema>=3.0.1 in c:\\users\\amyca\\anaconda3\\lib\\site-packages (from jupyterlab-server~=2.10->jupyterlab>=3) (4.16.0)\n",
      "Requirement already satisfied: entrypoints>=0.2.2 in c:\\users\\amyca\\anaconda3\\lib\\site-packages (from jupyterlab-server~=2.10->jupyterlab>=3) (0.4)\n",
      "Requirement already satisfied: requests in c:\\users\\amyca\\anaconda3\\lib\\site-packages (from jupyterlab-server~=2.10->jupyterlab>=3) (2.28.1)\n",
      "Requirement already satisfied: babel in c:\\users\\amyca\\anaconda3\\lib\\site-packages (from jupyterlab-server~=2.10->jupyterlab>=3) (2.9.1)\n",
      "Requirement already satisfied: json5 in c:\\users\\amyca\\anaconda3\\lib\\site-packages (from jupyterlab-server~=2.10->jupyterlab>=3) (0.9.6)\n",
      "Requirement already satisfied: fastjsonschema in c:\\users\\amyca\\anaconda3\\lib\\site-packages (from nbformat>=4.2.0->ipywidgets>=7.6) (2.16.2)\n",
      "Requirement already satisfied: pyparsing!=3.0.5,>=2.0.2 in c:\\users\\amyca\\anaconda3\\lib\\site-packages (from packaging->jupyterlab>=3) (3.0.9)\n",
      "Requirement already satisfied: idna>=2.8 in c:\\users\\amyca\\anaconda3\\lib\\site-packages (from anyio<4,>=3.1.0->jupyter-server~=1.16->jupyterlab>=3) (3.3)\n",
      "Requirement already satisfied: sniffio>=1.1 in c:\\users\\amyca\\anaconda3\\lib\\site-packages (from anyio<4,>=3.1.0->jupyter-server~=1.16->jupyterlab>=3) (1.2.0)\n",
      "Requirement already satisfied: parso<0.9.0,>=0.8.0 in c:\\users\\amyca\\anaconda3\\lib\\site-packages (from jedi>=0.16->ipython->jupyterlab>=3) (0.8.3)\n",
      "Requirement already satisfied: pyrsistent!=0.17.0,!=0.17.1,!=0.17.2,>=0.14.0 in c:\\users\\amyca\\anaconda3\\lib\\site-packages (from jsonschema>=3.0.1->jupyterlab-server~=2.10->jupyterlab>=3) (0.18.0)\n",
      "Requirement already satisfied: attrs>=17.4.0 in c:\\users\\amyca\\anaconda3\\lib\\site-packages (from jsonschema>=3.0.1->jupyterlab-server~=2.10->jupyterlab>=3) (21.4.0)\n",
      "Requirement already satisfied: python-dateutil>=2.8.2 in c:\\users\\amyca\\anaconda3\\lib\\site-packages (from jupyter-client>=6.1.12->ipykernel>=4.5.1->ipywidgets>=7.6) (2.8.2)\n",
      "Requirement already satisfied: mistune<2,>=0.8.1 in c:\\users\\amyca\\anaconda3\\lib\\site-packages (from nbconvert>=6.4.4->jupyter-server~=1.16->jupyterlab>=3) (0.8.4)\n",
      "Requirement already satisfied: testpath in c:\\users\\amyca\\anaconda3\\lib\\site-packages (from nbconvert>=6.4.4->jupyter-server~=1.16->jupyterlab>=3) (0.6.0)\n",
      "Requirement already satisfied: bleach in c:\\users\\amyca\\anaconda3\\lib\\site-packages (from nbconvert>=6.4.4->jupyter-server~=1.16->jupyterlab>=3) (4.1.0)\n",
      "Requirement already satisfied: defusedxml in c:\\users\\amyca\\anaconda3\\lib\\site-packages (from nbconvert>=6.4.4->jupyter-server~=1.16->jupyterlab>=3) (0.7.1)\n",
      "Requirement already satisfied: pandocfilters>=1.4.1 in c:\\users\\amyca\\anaconda3\\lib\\site-packages (from nbconvert>=6.4.4->jupyter-server~=1.16->jupyterlab>=3) (1.5.0)\n",
      "Requirement already satisfied: beautifulsoup4 in c:\\users\\amyca\\anaconda3\\lib\\site-packages (from nbconvert>=6.4.4->jupyter-server~=1.16->jupyterlab>=3) (4.11.1)\n",
      "Requirement already satisfied: jupyterlab-pygments in c:\\users\\amyca\\anaconda3\\lib\\site-packages (from nbconvert>=6.4.4->jupyter-server~=1.16->jupyterlab>=3) (0.1.2)\n",
      "Requirement already satisfied: nbclient<0.6.0,>=0.5.0 in c:\\users\\amyca\\anaconda3\\lib\\site-packages (from nbconvert>=6.4.4->jupyter-server~=1.16->jupyterlab>=3) (0.5.13)\n",
      "Requirement already satisfied: wcwidth in c:\\users\\amyca\\anaconda3\\lib\\site-packages (from prompt-toolkit!=3.0.0,!=3.0.1,<3.1.0,>=2.0.0->ipython->jupyterlab>=3) (0.2.5)\n",
      "Requirement already satisfied: argon2-cffi-bindings in c:\\users\\amyca\\anaconda3\\lib\\site-packages (from argon2-cffi->jupyter-server~=1.16->jupyterlab>=3) (21.2.0)\n",
      "Requirement already satisfied: pytz>=2015.7 in c:\\users\\amyca\\anaconda3\\lib\\site-packages (from babel->jupyterlab-server~=2.10->jupyterlab>=3) (2022.1)\n",
      "Requirement already satisfied: charset-normalizer<3,>=2 in c:\\users\\amyca\\anaconda3\\lib\\site-packages (from requests->jupyterlab-server~=2.10->jupyterlab>=3) (2.0.4)\n",
      "Requirement already satisfied: urllib3<1.27,>=1.21.1 in c:\\users\\amyca\\anaconda3\\lib\\site-packages (from requests->jupyterlab-server~=2.10->jupyterlab>=3) (1.26.11)\n",
      "Requirement already satisfied: certifi>=2017.4.17 in c:\\users\\amyca\\anaconda3\\lib\\site-packages (from requests->jupyterlab-server~=2.10->jupyterlab>=3) (2022.9.14)\n",
      "Requirement already satisfied: six in c:\\users\\amyca\\anaconda3\\lib\\site-packages (from websocket-client->jupyter-server~=1.16->jupyterlab>=3) (1.16.0)\n",
      "Requirement already satisfied: cffi>=1.0.1 in c:\\users\\amyca\\anaconda3\\lib\\site-packages (from argon2-cffi-bindings->argon2-cffi->jupyter-server~=1.16->jupyterlab>=3) (1.15.1)\n",
      "Requirement already satisfied: soupsieve>1.2 in c:\\users\\amyca\\anaconda3\\lib\\site-packages (from beautifulsoup4->nbconvert>=6.4.4->jupyter-server~=1.16->jupyterlab>=3) (2.3.1)\n",
      "Requirement already satisfied: webencodings in c:\\users\\amyca\\anaconda3\\lib\\site-packages (from bleach->nbconvert>=6.4.4->jupyter-server~=1.16->jupyterlab>=3) (0.5.1)\n",
      "Requirement already satisfied: pycparser in c:\\users\\amyca\\anaconda3\\lib\\site-packages (from cffi>=1.0.1->argon2-cffi-bindings->argon2-cffi->jupyter-server~=1.16->jupyterlab>=3) (2.21)\n",
      "Note: you may need to restart the kernel to use updated packages.\n"
     ]
    }
   ],
   "source": [
    "%pip install \"jupyterlab>=3\" \"ipywidgets>=7.6\" "
   ]
  },
  {
   "attachments": {},
   "cell_type": "markdown",
   "metadata": {},
   "source": [
    "## Task 2\n",
    "- Using the data from Assignment 2, produce at least three types of charts using plotlyor other packages of you own preference. For example, you can plot the distribution of state or county areas, the distribution of common county names, and the distribution of thenumber of counties in states. Directly show those charts in Jupyter Notebook, if applies.\n",
    "- Alternatively, you can use pandas to load some tabular data, such as in csv file, for the charts.\n",
    "- The fallback option is to use the sample data available from the plotly package. However,two points, i.e., 20%, will be taken off if you choose this option because those onlineexamples are using such data.\n"
   ]
  },
  {
   "cell_type": "code",
   "execution_count": 2,
   "metadata": {},
   "outputs": [],
   "source": [
    "import pandas as pd #for data preperation\n",
    "import plotly.express as px # for data visualization"
   ]
  },
  {
   "cell_type": "code",
   "execution_count": 3,
   "metadata": {},
   "outputs": [
    {
     "data": {
      "text/plain": [
       "Index(['Ano/Estados', 'AC', 'AM', 'AP', 'MA', 'MT', 'PA', 'RO', 'RR', 'TO',\n",
       "       'AMZ LEGAL'],\n",
       "      dtype='object')"
      ]
     },
     "execution_count": 3,
     "metadata": {},
     "output_type": "execute_result"
    }
   ],
   "source": [
    "dff=pd.read_csv('Amazon_Deforestation.csv')\n",
    "dff.columns"
   ]
  },
  {
   "cell_type": "code",
   "execution_count": 4,
   "metadata": {},
   "outputs": [],
   "source": [
    "df = dff.rename(columns={'Ano/Estados':'YEAR', 'AC':'ACRE', 'AM':'AMAZONAS', 'AP':'AMAPA', \n",
    "                         'MA':'MARANHAO','MT':'MATO GROSSO', 'PA':'PARA', 'RO':'RONDONIA', \n",
    "                         'RR':'RORAIMA', 'TO':'TOCANTINS', 'AMZ LEGAL':'TOTAL_DEFORESTED_AREA'})"
   ]
  },
  {
   "cell_type": "code",
   "execution_count": 5,
   "metadata": {},
   "outputs": [
    {
     "data": {
      "text/html": [
       "<div>\n",
       "<style scoped>\n",
       "    .dataframe tbody tr th:only-of-type {\n",
       "        vertical-align: middle;\n",
       "    }\n",
       "\n",
       "    .dataframe tbody tr th {\n",
       "        vertical-align: top;\n",
       "    }\n",
       "\n",
       "    .dataframe thead th {\n",
       "        text-align: right;\n",
       "    }\n",
       "</style>\n",
       "<table border=\"1\" class=\"dataframe\">\n",
       "  <thead>\n",
       "    <tr style=\"text-align: right;\">\n",
       "      <th></th>\n",
       "      <th>YEAR</th>\n",
       "      <th>ACRE</th>\n",
       "      <th>AMAZONAS</th>\n",
       "      <th>AMAPA</th>\n",
       "      <th>MARANHAO</th>\n",
       "      <th>MATO GROSSO</th>\n",
       "      <th>PARA</th>\n",
       "      <th>RONDONIA</th>\n",
       "      <th>RORAIMA</th>\n",
       "      <th>TOCANTINS</th>\n",
       "      <th>TOTAL_DEFORESTED_AREA</th>\n",
       "    </tr>\n",
       "  </thead>\n",
       "  <tbody>\n",
       "    <tr>\n",
       "      <th>0</th>\n",
       "      <td>2004</td>\n",
       "      <td>728</td>\n",
       "      <td>1232</td>\n",
       "      <td>46</td>\n",
       "      <td>755</td>\n",
       "      <td>11814</td>\n",
       "      <td>8870</td>\n",
       "      <td>3858</td>\n",
       "      <td>311</td>\n",
       "      <td>158</td>\n",
       "      <td>27772</td>\n",
       "    </tr>\n",
       "    <tr>\n",
       "      <th>1</th>\n",
       "      <td>2005</td>\n",
       "      <td>592</td>\n",
       "      <td>775</td>\n",
       "      <td>33</td>\n",
       "      <td>922</td>\n",
       "      <td>7145</td>\n",
       "      <td>5899</td>\n",
       "      <td>3244</td>\n",
       "      <td>133</td>\n",
       "      <td>271</td>\n",
       "      <td>19014</td>\n",
       "    </tr>\n",
       "    <tr>\n",
       "      <th>2</th>\n",
       "      <td>2006</td>\n",
       "      <td>398</td>\n",
       "      <td>788</td>\n",
       "      <td>30</td>\n",
       "      <td>674</td>\n",
       "      <td>4333</td>\n",
       "      <td>5659</td>\n",
       "      <td>2049</td>\n",
       "      <td>231</td>\n",
       "      <td>124</td>\n",
       "      <td>14286</td>\n",
       "    </tr>\n",
       "    <tr>\n",
       "      <th>3</th>\n",
       "      <td>2007</td>\n",
       "      <td>184</td>\n",
       "      <td>610</td>\n",
       "      <td>39</td>\n",
       "      <td>631</td>\n",
       "      <td>2678</td>\n",
       "      <td>5526</td>\n",
       "      <td>1611</td>\n",
       "      <td>309</td>\n",
       "      <td>63</td>\n",
       "      <td>11651</td>\n",
       "    </tr>\n",
       "    <tr>\n",
       "      <th>4</th>\n",
       "      <td>2008</td>\n",
       "      <td>254</td>\n",
       "      <td>604</td>\n",
       "      <td>100</td>\n",
       "      <td>1271</td>\n",
       "      <td>3258</td>\n",
       "      <td>5607</td>\n",
       "      <td>1136</td>\n",
       "      <td>574</td>\n",
       "      <td>107</td>\n",
       "      <td>12911</td>\n",
       "    </tr>\n",
       "    <tr>\n",
       "      <th>5</th>\n",
       "      <td>2009</td>\n",
       "      <td>167</td>\n",
       "      <td>405</td>\n",
       "      <td>70</td>\n",
       "      <td>828</td>\n",
       "      <td>1049</td>\n",
       "      <td>4281</td>\n",
       "      <td>482</td>\n",
       "      <td>121</td>\n",
       "      <td>61</td>\n",
       "      <td>7464</td>\n",
       "    </tr>\n",
       "    <tr>\n",
       "      <th>6</th>\n",
       "      <td>2010</td>\n",
       "      <td>259</td>\n",
       "      <td>595</td>\n",
       "      <td>53</td>\n",
       "      <td>712</td>\n",
       "      <td>871</td>\n",
       "      <td>3770</td>\n",
       "      <td>435</td>\n",
       "      <td>256</td>\n",
       "      <td>49</td>\n",
       "      <td>7000</td>\n",
       "    </tr>\n",
       "    <tr>\n",
       "      <th>7</th>\n",
       "      <td>2011</td>\n",
       "      <td>280</td>\n",
       "      <td>502</td>\n",
       "      <td>66</td>\n",
       "      <td>396</td>\n",
       "      <td>1120</td>\n",
       "      <td>3008</td>\n",
       "      <td>865</td>\n",
       "      <td>141</td>\n",
       "      <td>40</td>\n",
       "      <td>6418</td>\n",
       "    </tr>\n",
       "    <tr>\n",
       "      <th>8</th>\n",
       "      <td>2012</td>\n",
       "      <td>305</td>\n",
       "      <td>523</td>\n",
       "      <td>27</td>\n",
       "      <td>269</td>\n",
       "      <td>757</td>\n",
       "      <td>1741</td>\n",
       "      <td>773</td>\n",
       "      <td>124</td>\n",
       "      <td>52</td>\n",
       "      <td>4571</td>\n",
       "    </tr>\n",
       "    <tr>\n",
       "      <th>9</th>\n",
       "      <td>2013</td>\n",
       "      <td>221</td>\n",
       "      <td>583</td>\n",
       "      <td>23</td>\n",
       "      <td>403</td>\n",
       "      <td>1139</td>\n",
       "      <td>2346</td>\n",
       "      <td>932</td>\n",
       "      <td>170</td>\n",
       "      <td>74</td>\n",
       "      <td>5891</td>\n",
       "    </tr>\n",
       "    <tr>\n",
       "      <th>10</th>\n",
       "      <td>2014</td>\n",
       "      <td>309</td>\n",
       "      <td>500</td>\n",
       "      <td>31</td>\n",
       "      <td>257</td>\n",
       "      <td>1075</td>\n",
       "      <td>1887</td>\n",
       "      <td>684</td>\n",
       "      <td>219</td>\n",
       "      <td>50</td>\n",
       "      <td>5012</td>\n",
       "    </tr>\n",
       "    <tr>\n",
       "      <th>11</th>\n",
       "      <td>2015</td>\n",
       "      <td>264</td>\n",
       "      <td>712</td>\n",
       "      <td>25</td>\n",
       "      <td>209</td>\n",
       "      <td>1601</td>\n",
       "      <td>2153</td>\n",
       "      <td>1030</td>\n",
       "      <td>156</td>\n",
       "      <td>57</td>\n",
       "      <td>6207</td>\n",
       "    </tr>\n",
       "    <tr>\n",
       "      <th>12</th>\n",
       "      <td>2016</td>\n",
       "      <td>372</td>\n",
       "      <td>1129</td>\n",
       "      <td>17</td>\n",
       "      <td>258</td>\n",
       "      <td>1489</td>\n",
       "      <td>2992</td>\n",
       "      <td>1376</td>\n",
       "      <td>202</td>\n",
       "      <td>58</td>\n",
       "      <td>7893</td>\n",
       "    </tr>\n",
       "    <tr>\n",
       "      <th>13</th>\n",
       "      <td>2017</td>\n",
       "      <td>257</td>\n",
       "      <td>1001</td>\n",
       "      <td>24</td>\n",
       "      <td>265</td>\n",
       "      <td>1561</td>\n",
       "      <td>2433</td>\n",
       "      <td>1243</td>\n",
       "      <td>132</td>\n",
       "      <td>31</td>\n",
       "      <td>6947</td>\n",
       "    </tr>\n",
       "    <tr>\n",
       "      <th>14</th>\n",
       "      <td>2018</td>\n",
       "      <td>444</td>\n",
       "      <td>1045</td>\n",
       "      <td>24</td>\n",
       "      <td>253</td>\n",
       "      <td>1490</td>\n",
       "      <td>2744</td>\n",
       "      <td>1316</td>\n",
       "      <td>195</td>\n",
       "      <td>25</td>\n",
       "      <td>7536</td>\n",
       "    </tr>\n",
       "    <tr>\n",
       "      <th>15</th>\n",
       "      <td>2019</td>\n",
       "      <td>688</td>\n",
       "      <td>1421</td>\n",
       "      <td>8</td>\n",
       "      <td>215</td>\n",
       "      <td>1685</td>\n",
       "      <td>3862</td>\n",
       "      <td>1245</td>\n",
       "      <td>617</td>\n",
       "      <td>21</td>\n",
       "      <td>9762</td>\n",
       "    </tr>\n",
       "  </tbody>\n",
       "</table>\n",
       "</div>"
      ],
      "text/plain": [
       "    YEAR  ACRE  AMAZONAS  AMAPA  MARANHAO  MATO GROSSO  PARA  RONDONIA  \\\n",
       "0   2004   728      1232     46       755        11814  8870      3858   \n",
       "1   2005   592       775     33       922         7145  5899      3244   \n",
       "2   2006   398       788     30       674         4333  5659      2049   \n",
       "3   2007   184       610     39       631         2678  5526      1611   \n",
       "4   2008   254       604    100      1271         3258  5607      1136   \n",
       "5   2009   167       405     70       828         1049  4281       482   \n",
       "6   2010   259       595     53       712          871  3770       435   \n",
       "7   2011   280       502     66       396         1120  3008       865   \n",
       "8   2012   305       523     27       269          757  1741       773   \n",
       "9   2013   221       583     23       403         1139  2346       932   \n",
       "10  2014   309       500     31       257         1075  1887       684   \n",
       "11  2015   264       712     25       209         1601  2153      1030   \n",
       "12  2016   372      1129     17       258         1489  2992      1376   \n",
       "13  2017   257      1001     24       265         1561  2433      1243   \n",
       "14  2018   444      1045     24       253         1490  2744      1316   \n",
       "15  2019   688      1421      8       215         1685  3862      1245   \n",
       "\n",
       "    RORAIMA  TOCANTINS  TOTAL_DEFORESTED_AREA  \n",
       "0       311        158                  27772  \n",
       "1       133        271                  19014  \n",
       "2       231        124                  14286  \n",
       "3       309         63                  11651  \n",
       "4       574        107                  12911  \n",
       "5       121         61                   7464  \n",
       "6       256         49                   7000  \n",
       "7       141         40                   6418  \n",
       "8       124         52                   4571  \n",
       "9       170         74                   5891  \n",
       "10      219         50                   5012  \n",
       "11      156         57                   6207  \n",
       "12      202         58                   7893  \n",
       "13      132         31                   6947  \n",
       "14      195         25                   7536  \n",
       "15      617         21                   9762  "
      ]
     },
     "execution_count": 5,
     "metadata": {},
     "output_type": "execute_result"
    }
   ],
   "source": [
    "df"
   ]
  },
  {
   "attachments": {},
   "cell_type": "markdown",
   "metadata": {},
   "source": [
    "### 1. Simple scatter plot"
   ]
  },
  {
   "cell_type": "code",
   "execution_count": 6,
   "metadata": {},
   "outputs": [
    {
     "data": {
      "application/vnd.plotly.v1+json": {
       "config": {
        "plotlyServerURL": "https://plot.ly"
       },
       "data": [
        {
         "alignmentgroup": "True",
         "hovertemplate": "Year=%{x}<br>Total Deforested Area (acres)=%{y}<extra></extra>",
         "legendgroup": "",
         "marker": {
          "color": "#636efa",
          "pattern": {
           "shape": ""
          }
         },
         "name": "",
         "offsetgroup": "",
         "orientation": "v",
         "showlegend": false,
         "textposition": "auto",
         "type": "bar",
         "x": [
          2004,
          2005,
          2006,
          2007,
          2008,
          2009,
          2010,
          2011,
          2012,
          2013,
          2014,
          2015,
          2016,
          2017,
          2018,
          2019
         ],
         "xaxis": "x",
         "y": [
          27772,
          19014,
          14286,
          11651,
          12911,
          7464,
          7000,
          6418,
          4571,
          5891,
          5012,
          6207,
          7893,
          6947,
          7536,
          9762
         ],
         "yaxis": "y"
        }
       ],
       "layout": {
        "barmode": "relative",
        "legend": {
         "tracegroupgap": 0
        },
        "template": {
         "data": {
          "bar": [
           {
            "error_x": {
             "color": "#2a3f5f"
            },
            "error_y": {
             "color": "#2a3f5f"
            },
            "marker": {
             "line": {
              "color": "#E5ECF6",
              "width": 0.5
             },
             "pattern": {
              "fillmode": "overlay",
              "size": 10,
              "solidity": 0.2
             }
            },
            "type": "bar"
           }
          ],
          "barpolar": [
           {
            "marker": {
             "line": {
              "color": "#E5ECF6",
              "width": 0.5
             },
             "pattern": {
              "fillmode": "overlay",
              "size": 10,
              "solidity": 0.2
             }
            },
            "type": "barpolar"
           }
          ],
          "carpet": [
           {
            "aaxis": {
             "endlinecolor": "#2a3f5f",
             "gridcolor": "white",
             "linecolor": "white",
             "minorgridcolor": "white",
             "startlinecolor": "#2a3f5f"
            },
            "baxis": {
             "endlinecolor": "#2a3f5f",
             "gridcolor": "white",
             "linecolor": "white",
             "minorgridcolor": "white",
             "startlinecolor": "#2a3f5f"
            },
            "type": "carpet"
           }
          ],
          "choropleth": [
           {
            "colorbar": {
             "outlinewidth": 0,
             "ticks": ""
            },
            "type": "choropleth"
           }
          ],
          "contour": [
           {
            "colorbar": {
             "outlinewidth": 0,
             "ticks": ""
            },
            "colorscale": [
             [
              0,
              "#0d0887"
             ],
             [
              0.1111111111111111,
              "#46039f"
             ],
             [
              0.2222222222222222,
              "#7201a8"
             ],
             [
              0.3333333333333333,
              "#9c179e"
             ],
             [
              0.4444444444444444,
              "#bd3786"
             ],
             [
              0.5555555555555556,
              "#d8576b"
             ],
             [
              0.6666666666666666,
              "#ed7953"
             ],
             [
              0.7777777777777778,
              "#fb9f3a"
             ],
             [
              0.8888888888888888,
              "#fdca26"
             ],
             [
              1,
              "#f0f921"
             ]
            ],
            "type": "contour"
           }
          ],
          "contourcarpet": [
           {
            "colorbar": {
             "outlinewidth": 0,
             "ticks": ""
            },
            "type": "contourcarpet"
           }
          ],
          "heatmap": [
           {
            "colorbar": {
             "outlinewidth": 0,
             "ticks": ""
            },
            "colorscale": [
             [
              0,
              "#0d0887"
             ],
             [
              0.1111111111111111,
              "#46039f"
             ],
             [
              0.2222222222222222,
              "#7201a8"
             ],
             [
              0.3333333333333333,
              "#9c179e"
             ],
             [
              0.4444444444444444,
              "#bd3786"
             ],
             [
              0.5555555555555556,
              "#d8576b"
             ],
             [
              0.6666666666666666,
              "#ed7953"
             ],
             [
              0.7777777777777778,
              "#fb9f3a"
             ],
             [
              0.8888888888888888,
              "#fdca26"
             ],
             [
              1,
              "#f0f921"
             ]
            ],
            "type": "heatmap"
           }
          ],
          "heatmapgl": [
           {
            "colorbar": {
             "outlinewidth": 0,
             "ticks": ""
            },
            "colorscale": [
             [
              0,
              "#0d0887"
             ],
             [
              0.1111111111111111,
              "#46039f"
             ],
             [
              0.2222222222222222,
              "#7201a8"
             ],
             [
              0.3333333333333333,
              "#9c179e"
             ],
             [
              0.4444444444444444,
              "#bd3786"
             ],
             [
              0.5555555555555556,
              "#d8576b"
             ],
             [
              0.6666666666666666,
              "#ed7953"
             ],
             [
              0.7777777777777778,
              "#fb9f3a"
             ],
             [
              0.8888888888888888,
              "#fdca26"
             ],
             [
              1,
              "#f0f921"
             ]
            ],
            "type": "heatmapgl"
           }
          ],
          "histogram": [
           {
            "marker": {
             "pattern": {
              "fillmode": "overlay",
              "size": 10,
              "solidity": 0.2
             }
            },
            "type": "histogram"
           }
          ],
          "histogram2d": [
           {
            "colorbar": {
             "outlinewidth": 0,
             "ticks": ""
            },
            "colorscale": [
             [
              0,
              "#0d0887"
             ],
             [
              0.1111111111111111,
              "#46039f"
             ],
             [
              0.2222222222222222,
              "#7201a8"
             ],
             [
              0.3333333333333333,
              "#9c179e"
             ],
             [
              0.4444444444444444,
              "#bd3786"
             ],
             [
              0.5555555555555556,
              "#d8576b"
             ],
             [
              0.6666666666666666,
              "#ed7953"
             ],
             [
              0.7777777777777778,
              "#fb9f3a"
             ],
             [
              0.8888888888888888,
              "#fdca26"
             ],
             [
              1,
              "#f0f921"
             ]
            ],
            "type": "histogram2d"
           }
          ],
          "histogram2dcontour": [
           {
            "colorbar": {
             "outlinewidth": 0,
             "ticks": ""
            },
            "colorscale": [
             [
              0,
              "#0d0887"
             ],
             [
              0.1111111111111111,
              "#46039f"
             ],
             [
              0.2222222222222222,
              "#7201a8"
             ],
             [
              0.3333333333333333,
              "#9c179e"
             ],
             [
              0.4444444444444444,
              "#bd3786"
             ],
             [
              0.5555555555555556,
              "#d8576b"
             ],
             [
              0.6666666666666666,
              "#ed7953"
             ],
             [
              0.7777777777777778,
              "#fb9f3a"
             ],
             [
              0.8888888888888888,
              "#fdca26"
             ],
             [
              1,
              "#f0f921"
             ]
            ],
            "type": "histogram2dcontour"
           }
          ],
          "mesh3d": [
           {
            "colorbar": {
             "outlinewidth": 0,
             "ticks": ""
            },
            "type": "mesh3d"
           }
          ],
          "parcoords": [
           {
            "line": {
             "colorbar": {
              "outlinewidth": 0,
              "ticks": ""
             }
            },
            "type": "parcoords"
           }
          ],
          "pie": [
           {
            "automargin": true,
            "type": "pie"
           }
          ],
          "scatter": [
           {
            "fillpattern": {
             "fillmode": "overlay",
             "size": 10,
             "solidity": 0.2
            },
            "type": "scatter"
           }
          ],
          "scatter3d": [
           {
            "line": {
             "colorbar": {
              "outlinewidth": 0,
              "ticks": ""
             }
            },
            "marker": {
             "colorbar": {
              "outlinewidth": 0,
              "ticks": ""
             }
            },
            "type": "scatter3d"
           }
          ],
          "scattercarpet": [
           {
            "marker": {
             "colorbar": {
              "outlinewidth": 0,
              "ticks": ""
             }
            },
            "type": "scattercarpet"
           }
          ],
          "scattergeo": [
           {
            "marker": {
             "colorbar": {
              "outlinewidth": 0,
              "ticks": ""
             }
            },
            "type": "scattergeo"
           }
          ],
          "scattergl": [
           {
            "marker": {
             "colorbar": {
              "outlinewidth": 0,
              "ticks": ""
             }
            },
            "type": "scattergl"
           }
          ],
          "scattermapbox": [
           {
            "marker": {
             "colorbar": {
              "outlinewidth": 0,
              "ticks": ""
             }
            },
            "type": "scattermapbox"
           }
          ],
          "scatterpolar": [
           {
            "marker": {
             "colorbar": {
              "outlinewidth": 0,
              "ticks": ""
             }
            },
            "type": "scatterpolar"
           }
          ],
          "scatterpolargl": [
           {
            "marker": {
             "colorbar": {
              "outlinewidth": 0,
              "ticks": ""
             }
            },
            "type": "scatterpolargl"
           }
          ],
          "scatterternary": [
           {
            "marker": {
             "colorbar": {
              "outlinewidth": 0,
              "ticks": ""
             }
            },
            "type": "scatterternary"
           }
          ],
          "surface": [
           {
            "colorbar": {
             "outlinewidth": 0,
             "ticks": ""
            },
            "colorscale": [
             [
              0,
              "#0d0887"
             ],
             [
              0.1111111111111111,
              "#46039f"
             ],
             [
              0.2222222222222222,
              "#7201a8"
             ],
             [
              0.3333333333333333,
              "#9c179e"
             ],
             [
              0.4444444444444444,
              "#bd3786"
             ],
             [
              0.5555555555555556,
              "#d8576b"
             ],
             [
              0.6666666666666666,
              "#ed7953"
             ],
             [
              0.7777777777777778,
              "#fb9f3a"
             ],
             [
              0.8888888888888888,
              "#fdca26"
             ],
             [
              1,
              "#f0f921"
             ]
            ],
            "type": "surface"
           }
          ],
          "table": [
           {
            "cells": {
             "fill": {
              "color": "#EBF0F8"
             },
             "line": {
              "color": "white"
             }
            },
            "header": {
             "fill": {
              "color": "#C8D4E3"
             },
             "line": {
              "color": "white"
             }
            },
            "type": "table"
           }
          ]
         },
         "layout": {
          "annotationdefaults": {
           "arrowcolor": "#2a3f5f",
           "arrowhead": 0,
           "arrowwidth": 1
          },
          "autotypenumbers": "strict",
          "coloraxis": {
           "colorbar": {
            "outlinewidth": 0,
            "ticks": ""
           }
          },
          "colorscale": {
           "diverging": [
            [
             0,
             "#8e0152"
            ],
            [
             0.1,
             "#c51b7d"
            ],
            [
             0.2,
             "#de77ae"
            ],
            [
             0.3,
             "#f1b6da"
            ],
            [
             0.4,
             "#fde0ef"
            ],
            [
             0.5,
             "#f7f7f7"
            ],
            [
             0.6,
             "#e6f5d0"
            ],
            [
             0.7,
             "#b8e186"
            ],
            [
             0.8,
             "#7fbc41"
            ],
            [
             0.9,
             "#4d9221"
            ],
            [
             1,
             "#276419"
            ]
           ],
           "sequential": [
            [
             0,
             "#0d0887"
            ],
            [
             0.1111111111111111,
             "#46039f"
            ],
            [
             0.2222222222222222,
             "#7201a8"
            ],
            [
             0.3333333333333333,
             "#9c179e"
            ],
            [
             0.4444444444444444,
             "#bd3786"
            ],
            [
             0.5555555555555556,
             "#d8576b"
            ],
            [
             0.6666666666666666,
             "#ed7953"
            ],
            [
             0.7777777777777778,
             "#fb9f3a"
            ],
            [
             0.8888888888888888,
             "#fdca26"
            ],
            [
             1,
             "#f0f921"
            ]
           ],
           "sequentialminus": [
            [
             0,
             "#0d0887"
            ],
            [
             0.1111111111111111,
             "#46039f"
            ],
            [
             0.2222222222222222,
             "#7201a8"
            ],
            [
             0.3333333333333333,
             "#9c179e"
            ],
            [
             0.4444444444444444,
             "#bd3786"
            ],
            [
             0.5555555555555556,
             "#d8576b"
            ],
            [
             0.6666666666666666,
             "#ed7953"
            ],
            [
             0.7777777777777778,
             "#fb9f3a"
            ],
            [
             0.8888888888888888,
             "#fdca26"
            ],
            [
             1,
             "#f0f921"
            ]
           ]
          },
          "colorway": [
           "#636efa",
           "#EF553B",
           "#00cc96",
           "#ab63fa",
           "#FFA15A",
           "#19d3f3",
           "#FF6692",
           "#B6E880",
           "#FF97FF",
           "#FECB52"
          ],
          "font": {
           "color": "#2a3f5f"
          },
          "geo": {
           "bgcolor": "white",
           "lakecolor": "white",
           "landcolor": "#E5ECF6",
           "showlakes": true,
           "showland": true,
           "subunitcolor": "white"
          },
          "hoverlabel": {
           "align": "left"
          },
          "hovermode": "closest",
          "mapbox": {
           "style": "light"
          },
          "paper_bgcolor": "white",
          "plot_bgcolor": "#E5ECF6",
          "polar": {
           "angularaxis": {
            "gridcolor": "white",
            "linecolor": "white",
            "ticks": ""
           },
           "bgcolor": "#E5ECF6",
           "radialaxis": {
            "gridcolor": "white",
            "linecolor": "white",
            "ticks": ""
           }
          },
          "scene": {
           "xaxis": {
            "backgroundcolor": "#E5ECF6",
            "gridcolor": "white",
            "gridwidth": 2,
            "linecolor": "white",
            "showbackground": true,
            "ticks": "",
            "zerolinecolor": "white"
           },
           "yaxis": {
            "backgroundcolor": "#E5ECF6",
            "gridcolor": "white",
            "gridwidth": 2,
            "linecolor": "white",
            "showbackground": true,
            "ticks": "",
            "zerolinecolor": "white"
           },
           "zaxis": {
            "backgroundcolor": "#E5ECF6",
            "gridcolor": "white",
            "gridwidth": 2,
            "linecolor": "white",
            "showbackground": true,
            "ticks": "",
            "zerolinecolor": "white"
           }
          },
          "shapedefaults": {
           "line": {
            "color": "#2a3f5f"
           }
          },
          "ternary": {
           "aaxis": {
            "gridcolor": "white",
            "linecolor": "white",
            "ticks": ""
           },
           "baxis": {
            "gridcolor": "white",
            "linecolor": "white",
            "ticks": ""
           },
           "bgcolor": "#E5ECF6",
           "caxis": {
            "gridcolor": "white",
            "linecolor": "white",
            "ticks": ""
           }
          },
          "title": {
           "x": 0.05
          },
          "xaxis": {
           "automargin": true,
           "gridcolor": "white",
           "linecolor": "white",
           "ticks": "",
           "title": {
            "standoff": 15
           },
           "zerolinecolor": "white",
           "zerolinewidth": 2
          },
          "yaxis": {
           "automargin": true,
           "gridcolor": "white",
           "linecolor": "white",
           "ticks": "",
           "title": {
            "standoff": 15
           },
           "zerolinecolor": "white",
           "zerolinewidth": 2
          }
         }
        },
        "title": {
         "text": "Yearly Amazon Deforestation"
        },
        "xaxis": {
         "anchor": "y",
         "domain": [
          0,
          1
         ],
         "title": {
          "text": "Year"
         }
        },
        "yaxis": {
         "anchor": "x",
         "domain": [
          0,
          1
         ],
         "title": {
          "text": "Total Deforested Area (acres)"
         }
        }
       }
      }
     },
     "metadata": {},
     "output_type": "display_data"
    }
   ],
   "source": [
    "import plotly.express as px\n",
    "fig = px.bar(df, y=\"TOTAL_DEFORESTED_AREA\", x=\"YEAR\",\n",
    "                 labels=dict(TOTAL_DEFORESTED_AREA='Total Deforested Area (acres)', YEAR = \"Year\"),\n",
    "                 title=\"Yearly Amazon Deforestation\")\n",
    "fig.show()"
   ]
  },
  {
   "attachments": {},
   "cell_type": "markdown",
   "metadata": {},
   "source": [
    "### 2. Line graph with each Amazonian Region's Deforestation Area"
   ]
  },
  {
   "cell_type": "code",
   "execution_count": 7,
   "metadata": {},
   "outputs": [
    {
     "data": {
      "application/vnd.plotly.v1+json": {
       "config": {
        "plotlyServerURL": "https://plot.ly"
       },
       "data": [
        {
         "hovertemplate": "Year=%{x}<br>Deforested Area (acres)=%{y}<extra></extra>",
         "legendgroup": "",
         "line": {
          "color": "#636efa",
          "dash": "solid"
         },
         "marker": {
          "symbol": "circle"
         },
         "mode": "lines",
         "name": "",
         "orientation": "v",
         "showlegend": false,
         "type": "scatter",
         "x": [
          2004,
          2005,
          2006,
          2007,
          2008,
          2009,
          2010,
          2011,
          2012,
          2013,
          2014,
          2015,
          2016,
          2017,
          2018,
          2019
         ],
         "xaxis": "x",
         "y": [
          1232,
          775,
          788,
          610,
          604,
          405,
          595,
          502,
          523,
          583,
          500,
          712,
          1129,
          1001,
          1045,
          1421
         ],
         "yaxis": "y"
        },
        {
         "name": "Amazonas",
         "type": "scatter",
         "x": [
          2004,
          2005,
          2006,
          2007,
          2008,
          2009,
          2010,
          2011,
          2012,
          2013,
          2014,
          2015,
          2016,
          2017,
          2018,
          2019
         ],
         "y": [
          1232,
          775,
          788,
          610,
          604,
          405,
          595,
          502,
          523,
          583,
          500,
          712,
          1129,
          1001,
          1045,
          1421
         ]
        },
        {
         "name": "Amapa",
         "type": "scatter",
         "x": [
          2004,
          2005,
          2006,
          2007,
          2008,
          2009,
          2010,
          2011,
          2012,
          2013,
          2014,
          2015,
          2016,
          2017,
          2018,
          2019
         ],
         "y": [
          46,
          33,
          30,
          39,
          100,
          70,
          53,
          66,
          27,
          23,
          31,
          25,
          17,
          24,
          24,
          8
         ]
        },
        {
         "name": "Maranhoa",
         "type": "scatter",
         "x": [
          2004,
          2005,
          2006,
          2007,
          2008,
          2009,
          2010,
          2011,
          2012,
          2013,
          2014,
          2015,
          2016,
          2017,
          2018,
          2019
         ],
         "y": [
          755,
          922,
          674,
          631,
          1271,
          828,
          712,
          396,
          269,
          403,
          257,
          209,
          258,
          265,
          253,
          215
         ]
        },
        {
         "name": "Mato Graso",
         "type": "scatter",
         "x": [
          2004,
          2005,
          2006,
          2007,
          2008,
          2009,
          2010,
          2011,
          2012,
          2013,
          2014,
          2015,
          2016,
          2017,
          2018,
          2019
         ],
         "y": [
          11814,
          7145,
          4333,
          2678,
          3258,
          1049,
          871,
          1120,
          757,
          1139,
          1075,
          1601,
          1489,
          1561,
          1490,
          1685
         ]
        },
        {
         "name": "Para",
         "type": "scatter",
         "x": [
          2004,
          2005,
          2006,
          2007,
          2008,
          2009,
          2010,
          2011,
          2012,
          2013,
          2014,
          2015,
          2016,
          2017,
          2018,
          2019
         ],
         "y": [
          8870,
          5899,
          5659,
          5526,
          5607,
          4281,
          3770,
          3008,
          1741,
          2346,
          1887,
          2153,
          2992,
          2433,
          2744,
          3862
         ]
        },
        {
         "name": "Rondonia",
         "type": "scatter",
         "x": [
          2004,
          2005,
          2006,
          2007,
          2008,
          2009,
          2010,
          2011,
          2012,
          2013,
          2014,
          2015,
          2016,
          2017,
          2018,
          2019
         ],
         "y": [
          3858,
          3244,
          2049,
          1611,
          1136,
          482,
          435,
          865,
          773,
          932,
          684,
          1030,
          1376,
          1243,
          1316,
          1245
         ]
        },
        {
         "name": "Roraima",
         "type": "scatter",
         "x": [
          2004,
          2005,
          2006,
          2007,
          2008,
          2009,
          2010,
          2011,
          2012,
          2013,
          2014,
          2015,
          2016,
          2017,
          2018,
          2019
         ],
         "y": [
          311,
          133,
          231,
          309,
          574,
          121,
          256,
          141,
          124,
          170,
          219,
          156,
          202,
          132,
          195,
          617
         ]
        },
        {
         "name": "Tocantins",
         "type": "scatter",
         "x": [
          2004,
          2005,
          2006,
          2007,
          2008,
          2009,
          2010,
          2011,
          2012,
          2013,
          2014,
          2015,
          2016,
          2017,
          2018,
          2019
         ],
         "y": [
          158,
          271,
          124,
          63,
          107,
          61,
          49,
          40,
          52,
          74,
          50,
          57,
          58,
          31,
          25,
          21
         ]
        }
       ],
       "layout": {
        "legend": {
         "tracegroupgap": 0
        },
        "template": {
         "data": {
          "bar": [
           {
            "error_x": {
             "color": "#2a3f5f"
            },
            "error_y": {
             "color": "#2a3f5f"
            },
            "marker": {
             "line": {
              "color": "#E5ECF6",
              "width": 0.5
             },
             "pattern": {
              "fillmode": "overlay",
              "size": 10,
              "solidity": 0.2
             }
            },
            "type": "bar"
           }
          ],
          "barpolar": [
           {
            "marker": {
             "line": {
              "color": "#E5ECF6",
              "width": 0.5
             },
             "pattern": {
              "fillmode": "overlay",
              "size": 10,
              "solidity": 0.2
             }
            },
            "type": "barpolar"
           }
          ],
          "carpet": [
           {
            "aaxis": {
             "endlinecolor": "#2a3f5f",
             "gridcolor": "white",
             "linecolor": "white",
             "minorgridcolor": "white",
             "startlinecolor": "#2a3f5f"
            },
            "baxis": {
             "endlinecolor": "#2a3f5f",
             "gridcolor": "white",
             "linecolor": "white",
             "minorgridcolor": "white",
             "startlinecolor": "#2a3f5f"
            },
            "type": "carpet"
           }
          ],
          "choropleth": [
           {
            "colorbar": {
             "outlinewidth": 0,
             "ticks": ""
            },
            "type": "choropleth"
           }
          ],
          "contour": [
           {
            "colorbar": {
             "outlinewidth": 0,
             "ticks": ""
            },
            "colorscale": [
             [
              0,
              "#0d0887"
             ],
             [
              0.1111111111111111,
              "#46039f"
             ],
             [
              0.2222222222222222,
              "#7201a8"
             ],
             [
              0.3333333333333333,
              "#9c179e"
             ],
             [
              0.4444444444444444,
              "#bd3786"
             ],
             [
              0.5555555555555556,
              "#d8576b"
             ],
             [
              0.6666666666666666,
              "#ed7953"
             ],
             [
              0.7777777777777778,
              "#fb9f3a"
             ],
             [
              0.8888888888888888,
              "#fdca26"
             ],
             [
              1,
              "#f0f921"
             ]
            ],
            "type": "contour"
           }
          ],
          "contourcarpet": [
           {
            "colorbar": {
             "outlinewidth": 0,
             "ticks": ""
            },
            "type": "contourcarpet"
           }
          ],
          "heatmap": [
           {
            "colorbar": {
             "outlinewidth": 0,
             "ticks": ""
            },
            "colorscale": [
             [
              0,
              "#0d0887"
             ],
             [
              0.1111111111111111,
              "#46039f"
             ],
             [
              0.2222222222222222,
              "#7201a8"
             ],
             [
              0.3333333333333333,
              "#9c179e"
             ],
             [
              0.4444444444444444,
              "#bd3786"
             ],
             [
              0.5555555555555556,
              "#d8576b"
             ],
             [
              0.6666666666666666,
              "#ed7953"
             ],
             [
              0.7777777777777778,
              "#fb9f3a"
             ],
             [
              0.8888888888888888,
              "#fdca26"
             ],
             [
              1,
              "#f0f921"
             ]
            ],
            "type": "heatmap"
           }
          ],
          "heatmapgl": [
           {
            "colorbar": {
             "outlinewidth": 0,
             "ticks": ""
            },
            "colorscale": [
             [
              0,
              "#0d0887"
             ],
             [
              0.1111111111111111,
              "#46039f"
             ],
             [
              0.2222222222222222,
              "#7201a8"
             ],
             [
              0.3333333333333333,
              "#9c179e"
             ],
             [
              0.4444444444444444,
              "#bd3786"
             ],
             [
              0.5555555555555556,
              "#d8576b"
             ],
             [
              0.6666666666666666,
              "#ed7953"
             ],
             [
              0.7777777777777778,
              "#fb9f3a"
             ],
             [
              0.8888888888888888,
              "#fdca26"
             ],
             [
              1,
              "#f0f921"
             ]
            ],
            "type": "heatmapgl"
           }
          ],
          "histogram": [
           {
            "marker": {
             "pattern": {
              "fillmode": "overlay",
              "size": 10,
              "solidity": 0.2
             }
            },
            "type": "histogram"
           }
          ],
          "histogram2d": [
           {
            "colorbar": {
             "outlinewidth": 0,
             "ticks": ""
            },
            "colorscale": [
             [
              0,
              "#0d0887"
             ],
             [
              0.1111111111111111,
              "#46039f"
             ],
             [
              0.2222222222222222,
              "#7201a8"
             ],
             [
              0.3333333333333333,
              "#9c179e"
             ],
             [
              0.4444444444444444,
              "#bd3786"
             ],
             [
              0.5555555555555556,
              "#d8576b"
             ],
             [
              0.6666666666666666,
              "#ed7953"
             ],
             [
              0.7777777777777778,
              "#fb9f3a"
             ],
             [
              0.8888888888888888,
              "#fdca26"
             ],
             [
              1,
              "#f0f921"
             ]
            ],
            "type": "histogram2d"
           }
          ],
          "histogram2dcontour": [
           {
            "colorbar": {
             "outlinewidth": 0,
             "ticks": ""
            },
            "colorscale": [
             [
              0,
              "#0d0887"
             ],
             [
              0.1111111111111111,
              "#46039f"
             ],
             [
              0.2222222222222222,
              "#7201a8"
             ],
             [
              0.3333333333333333,
              "#9c179e"
             ],
             [
              0.4444444444444444,
              "#bd3786"
             ],
             [
              0.5555555555555556,
              "#d8576b"
             ],
             [
              0.6666666666666666,
              "#ed7953"
             ],
             [
              0.7777777777777778,
              "#fb9f3a"
             ],
             [
              0.8888888888888888,
              "#fdca26"
             ],
             [
              1,
              "#f0f921"
             ]
            ],
            "type": "histogram2dcontour"
           }
          ],
          "mesh3d": [
           {
            "colorbar": {
             "outlinewidth": 0,
             "ticks": ""
            },
            "type": "mesh3d"
           }
          ],
          "parcoords": [
           {
            "line": {
             "colorbar": {
              "outlinewidth": 0,
              "ticks": ""
             }
            },
            "type": "parcoords"
           }
          ],
          "pie": [
           {
            "automargin": true,
            "type": "pie"
           }
          ],
          "scatter": [
           {
            "fillpattern": {
             "fillmode": "overlay",
             "size": 10,
             "solidity": 0.2
            },
            "type": "scatter"
           }
          ],
          "scatter3d": [
           {
            "line": {
             "colorbar": {
              "outlinewidth": 0,
              "ticks": ""
             }
            },
            "marker": {
             "colorbar": {
              "outlinewidth": 0,
              "ticks": ""
             }
            },
            "type": "scatter3d"
           }
          ],
          "scattercarpet": [
           {
            "marker": {
             "colorbar": {
              "outlinewidth": 0,
              "ticks": ""
             }
            },
            "type": "scattercarpet"
           }
          ],
          "scattergeo": [
           {
            "marker": {
             "colorbar": {
              "outlinewidth": 0,
              "ticks": ""
             }
            },
            "type": "scattergeo"
           }
          ],
          "scattergl": [
           {
            "marker": {
             "colorbar": {
              "outlinewidth": 0,
              "ticks": ""
             }
            },
            "type": "scattergl"
           }
          ],
          "scattermapbox": [
           {
            "marker": {
             "colorbar": {
              "outlinewidth": 0,
              "ticks": ""
             }
            },
            "type": "scattermapbox"
           }
          ],
          "scatterpolar": [
           {
            "marker": {
             "colorbar": {
              "outlinewidth": 0,
              "ticks": ""
             }
            },
            "type": "scatterpolar"
           }
          ],
          "scatterpolargl": [
           {
            "marker": {
             "colorbar": {
              "outlinewidth": 0,
              "ticks": ""
             }
            },
            "type": "scatterpolargl"
           }
          ],
          "scatterternary": [
           {
            "marker": {
             "colorbar": {
              "outlinewidth": 0,
              "ticks": ""
             }
            },
            "type": "scatterternary"
           }
          ],
          "surface": [
           {
            "colorbar": {
             "outlinewidth": 0,
             "ticks": ""
            },
            "colorscale": [
             [
              0,
              "#0d0887"
             ],
             [
              0.1111111111111111,
              "#46039f"
             ],
             [
              0.2222222222222222,
              "#7201a8"
             ],
             [
              0.3333333333333333,
              "#9c179e"
             ],
             [
              0.4444444444444444,
              "#bd3786"
             ],
             [
              0.5555555555555556,
              "#d8576b"
             ],
             [
              0.6666666666666666,
              "#ed7953"
             ],
             [
              0.7777777777777778,
              "#fb9f3a"
             ],
             [
              0.8888888888888888,
              "#fdca26"
             ],
             [
              1,
              "#f0f921"
             ]
            ],
            "type": "surface"
           }
          ],
          "table": [
           {
            "cells": {
             "fill": {
              "color": "#EBF0F8"
             },
             "line": {
              "color": "white"
             }
            },
            "header": {
             "fill": {
              "color": "#C8D4E3"
             },
             "line": {
              "color": "white"
             }
            },
            "type": "table"
           }
          ]
         },
         "layout": {
          "annotationdefaults": {
           "arrowcolor": "#2a3f5f",
           "arrowhead": 0,
           "arrowwidth": 1
          },
          "autotypenumbers": "strict",
          "coloraxis": {
           "colorbar": {
            "outlinewidth": 0,
            "ticks": ""
           }
          },
          "colorscale": {
           "diverging": [
            [
             0,
             "#8e0152"
            ],
            [
             0.1,
             "#c51b7d"
            ],
            [
             0.2,
             "#de77ae"
            ],
            [
             0.3,
             "#f1b6da"
            ],
            [
             0.4,
             "#fde0ef"
            ],
            [
             0.5,
             "#f7f7f7"
            ],
            [
             0.6,
             "#e6f5d0"
            ],
            [
             0.7,
             "#b8e186"
            ],
            [
             0.8,
             "#7fbc41"
            ],
            [
             0.9,
             "#4d9221"
            ],
            [
             1,
             "#276419"
            ]
           ],
           "sequential": [
            [
             0,
             "#0d0887"
            ],
            [
             0.1111111111111111,
             "#46039f"
            ],
            [
             0.2222222222222222,
             "#7201a8"
            ],
            [
             0.3333333333333333,
             "#9c179e"
            ],
            [
             0.4444444444444444,
             "#bd3786"
            ],
            [
             0.5555555555555556,
             "#d8576b"
            ],
            [
             0.6666666666666666,
             "#ed7953"
            ],
            [
             0.7777777777777778,
             "#fb9f3a"
            ],
            [
             0.8888888888888888,
             "#fdca26"
            ],
            [
             1,
             "#f0f921"
            ]
           ],
           "sequentialminus": [
            [
             0,
             "#0d0887"
            ],
            [
             0.1111111111111111,
             "#46039f"
            ],
            [
             0.2222222222222222,
             "#7201a8"
            ],
            [
             0.3333333333333333,
             "#9c179e"
            ],
            [
             0.4444444444444444,
             "#bd3786"
            ],
            [
             0.5555555555555556,
             "#d8576b"
            ],
            [
             0.6666666666666666,
             "#ed7953"
            ],
            [
             0.7777777777777778,
             "#fb9f3a"
            ],
            [
             0.8888888888888888,
             "#fdca26"
            ],
            [
             1,
             "#f0f921"
            ]
           ]
          },
          "colorway": [
           "#636efa",
           "#EF553B",
           "#00cc96",
           "#ab63fa",
           "#FFA15A",
           "#19d3f3",
           "#FF6692",
           "#B6E880",
           "#FF97FF",
           "#FECB52"
          ],
          "font": {
           "color": "#2a3f5f"
          },
          "geo": {
           "bgcolor": "white",
           "lakecolor": "white",
           "landcolor": "#E5ECF6",
           "showlakes": true,
           "showland": true,
           "subunitcolor": "white"
          },
          "hoverlabel": {
           "align": "left"
          },
          "hovermode": "closest",
          "mapbox": {
           "style": "light"
          },
          "paper_bgcolor": "white",
          "plot_bgcolor": "#E5ECF6",
          "polar": {
           "angularaxis": {
            "gridcolor": "white",
            "linecolor": "white",
            "ticks": ""
           },
           "bgcolor": "#E5ECF6",
           "radialaxis": {
            "gridcolor": "white",
            "linecolor": "white",
            "ticks": ""
           }
          },
          "scene": {
           "xaxis": {
            "backgroundcolor": "#E5ECF6",
            "gridcolor": "white",
            "gridwidth": 2,
            "linecolor": "white",
            "showbackground": true,
            "ticks": "",
            "zerolinecolor": "white"
           },
           "yaxis": {
            "backgroundcolor": "#E5ECF6",
            "gridcolor": "white",
            "gridwidth": 2,
            "linecolor": "white",
            "showbackground": true,
            "ticks": "",
            "zerolinecolor": "white"
           },
           "zaxis": {
            "backgroundcolor": "#E5ECF6",
            "gridcolor": "white",
            "gridwidth": 2,
            "linecolor": "white",
            "showbackground": true,
            "ticks": "",
            "zerolinecolor": "white"
           }
          },
          "shapedefaults": {
           "line": {
            "color": "#2a3f5f"
           }
          },
          "ternary": {
           "aaxis": {
            "gridcolor": "white",
            "linecolor": "white",
            "ticks": ""
           },
           "baxis": {
            "gridcolor": "white",
            "linecolor": "white",
            "ticks": ""
           },
           "bgcolor": "#E5ECF6",
           "caxis": {
            "gridcolor": "white",
            "linecolor": "white",
            "ticks": ""
           }
          },
          "title": {
           "x": 0.05
          },
          "xaxis": {
           "automargin": true,
           "gridcolor": "white",
           "linecolor": "white",
           "ticks": "",
           "title": {
            "standoff": 15
           },
           "zerolinecolor": "white",
           "zerolinewidth": 2
          },
          "yaxis": {
           "automargin": true,
           "gridcolor": "white",
           "linecolor": "white",
           "ticks": "",
           "title": {
            "standoff": 15
           },
           "zerolinecolor": "white",
           "zerolinewidth": 2
          }
         }
        },
        "title": {
         "text": "Yearly Regional Deforested Area in the Amazon"
        },
        "xaxis": {
         "anchor": "y",
         "domain": [
          0,
          1
         ],
         "title": {
          "text": "Year"
         }
        },
        "yaxis": {
         "anchor": "x",
         "domain": [
          0,
          1
         ],
         "title": {
          "text": "Deforested Area (acres)"
         }
        }
       }
      }
     },
     "metadata": {},
     "output_type": "display_data"
    }
   ],
   "source": [
    "fig2 = px.line(df, x='YEAR', y = 'AMAZONAS',\n",
    "               labels = dict(AMAZONAS='Deforested Area (acres)', YEAR = 'Year'),\n",
    "               title = \"Yearly Regional Deforested Area in the Amazon\")\n",
    "fig2.add_scatter(x = df['YEAR'], y = df['AMAZONAS'], name = 'Amazonas')\n",
    "fig2.add_scatter(x = df['YEAR'], y = df['AMAPA'], name = 'Amapa' )\n",
    "fig2.add_scatter(x = df['YEAR'], y = df['MARANHAO'], name = 'Maranhoa')\n",
    "fig2.add_scatter(x = df['YEAR'], y = df['MATO GROSSO'], name = 'Mato Graso')\n",
    "fig2.add_scatter(x = df['YEAR'], y = df['PARA'], name = 'Para')\n",
    "fig2.add_scatter(x = df['YEAR'], y = df['RONDONIA'], name = 'Rondonia')\n",
    "fig2.add_scatter(x = df['YEAR'], y = df['RORAIMA'], name = 'Roraima')\n",
    "fig2.add_scatter(x = df['YEAR'], y = df['TOCANTINS'], name = 'Tocantins')\n",
    "\n",
    "fig2.show()"
   ]
  },
  {
   "attachments": {},
   "cell_type": "markdown",
   "metadata": {},
   "source": [
    "### 3. Subplots "
   ]
  },
  {
   "cell_type": "code",
   "execution_count": 8,
   "metadata": {},
   "outputs": [
    {
     "data": {
      "application/vnd.plotly.v1+json": {
       "config": {
        "plotlyServerURL": "https://plot.ly"
       },
       "data": [
        {
         "mode": "lines",
         "name": "Mato Grosso",
         "type": "scatter",
         "x": [
          2004,
          2005,
          2006,
          2007,
          2008,
          2009,
          2010,
          2011,
          2012,
          2013,
          2014,
          2015,
          2016,
          2017,
          2018,
          2019
         ],
         "xaxis": "x",
         "y": [
          11814,
          7145,
          4333,
          2678,
          3258,
          1049,
          871,
          1120,
          757,
          1139,
          1075,
          1601,
          1489,
          1561,
          1490,
          1685
         ],
         "yaxis": "y"
        },
        {
         "mode": "lines",
         "name": "Para",
         "type": "scatter",
         "x": [
          2004,
          2005,
          2006,
          2007,
          2008,
          2009,
          2010,
          2011,
          2012,
          2013,
          2014,
          2015,
          2016,
          2017,
          2018,
          2019
         ],
         "xaxis": "x2",
         "y": [
          8870,
          5899,
          5659,
          5526,
          5607,
          4281,
          3770,
          3008,
          1741,
          2346,
          1887,
          2153,
          2992,
          2433,
          2744,
          3862
         ],
         "yaxis": "y2"
        }
       ],
       "layout": {
        "template": {
         "data": {
          "bar": [
           {
            "error_x": {
             "color": "#2a3f5f"
            },
            "error_y": {
             "color": "#2a3f5f"
            },
            "marker": {
             "line": {
              "color": "#E5ECF6",
              "width": 0.5
             },
             "pattern": {
              "fillmode": "overlay",
              "size": 10,
              "solidity": 0.2
             }
            },
            "type": "bar"
           }
          ],
          "barpolar": [
           {
            "marker": {
             "line": {
              "color": "#E5ECF6",
              "width": 0.5
             },
             "pattern": {
              "fillmode": "overlay",
              "size": 10,
              "solidity": 0.2
             }
            },
            "type": "barpolar"
           }
          ],
          "carpet": [
           {
            "aaxis": {
             "endlinecolor": "#2a3f5f",
             "gridcolor": "white",
             "linecolor": "white",
             "minorgridcolor": "white",
             "startlinecolor": "#2a3f5f"
            },
            "baxis": {
             "endlinecolor": "#2a3f5f",
             "gridcolor": "white",
             "linecolor": "white",
             "minorgridcolor": "white",
             "startlinecolor": "#2a3f5f"
            },
            "type": "carpet"
           }
          ],
          "choropleth": [
           {
            "colorbar": {
             "outlinewidth": 0,
             "ticks": ""
            },
            "type": "choropleth"
           }
          ],
          "contour": [
           {
            "colorbar": {
             "outlinewidth": 0,
             "ticks": ""
            },
            "colorscale": [
             [
              0,
              "#0d0887"
             ],
             [
              0.1111111111111111,
              "#46039f"
             ],
             [
              0.2222222222222222,
              "#7201a8"
             ],
             [
              0.3333333333333333,
              "#9c179e"
             ],
             [
              0.4444444444444444,
              "#bd3786"
             ],
             [
              0.5555555555555556,
              "#d8576b"
             ],
             [
              0.6666666666666666,
              "#ed7953"
             ],
             [
              0.7777777777777778,
              "#fb9f3a"
             ],
             [
              0.8888888888888888,
              "#fdca26"
             ],
             [
              1,
              "#f0f921"
             ]
            ],
            "type": "contour"
           }
          ],
          "contourcarpet": [
           {
            "colorbar": {
             "outlinewidth": 0,
             "ticks": ""
            },
            "type": "contourcarpet"
           }
          ],
          "heatmap": [
           {
            "colorbar": {
             "outlinewidth": 0,
             "ticks": ""
            },
            "colorscale": [
             [
              0,
              "#0d0887"
             ],
             [
              0.1111111111111111,
              "#46039f"
             ],
             [
              0.2222222222222222,
              "#7201a8"
             ],
             [
              0.3333333333333333,
              "#9c179e"
             ],
             [
              0.4444444444444444,
              "#bd3786"
             ],
             [
              0.5555555555555556,
              "#d8576b"
             ],
             [
              0.6666666666666666,
              "#ed7953"
             ],
             [
              0.7777777777777778,
              "#fb9f3a"
             ],
             [
              0.8888888888888888,
              "#fdca26"
             ],
             [
              1,
              "#f0f921"
             ]
            ],
            "type": "heatmap"
           }
          ],
          "heatmapgl": [
           {
            "colorbar": {
             "outlinewidth": 0,
             "ticks": ""
            },
            "colorscale": [
             [
              0,
              "#0d0887"
             ],
             [
              0.1111111111111111,
              "#46039f"
             ],
             [
              0.2222222222222222,
              "#7201a8"
             ],
             [
              0.3333333333333333,
              "#9c179e"
             ],
             [
              0.4444444444444444,
              "#bd3786"
             ],
             [
              0.5555555555555556,
              "#d8576b"
             ],
             [
              0.6666666666666666,
              "#ed7953"
             ],
             [
              0.7777777777777778,
              "#fb9f3a"
             ],
             [
              0.8888888888888888,
              "#fdca26"
             ],
             [
              1,
              "#f0f921"
             ]
            ],
            "type": "heatmapgl"
           }
          ],
          "histogram": [
           {
            "marker": {
             "pattern": {
              "fillmode": "overlay",
              "size": 10,
              "solidity": 0.2
             }
            },
            "type": "histogram"
           }
          ],
          "histogram2d": [
           {
            "colorbar": {
             "outlinewidth": 0,
             "ticks": ""
            },
            "colorscale": [
             [
              0,
              "#0d0887"
             ],
             [
              0.1111111111111111,
              "#46039f"
             ],
             [
              0.2222222222222222,
              "#7201a8"
             ],
             [
              0.3333333333333333,
              "#9c179e"
             ],
             [
              0.4444444444444444,
              "#bd3786"
             ],
             [
              0.5555555555555556,
              "#d8576b"
             ],
             [
              0.6666666666666666,
              "#ed7953"
             ],
             [
              0.7777777777777778,
              "#fb9f3a"
             ],
             [
              0.8888888888888888,
              "#fdca26"
             ],
             [
              1,
              "#f0f921"
             ]
            ],
            "type": "histogram2d"
           }
          ],
          "histogram2dcontour": [
           {
            "colorbar": {
             "outlinewidth": 0,
             "ticks": ""
            },
            "colorscale": [
             [
              0,
              "#0d0887"
             ],
             [
              0.1111111111111111,
              "#46039f"
             ],
             [
              0.2222222222222222,
              "#7201a8"
             ],
             [
              0.3333333333333333,
              "#9c179e"
             ],
             [
              0.4444444444444444,
              "#bd3786"
             ],
             [
              0.5555555555555556,
              "#d8576b"
             ],
             [
              0.6666666666666666,
              "#ed7953"
             ],
             [
              0.7777777777777778,
              "#fb9f3a"
             ],
             [
              0.8888888888888888,
              "#fdca26"
             ],
             [
              1,
              "#f0f921"
             ]
            ],
            "type": "histogram2dcontour"
           }
          ],
          "mesh3d": [
           {
            "colorbar": {
             "outlinewidth": 0,
             "ticks": ""
            },
            "type": "mesh3d"
           }
          ],
          "parcoords": [
           {
            "line": {
             "colorbar": {
              "outlinewidth": 0,
              "ticks": ""
             }
            },
            "type": "parcoords"
           }
          ],
          "pie": [
           {
            "automargin": true,
            "type": "pie"
           }
          ],
          "scatter": [
           {
            "fillpattern": {
             "fillmode": "overlay",
             "size": 10,
             "solidity": 0.2
            },
            "type": "scatter"
           }
          ],
          "scatter3d": [
           {
            "line": {
             "colorbar": {
              "outlinewidth": 0,
              "ticks": ""
             }
            },
            "marker": {
             "colorbar": {
              "outlinewidth": 0,
              "ticks": ""
             }
            },
            "type": "scatter3d"
           }
          ],
          "scattercarpet": [
           {
            "marker": {
             "colorbar": {
              "outlinewidth": 0,
              "ticks": ""
             }
            },
            "type": "scattercarpet"
           }
          ],
          "scattergeo": [
           {
            "marker": {
             "colorbar": {
              "outlinewidth": 0,
              "ticks": ""
             }
            },
            "type": "scattergeo"
           }
          ],
          "scattergl": [
           {
            "marker": {
             "colorbar": {
              "outlinewidth": 0,
              "ticks": ""
             }
            },
            "type": "scattergl"
           }
          ],
          "scattermapbox": [
           {
            "marker": {
             "colorbar": {
              "outlinewidth": 0,
              "ticks": ""
             }
            },
            "type": "scattermapbox"
           }
          ],
          "scatterpolar": [
           {
            "marker": {
             "colorbar": {
              "outlinewidth": 0,
              "ticks": ""
             }
            },
            "type": "scatterpolar"
           }
          ],
          "scatterpolargl": [
           {
            "marker": {
             "colorbar": {
              "outlinewidth": 0,
              "ticks": ""
             }
            },
            "type": "scatterpolargl"
           }
          ],
          "scatterternary": [
           {
            "marker": {
             "colorbar": {
              "outlinewidth": 0,
              "ticks": ""
             }
            },
            "type": "scatterternary"
           }
          ],
          "surface": [
           {
            "colorbar": {
             "outlinewidth": 0,
             "ticks": ""
            },
            "colorscale": [
             [
              0,
              "#0d0887"
             ],
             [
              0.1111111111111111,
              "#46039f"
             ],
             [
              0.2222222222222222,
              "#7201a8"
             ],
             [
              0.3333333333333333,
              "#9c179e"
             ],
             [
              0.4444444444444444,
              "#bd3786"
             ],
             [
              0.5555555555555556,
              "#d8576b"
             ],
             [
              0.6666666666666666,
              "#ed7953"
             ],
             [
              0.7777777777777778,
              "#fb9f3a"
             ],
             [
              0.8888888888888888,
              "#fdca26"
             ],
             [
              1,
              "#f0f921"
             ]
            ],
            "type": "surface"
           }
          ],
          "table": [
           {
            "cells": {
             "fill": {
              "color": "#EBF0F8"
             },
             "line": {
              "color": "white"
             }
            },
            "header": {
             "fill": {
              "color": "#C8D4E3"
             },
             "line": {
              "color": "white"
             }
            },
            "type": "table"
           }
          ]
         },
         "layout": {
          "annotationdefaults": {
           "arrowcolor": "#2a3f5f",
           "arrowhead": 0,
           "arrowwidth": 1
          },
          "autotypenumbers": "strict",
          "coloraxis": {
           "colorbar": {
            "outlinewidth": 0,
            "ticks": ""
           }
          },
          "colorscale": {
           "diverging": [
            [
             0,
             "#8e0152"
            ],
            [
             0.1,
             "#c51b7d"
            ],
            [
             0.2,
             "#de77ae"
            ],
            [
             0.3,
             "#f1b6da"
            ],
            [
             0.4,
             "#fde0ef"
            ],
            [
             0.5,
             "#f7f7f7"
            ],
            [
             0.6,
             "#e6f5d0"
            ],
            [
             0.7,
             "#b8e186"
            ],
            [
             0.8,
             "#7fbc41"
            ],
            [
             0.9,
             "#4d9221"
            ],
            [
             1,
             "#276419"
            ]
           ],
           "sequential": [
            [
             0,
             "#0d0887"
            ],
            [
             0.1111111111111111,
             "#46039f"
            ],
            [
             0.2222222222222222,
             "#7201a8"
            ],
            [
             0.3333333333333333,
             "#9c179e"
            ],
            [
             0.4444444444444444,
             "#bd3786"
            ],
            [
             0.5555555555555556,
             "#d8576b"
            ],
            [
             0.6666666666666666,
             "#ed7953"
            ],
            [
             0.7777777777777778,
             "#fb9f3a"
            ],
            [
             0.8888888888888888,
             "#fdca26"
            ],
            [
             1,
             "#f0f921"
            ]
           ],
           "sequentialminus": [
            [
             0,
             "#0d0887"
            ],
            [
             0.1111111111111111,
             "#46039f"
            ],
            [
             0.2222222222222222,
             "#7201a8"
            ],
            [
             0.3333333333333333,
             "#9c179e"
            ],
            [
             0.4444444444444444,
             "#bd3786"
            ],
            [
             0.5555555555555556,
             "#d8576b"
            ],
            [
             0.6666666666666666,
             "#ed7953"
            ],
            [
             0.7777777777777778,
             "#fb9f3a"
            ],
            [
             0.8888888888888888,
             "#fdca26"
            ],
            [
             1,
             "#f0f921"
            ]
           ]
          },
          "colorway": [
           "#636efa",
           "#EF553B",
           "#00cc96",
           "#ab63fa",
           "#FFA15A",
           "#19d3f3",
           "#FF6692",
           "#B6E880",
           "#FF97FF",
           "#FECB52"
          ],
          "font": {
           "color": "#2a3f5f"
          },
          "geo": {
           "bgcolor": "white",
           "lakecolor": "white",
           "landcolor": "#E5ECF6",
           "showlakes": true,
           "showland": true,
           "subunitcolor": "white"
          },
          "hoverlabel": {
           "align": "left"
          },
          "hovermode": "closest",
          "mapbox": {
           "style": "light"
          },
          "paper_bgcolor": "white",
          "plot_bgcolor": "#E5ECF6",
          "polar": {
           "angularaxis": {
            "gridcolor": "white",
            "linecolor": "white",
            "ticks": ""
           },
           "bgcolor": "#E5ECF6",
           "radialaxis": {
            "gridcolor": "white",
            "linecolor": "white",
            "ticks": ""
           }
          },
          "scene": {
           "xaxis": {
            "backgroundcolor": "#E5ECF6",
            "gridcolor": "white",
            "gridwidth": 2,
            "linecolor": "white",
            "showbackground": true,
            "ticks": "",
            "zerolinecolor": "white"
           },
           "yaxis": {
            "backgroundcolor": "#E5ECF6",
            "gridcolor": "white",
            "gridwidth": 2,
            "linecolor": "white",
            "showbackground": true,
            "ticks": "",
            "zerolinecolor": "white"
           },
           "zaxis": {
            "backgroundcolor": "#E5ECF6",
            "gridcolor": "white",
            "gridwidth": 2,
            "linecolor": "white",
            "showbackground": true,
            "ticks": "",
            "zerolinecolor": "white"
           }
          },
          "shapedefaults": {
           "line": {
            "color": "#2a3f5f"
           }
          },
          "ternary": {
           "aaxis": {
            "gridcolor": "white",
            "linecolor": "white",
            "ticks": ""
           },
           "baxis": {
            "gridcolor": "white",
            "linecolor": "white",
            "ticks": ""
           },
           "bgcolor": "#E5ECF6",
           "caxis": {
            "gridcolor": "white",
            "linecolor": "white",
            "ticks": ""
           }
          },
          "title": {
           "x": 0.05
          },
          "xaxis": {
           "automargin": true,
           "gridcolor": "white",
           "linecolor": "white",
           "ticks": "",
           "title": {
            "standoff": 15
           },
           "zerolinecolor": "white",
           "zerolinewidth": 2
          },
          "yaxis": {
           "automargin": true,
           "gridcolor": "white",
           "linecolor": "white",
           "ticks": "",
           "title": {
            "standoff": 15
           },
           "zerolinecolor": "white",
           "zerolinewidth": 2
          }
         }
        },
        "xaxis": {
         "anchor": "y",
         "domain": [
          0,
          0.45
         ]
        },
        "xaxis2": {
         "anchor": "y2",
         "domain": [
          0.55,
          1
         ]
        },
        "yaxis": {
         "anchor": "x",
         "domain": [
          0,
          1
         ]
        },
        "yaxis2": {
         "anchor": "x2",
         "domain": [
          0,
          1
         ]
        }
       }
      }
     },
     "metadata": {},
     "output_type": "display_data"
    }
   ],
   "source": [
    "from plotly.subplots import make_subplots\n",
    "\n",
    "fig3 = make_subplots(rows=1, cols=2)\n",
    "\n",
    "fig3.add_scatter(x = df['YEAR'], y = df['MATO GROSSO'], mode = \"lines\", row = 1, col = 1, name = \"Mato Grosso\")\n",
    "fig3.add_scatter(x = df['YEAR'], y = df['PARA'], mode = \"lines\", row = 1, col = 2, name = \"Para\")\n",
    "fig3.show()"
   ]
  },
  {
   "attachments": {},
   "cell_type": "markdown",
   "metadata": {},
   "source": [
    "## Task 3\n",
    "Export at least one chart to a static image and one chart to an HTML page, using Pythoncode."
   ]
  },
  {
   "cell_type": "code",
   "execution_count": 9,
   "metadata": {},
   "outputs": [
    {
     "name": "stdout",
     "output_type": "stream",
     "text": [
      "Requirement already satisfied: kaleido in c:\\users\\amyca\\anaconda3\\lib\\site-packages (0.2.1)\n",
      "Note: you may need to restart the kernel to use updated packages.\n"
     ]
    }
   ],
   "source": [
    "#Notes\n",
    "#Using kaleido to create a file path for html\n",
    "%pip install -U kaleido\n",
    "import os\n",
    "\n",
    "#create an output directory to store our image\n",
    "if not os.path.exists(\"images\"):\n",
    "    os.mkdir(\"images\")\n",
    "\n",
    "#html \n",
    "fig2.write_html(\"images/fig2_file.html\")"
   ]
  },
  {
   "cell_type": "code",
   "execution_count": 10,
   "metadata": {},
   "outputs": [
    {
     "name": "stdout",
     "output_type": "stream",
     "text": [
      "Processing c:\\users\\amyca\\gtech-hw\\assignment_5\\kaleido-0.1.0.post1-py2.py3-none-win_amd64.whl\n",
      "Installing collected packages: kaleido\n",
      "  Attempting uninstall: kaleido\n",
      "    Found existing installation: kaleido 0.2.1\n",
      "    Uninstalling kaleido-0.2.1:\n",
      "      Successfully uninstalled kaleido-0.2.1\n",
      "Successfully installed kaleido-0.1.0.post1\n",
      "Note: you may need to restart the kernel to use updated packages.\n"
     ]
    }
   ],
   "source": [
    "# Windows problem...the write_image wasn't working so I was looking online and found a solution! A link for anyone else that might be encountering this problem:\n",
    "# https://community.plotly.com/t/static-image-export-hangs-using-kaleido/61519/3\n",
    "\n",
    "pip install kaleido-0.1.0.post1-py2.py3-none-win_amd64.whl"
   ]
  },
  {
   "cell_type": "code",
   "execution_count": 11,
   "metadata": {},
   "outputs": [],
   "source": [
    "#Static image\n",
    "fig2.write_image(\"images/fig2_pythoncode.png\")"
   ]
  }
 ],
 "metadata": {
  "kernelspec": {
   "display_name": "base",
   "language": "python",
   "name": "python3"
  },
  "language_info": {
   "codemirror_mode": {
    "name": "ipython",
    "version": 3
   },
   "file_extension": ".py",
   "mimetype": "text/x-python",
   "name": "python",
   "nbconvert_exporter": "python",
   "pygments_lexer": "ipython3",
   "version": "3.9.13"
  },
  "orig_nbformat": 4
 },
 "nbformat": 4,
 "nbformat_minor": 2
}
