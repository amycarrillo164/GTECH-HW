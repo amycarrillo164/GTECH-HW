{
 "cells": [
  {
   "attachments": {},
   "cell_type": "markdown",
   "metadata": {},
   "source": [
    "## Task 1\n",
    "Install the plotly and other data visualization packages using either pip or conda."
   ]
  },
  {
   "cell_type": "code",
   "execution_count": 44,
   "metadata": {},
   "outputs": [
    {
     "name": "stdout",
     "output_type": "stream",
     "text": [
      "Requirement already satisfied: jupyterlab>=3 in c:\\users\\amyca\\anaconda3\\lib\\site-packages (3.4.4)\n",
      "Requirement already satisfied: ipywidgets>=7.6 in c:\\users\\amyca\\anaconda3\\lib\\site-packages (7.6.5)\n",
      "Requirement already satisfied: jupyter-core in c:\\users\\amyca\\anaconda3\\lib\\site-packages (from jupyterlab>=3) (4.11.1)\n",
      "Requirement already satisfied: jinja2>=2.1 in c:\\users\\amyca\\anaconda3\\lib\\site-packages (from jupyterlab>=3) (2.11.3)\n",
      "Requirement already satisfied: notebook<7 in c:\\users\\amyca\\anaconda3\\lib\\site-packages (from jupyterlab>=3) (6.4.12)\n",
      "Requirement already satisfied: nbclassic in c:\\users\\amyca\\anaconda3\\lib\\site-packages (from jupyterlab>=3) (0.3.5)\n",
      "Requirement already satisfied: ipython in c:\\users\\amyca\\anaconda3\\lib\\site-packages (from jupyterlab>=3) (7.31.1)\n",
      "Requirement already satisfied: jupyter-server~=1.16 in c:\\users\\amyca\\anaconda3\\lib\\site-packages (from jupyterlab>=3) (1.18.1)\n",
      "Requirement already satisfied: tornado>=6.1.0 in c:\\users\\amyca\\anaconda3\\lib\\site-packages (from jupyterlab>=3) (6.1)\n",
      "Requirement already satisfied: jupyterlab-server~=2.10 in c:\\users\\amyca\\anaconda3\\lib\\site-packages (from jupyterlab>=3) (2.10.3)\n",
      "Requirement already satisfied: packaging in c:\\users\\amyca\\anaconda3\\lib\\site-packages (from jupyterlab>=3) (21.3)\n",
      "Requirement already satisfied: jupyterlab-widgets>=1.0.0 in c:\\users\\amyca\\anaconda3\\lib\\site-packages (from ipywidgets>=7.6) (1.0.0)\n",
      "Requirement already satisfied: traitlets>=4.3.1 in c:\\users\\amyca\\anaconda3\\lib\\site-packages (from ipywidgets>=7.6) (5.1.1)\n",
      "Requirement already satisfied: ipython-genutils~=0.2.0 in c:\\users\\amyca\\anaconda3\\lib\\site-packages (from ipywidgets>=7.6) (0.2.0)\n",
      "Requirement already satisfied: nbformat>=4.2.0 in c:\\users\\amyca\\anaconda3\\lib\\site-packages (from ipywidgets>=7.6) (5.5.0)\n",
      "Requirement already satisfied: ipykernel>=4.5.1 in c:\\users\\amyca\\anaconda3\\lib\\site-packages (from ipywidgets>=7.6) (6.15.2)\n",
      "Requirement already satisfied: widgetsnbextension~=3.5.0 in c:\\users\\amyca\\anaconda3\\lib\\site-packages (from ipywidgets>=7.6) (3.5.2)\n",
      "Requirement already satisfied: nest-asyncio in c:\\users\\amyca\\anaconda3\\lib\\site-packages (from ipykernel>=4.5.1->ipywidgets>=7.6) (1.5.5)\n",
      "Requirement already satisfied: jupyter-client>=6.1.12 in c:\\users\\amyca\\anaconda3\\lib\\site-packages (from ipykernel>=4.5.1->ipywidgets>=7.6) (7.3.4)\n",
      "Requirement already satisfied: matplotlib-inline>=0.1 in c:\\users\\amyca\\anaconda3\\lib\\site-packages (from ipykernel>=4.5.1->ipywidgets>=7.6) (0.1.6)\n",
      "Requirement already satisfied: psutil in c:\\users\\amyca\\anaconda3\\lib\\site-packages (from ipykernel>=4.5.1->ipywidgets>=7.6) (5.9.0)\n",
      "Requirement already satisfied: debugpy>=1.0 in c:\\users\\amyca\\anaconda3\\lib\\site-packages (from ipykernel>=4.5.1->ipywidgets>=7.6) (1.5.1)\n",
      "Requirement already satisfied: pyzmq>=17 in c:\\users\\amyca\\anaconda3\\lib\\site-packages (from ipykernel>=4.5.1->ipywidgets>=7.6) (23.2.0)\n",
      "Requirement already satisfied: setuptools>=18.5 in c:\\users\\amyca\\anaconda3\\lib\\site-packages (from ipython->jupyterlab>=3) (63.4.1)\n",
      "Requirement already satisfied: colorama in c:\\users\\amyca\\anaconda3\\lib\\site-packages (from ipython->jupyterlab>=3) (0.4.5)\n",
      "Requirement already satisfied: pickleshare in c:\\users\\amyca\\anaconda3\\lib\\site-packages (from ipython->jupyterlab>=3) (0.7.5)\n",
      "Requirement already satisfied: jedi>=0.16 in c:\\users\\amyca\\anaconda3\\lib\\site-packages (from ipython->jupyterlab>=3) (0.18.1)\n",
      "Requirement already satisfied: prompt-toolkit!=3.0.0,!=3.0.1,<3.1.0,>=2.0.0 in c:\\users\\amyca\\anaconda3\\lib\\site-packages (from ipython->jupyterlab>=3) (3.0.20)\n",
      "Requirement already satisfied: pygments in c:\\users\\amyca\\anaconda3\\lib\\site-packages (from ipython->jupyterlab>=3) (2.11.2)\n",
      "Requirement already satisfied: backcall in c:\\users\\amyca\\anaconda3\\lib\\site-packages (from ipython->jupyterlab>=3) (0.2.0)\n",
      "Requirement already satisfied: decorator in c:\\users\\amyca\\anaconda3\\lib\\site-packages (from ipython->jupyterlab>=3) (5.1.1)\n",
      "Requirement already satisfied: MarkupSafe>=0.23 in c:\\users\\amyca\\anaconda3\\lib\\site-packages (from jinja2>=2.1->jupyterlab>=3) (2.0.1)\n",
      "Requirement already satisfied: nbconvert>=6.4.4 in c:\\users\\amyca\\anaconda3\\lib\\site-packages (from jupyter-server~=1.16->jupyterlab>=3) (6.4.4)\n",
      "Requirement already satisfied: anyio<4,>=3.1.0 in c:\\users\\amyca\\anaconda3\\lib\\site-packages (from jupyter-server~=1.16->jupyterlab>=3) (3.5.0)\n",
      "Requirement already satisfied: websocket-client in c:\\users\\amyca\\anaconda3\\lib\\site-packages (from jupyter-server~=1.16->jupyterlab>=3) (0.58.0)\n",
      "Requirement already satisfied: pywinpty in c:\\users\\amyca\\anaconda3\\lib\\site-packages (from jupyter-server~=1.16->jupyterlab>=3) (2.0.2)\n",
      "Requirement already satisfied: argon2-cffi in c:\\users\\amyca\\anaconda3\\lib\\site-packages (from jupyter-server~=1.16->jupyterlab>=3) (21.3.0)\n",
      "Requirement already satisfied: terminado>=0.8.3 in c:\\users\\amyca\\anaconda3\\lib\\site-packages (from jupyter-server~=1.16->jupyterlab>=3) (0.13.1)\n",
      "Requirement already satisfied: prometheus-client in c:\\users\\amyca\\anaconda3\\lib\\site-packages (from jupyter-server~=1.16->jupyterlab>=3) (0.14.1)\n",
      "Requirement already satisfied: Send2Trash in c:\\users\\amyca\\anaconda3\\lib\\site-packages (from jupyter-server~=1.16->jupyterlab>=3) (1.8.0)\n",
      "Requirement already satisfied: pywin32>=1.0 in c:\\users\\amyca\\anaconda3\\lib\\site-packages (from jupyter-core->jupyterlab>=3) (302)\n",
      "Requirement already satisfied: requests in c:\\users\\amyca\\anaconda3\\lib\\site-packages (from jupyterlab-server~=2.10->jupyterlab>=3) (2.28.1)\n",
      "Requirement already satisfied: jsonschema>=3.0.1 in c:\\users\\amyca\\anaconda3\\lib\\site-packages (from jupyterlab-server~=2.10->jupyterlab>=3) (4.16.0)\n",
      "Requirement already satisfied: json5 in c:\\users\\amyca\\anaconda3\\lib\\site-packages (from jupyterlab-server~=2.10->jupyterlab>=3) (0.9.6)\n",
      "Requirement already satisfied: babel in c:\\users\\amyca\\anaconda3\\lib\\site-packages (from jupyterlab-server~=2.10->jupyterlab>=3) (2.9.1)\n",
      "Requirement already satisfied: entrypoints>=0.2.2 in c:\\users\\amyca\\anaconda3\\lib\\site-packages (from jupyterlab-server~=2.10->jupyterlab>=3) (0.4)\n",
      "Requirement already satisfied: fastjsonschema in c:\\users\\amyca\\anaconda3\\lib\\site-packages (from nbformat>=4.2.0->ipywidgets>=7.6) (2.16.2)\n",
      "Requirement already satisfied: pyparsing!=3.0.5,>=2.0.2 in c:\\users\\amyca\\anaconda3\\lib\\site-packages (from packaging->jupyterlab>=3) (3.0.9)\n",
      "Requirement already satisfied: sniffio>=1.1 in c:\\users\\amyca\\anaconda3\\lib\\site-packages (from anyio<4,>=3.1.0->jupyter-server~=1.16->jupyterlab>=3) (1.2.0)\n",
      "Requirement already satisfied: idna>=2.8 in c:\\users\\amyca\\anaconda3\\lib\\site-packages (from anyio<4,>=3.1.0->jupyter-server~=1.16->jupyterlab>=3) (3.3)\n",
      "Requirement already satisfied: parso<0.9.0,>=0.8.0 in c:\\users\\amyca\\anaconda3\\lib\\site-packages (from jedi>=0.16->ipython->jupyterlab>=3) (0.8.3)\n",
      "Requirement already satisfied: pyrsistent!=0.17.0,!=0.17.1,!=0.17.2,>=0.14.0 in c:\\users\\amyca\\anaconda3\\lib\\site-packages (from jsonschema>=3.0.1->jupyterlab-server~=2.10->jupyterlab>=3) (0.18.0)\n",
      "Requirement already satisfied: attrs>=17.4.0 in c:\\users\\amyca\\anaconda3\\lib\\site-packages (from jsonschema>=3.0.1->jupyterlab-server~=2.10->jupyterlab>=3) (21.4.0)\n",
      "Requirement already satisfied: python-dateutil>=2.8.2 in c:\\users\\amyca\\anaconda3\\lib\\site-packages (from jupyter-client>=6.1.12->ipykernel>=4.5.1->ipywidgets>=7.6) (2.8.2)\n",
      "Requirement already satisfied: jupyterlab-pygments in c:\\users\\amyca\\anaconda3\\lib\\site-packages (from nbconvert>=6.4.4->jupyter-server~=1.16->jupyterlab>=3) (0.1.2)\n",
      "Requirement already satisfied: mistune<2,>=0.8.1 in c:\\users\\amyca\\anaconda3\\lib\\site-packages (from nbconvert>=6.4.4->jupyter-server~=1.16->jupyterlab>=3) (0.8.4)\n",
      "Requirement already satisfied: bleach in c:\\users\\amyca\\anaconda3\\lib\\site-packages (from nbconvert>=6.4.4->jupyter-server~=1.16->jupyterlab>=3) (4.1.0)\n",
      "Requirement already satisfied: pandocfilters>=1.4.1 in c:\\users\\amyca\\anaconda3\\lib\\site-packages (from nbconvert>=6.4.4->jupyter-server~=1.16->jupyterlab>=3) (1.5.0)\n",
      "Requirement already satisfied: testpath in c:\\users\\amyca\\anaconda3\\lib\\site-packages (from nbconvert>=6.4.4->jupyter-server~=1.16->jupyterlab>=3) (0.6.0)\n",
      "Requirement already satisfied: defusedxml in c:\\users\\amyca\\anaconda3\\lib\\site-packages (from nbconvert>=6.4.4->jupyter-server~=1.16->jupyterlab>=3) (0.7.1)\n",
      "Requirement already satisfied: beautifulsoup4 in c:\\users\\amyca\\anaconda3\\lib\\site-packages (from nbconvert>=6.4.4->jupyter-server~=1.16->jupyterlab>=3) (4.11.1)\n",
      "Requirement already satisfied: nbclient<0.6.0,>=0.5.0 in c:\\users\\amyca\\anaconda3\\lib\\site-packages (from nbconvert>=6.4.4->jupyter-server~=1.16->jupyterlab>=3) (0.5.13)\n",
      "Requirement already satisfied: wcwidth in c:\\users\\amyca\\anaconda3\\lib\\site-packages (from prompt-toolkit!=3.0.0,!=3.0.1,<3.1.0,>=2.0.0->ipython->jupyterlab>=3) (0.2.5)\n",
      "Requirement already satisfied: argon2-cffi-bindings in c:\\users\\amyca\\anaconda3\\lib\\site-packages (from argon2-cffi->jupyter-server~=1.16->jupyterlab>=3) (21.2.0)\n",
      "Requirement already satisfied: pytz>=2015.7 in c:\\users\\amyca\\anaconda3\\lib\\site-packages (from babel->jupyterlab-server~=2.10->jupyterlab>=3) (2022.1)\n",
      "Requirement already satisfied: urllib3<1.27,>=1.21.1 in c:\\users\\amyca\\anaconda3\\lib\\site-packages (from requests->jupyterlab-server~=2.10->jupyterlab>=3) (1.26.11)\n",
      "Requirement already satisfied: certifi>=2017.4.17 in c:\\users\\amyca\\anaconda3\\lib\\site-packages (from requests->jupyterlab-server~=2.10->jupyterlab>=3) (2022.9.14)\n",
      "Requirement already satisfied: charset-normalizer<3,>=2 in c:\\users\\amyca\\anaconda3\\lib\\site-packages (from requests->jupyterlab-server~=2.10->jupyterlab>=3) (2.0.4)\n",
      "Requirement already satisfied: six in c:\\users\\amyca\\anaconda3\\lib\\site-packages (from websocket-client->jupyter-server~=1.16->jupyterlab>=3) (1.16.0)\n",
      "Requirement already satisfied: cffi>=1.0.1 in c:\\users\\amyca\\anaconda3\\lib\\site-packages (from argon2-cffi-bindings->argon2-cffi->jupyter-server~=1.16->jupyterlab>=3) (1.15.1)\n",
      "Requirement already satisfied: soupsieve>1.2 in c:\\users\\amyca\\anaconda3\\lib\\site-packages (from beautifulsoup4->nbconvert>=6.4.4->jupyter-server~=1.16->jupyterlab>=3) (2.3.1)\n",
      "Requirement already satisfied: webencodings in c:\\users\\amyca\\anaconda3\\lib\\site-packages (from bleach->nbconvert>=6.4.4->jupyter-server~=1.16->jupyterlab>=3) (0.5.1)\n",
      "Requirement already satisfied: pycparser in c:\\users\\amyca\\anaconda3\\lib\\site-packages (from cffi>=1.0.1->argon2-cffi-bindings->argon2-cffi->jupyter-server~=1.16->jupyterlab>=3) (2.21)\n",
      "Note: you may need to restart the kernel to use updated packages.\n"
     ]
    }
   ],
   "source": [
    "%pip install \"jupyterlab>=3\" \"ipywidgets>=7.6\" "
   ]
  },
  {
   "attachments": {},
   "cell_type": "markdown",
   "metadata": {},
   "source": [
    "## Task 2\n",
    "- Using the data from Assignment 2, produce at least three types of charts using plotlyor other packages of you own preference. For example, you can plot the distribution of state or county areas, the distribution of common county names, and the distribution of thenumber of counties in states. Directly show those charts in Jupyter Notebook, if applies.\n",
    "- Alternatively, you can use pandas to load some tabular data, such as in csv file, for the charts.\n",
    "- The fallback option is to use the sample data available from the plotly package. However,two points, i.e., 20%, will be taken off if you choose this option because those onlineexamples are using such data.\n"
   ]
  },
  {
   "cell_type": "code",
   "execution_count": 45,
   "metadata": {},
   "outputs": [],
   "source": [
    "import pandas as pd #for data preperation\n",
    "import plotly.express as px #for data visualization"
   ]
  },
  {
   "cell_type": "code",
   "execution_count": 46,
   "metadata": {},
   "outputs": [
    {
     "data": {
      "text/plain": [
       "Index(['Ano/Estados', 'AC', 'AM', 'AP', 'MA', 'MT', 'PA', 'RO', 'RR', 'TO',\n",
       "       'AMZ LEGAL'],\n",
       "      dtype='object')"
      ]
     },
     "execution_count": 46,
     "metadata": {},
     "output_type": "execute_result"
    }
   ],
   "source": [
    "dff=pd.read_csv('Amazon_Deforestation.csv')\n",
    "dff.columns"
   ]
  },
  {
   "cell_type": "code",
   "execution_count": 47,
   "metadata": {},
   "outputs": [],
   "source": [
    "df = dff.rename(columns={'Ano/Estados':'YEAR', 'AC':'ACRE', 'AM':'AMAZONAS', 'AP':'AMAPA', \n",
    "                         'MA':'MARANHAO','MT':'MATO GROSSO', 'PA':'PARA', 'RO':'RONDONIA', \n",
    "                         'RR':'RORAIMA', 'TO':'TOCANTINS', 'AMZ LEGAL':'TOTAL_DEFORESTED_AREA'})"
   ]
  },
  {
   "cell_type": "code",
   "execution_count": 48,
   "metadata": {},
   "outputs": [
    {
     "data": {
      "text/html": [
       "<div>\n",
       "<style scoped>\n",
       "    .dataframe tbody tr th:only-of-type {\n",
       "        vertical-align: middle;\n",
       "    }\n",
       "\n",
       "    .dataframe tbody tr th {\n",
       "        vertical-align: top;\n",
       "    }\n",
       "\n",
       "    .dataframe thead th {\n",
       "        text-align: right;\n",
       "    }\n",
       "</style>\n",
       "<table border=\"1\" class=\"dataframe\">\n",
       "  <thead>\n",
       "    <tr style=\"text-align: right;\">\n",
       "      <th></th>\n",
       "      <th>YEAR</th>\n",
       "      <th>ACRE</th>\n",
       "      <th>AMAZONAS</th>\n",
       "      <th>AMAPA</th>\n",
       "      <th>MARANHAO</th>\n",
       "      <th>MATO GROSSO</th>\n",
       "      <th>PARA</th>\n",
       "      <th>RONDONIA</th>\n",
       "      <th>RORAIMA</th>\n",
       "      <th>TOCANTINS</th>\n",
       "      <th>TOTAL_DEFORESTED_AREA</th>\n",
       "    </tr>\n",
       "  </thead>\n",
       "  <tbody>\n",
       "    <tr>\n",
       "      <th>0</th>\n",
       "      <td>2004</td>\n",
       "      <td>728</td>\n",
       "      <td>1232</td>\n",
       "      <td>46</td>\n",
       "      <td>755</td>\n",
       "      <td>11814</td>\n",
       "      <td>8870</td>\n",
       "      <td>3858</td>\n",
       "      <td>311</td>\n",
       "      <td>158</td>\n",
       "      <td>27772</td>\n",
       "    </tr>\n",
       "    <tr>\n",
       "      <th>1</th>\n",
       "      <td>2005</td>\n",
       "      <td>592</td>\n",
       "      <td>775</td>\n",
       "      <td>33</td>\n",
       "      <td>922</td>\n",
       "      <td>7145</td>\n",
       "      <td>5899</td>\n",
       "      <td>3244</td>\n",
       "      <td>133</td>\n",
       "      <td>271</td>\n",
       "      <td>19014</td>\n",
       "    </tr>\n",
       "    <tr>\n",
       "      <th>2</th>\n",
       "      <td>2006</td>\n",
       "      <td>398</td>\n",
       "      <td>788</td>\n",
       "      <td>30</td>\n",
       "      <td>674</td>\n",
       "      <td>4333</td>\n",
       "      <td>5659</td>\n",
       "      <td>2049</td>\n",
       "      <td>231</td>\n",
       "      <td>124</td>\n",
       "      <td>14286</td>\n",
       "    </tr>\n",
       "    <tr>\n",
       "      <th>3</th>\n",
       "      <td>2007</td>\n",
       "      <td>184</td>\n",
       "      <td>610</td>\n",
       "      <td>39</td>\n",
       "      <td>631</td>\n",
       "      <td>2678</td>\n",
       "      <td>5526</td>\n",
       "      <td>1611</td>\n",
       "      <td>309</td>\n",
       "      <td>63</td>\n",
       "      <td>11651</td>\n",
       "    </tr>\n",
       "    <tr>\n",
       "      <th>4</th>\n",
       "      <td>2008</td>\n",
       "      <td>254</td>\n",
       "      <td>604</td>\n",
       "      <td>100</td>\n",
       "      <td>1271</td>\n",
       "      <td>3258</td>\n",
       "      <td>5607</td>\n",
       "      <td>1136</td>\n",
       "      <td>574</td>\n",
       "      <td>107</td>\n",
       "      <td>12911</td>\n",
       "    </tr>\n",
       "    <tr>\n",
       "      <th>5</th>\n",
       "      <td>2009</td>\n",
       "      <td>167</td>\n",
       "      <td>405</td>\n",
       "      <td>70</td>\n",
       "      <td>828</td>\n",
       "      <td>1049</td>\n",
       "      <td>4281</td>\n",
       "      <td>482</td>\n",
       "      <td>121</td>\n",
       "      <td>61</td>\n",
       "      <td>7464</td>\n",
       "    </tr>\n",
       "    <tr>\n",
       "      <th>6</th>\n",
       "      <td>2010</td>\n",
       "      <td>259</td>\n",
       "      <td>595</td>\n",
       "      <td>53</td>\n",
       "      <td>712</td>\n",
       "      <td>871</td>\n",
       "      <td>3770</td>\n",
       "      <td>435</td>\n",
       "      <td>256</td>\n",
       "      <td>49</td>\n",
       "      <td>7000</td>\n",
       "    </tr>\n",
       "    <tr>\n",
       "      <th>7</th>\n",
       "      <td>2011</td>\n",
       "      <td>280</td>\n",
       "      <td>502</td>\n",
       "      <td>66</td>\n",
       "      <td>396</td>\n",
       "      <td>1120</td>\n",
       "      <td>3008</td>\n",
       "      <td>865</td>\n",
       "      <td>141</td>\n",
       "      <td>40</td>\n",
       "      <td>6418</td>\n",
       "    </tr>\n",
       "    <tr>\n",
       "      <th>8</th>\n",
       "      <td>2012</td>\n",
       "      <td>305</td>\n",
       "      <td>523</td>\n",
       "      <td>27</td>\n",
       "      <td>269</td>\n",
       "      <td>757</td>\n",
       "      <td>1741</td>\n",
       "      <td>773</td>\n",
       "      <td>124</td>\n",
       "      <td>52</td>\n",
       "      <td>4571</td>\n",
       "    </tr>\n",
       "    <tr>\n",
       "      <th>9</th>\n",
       "      <td>2013</td>\n",
       "      <td>221</td>\n",
       "      <td>583</td>\n",
       "      <td>23</td>\n",
       "      <td>403</td>\n",
       "      <td>1139</td>\n",
       "      <td>2346</td>\n",
       "      <td>932</td>\n",
       "      <td>170</td>\n",
       "      <td>74</td>\n",
       "      <td>5891</td>\n",
       "    </tr>\n",
       "    <tr>\n",
       "      <th>10</th>\n",
       "      <td>2014</td>\n",
       "      <td>309</td>\n",
       "      <td>500</td>\n",
       "      <td>31</td>\n",
       "      <td>257</td>\n",
       "      <td>1075</td>\n",
       "      <td>1887</td>\n",
       "      <td>684</td>\n",
       "      <td>219</td>\n",
       "      <td>50</td>\n",
       "      <td>5012</td>\n",
       "    </tr>\n",
       "    <tr>\n",
       "      <th>11</th>\n",
       "      <td>2015</td>\n",
       "      <td>264</td>\n",
       "      <td>712</td>\n",
       "      <td>25</td>\n",
       "      <td>209</td>\n",
       "      <td>1601</td>\n",
       "      <td>2153</td>\n",
       "      <td>1030</td>\n",
       "      <td>156</td>\n",
       "      <td>57</td>\n",
       "      <td>6207</td>\n",
       "    </tr>\n",
       "    <tr>\n",
       "      <th>12</th>\n",
       "      <td>2016</td>\n",
       "      <td>372</td>\n",
       "      <td>1129</td>\n",
       "      <td>17</td>\n",
       "      <td>258</td>\n",
       "      <td>1489</td>\n",
       "      <td>2992</td>\n",
       "      <td>1376</td>\n",
       "      <td>202</td>\n",
       "      <td>58</td>\n",
       "      <td>7893</td>\n",
       "    </tr>\n",
       "    <tr>\n",
       "      <th>13</th>\n",
       "      <td>2017</td>\n",
       "      <td>257</td>\n",
       "      <td>1001</td>\n",
       "      <td>24</td>\n",
       "      <td>265</td>\n",
       "      <td>1561</td>\n",
       "      <td>2433</td>\n",
       "      <td>1243</td>\n",
       "      <td>132</td>\n",
       "      <td>31</td>\n",
       "      <td>6947</td>\n",
       "    </tr>\n",
       "    <tr>\n",
       "      <th>14</th>\n",
       "      <td>2018</td>\n",
       "      <td>444</td>\n",
       "      <td>1045</td>\n",
       "      <td>24</td>\n",
       "      <td>253</td>\n",
       "      <td>1490</td>\n",
       "      <td>2744</td>\n",
       "      <td>1316</td>\n",
       "      <td>195</td>\n",
       "      <td>25</td>\n",
       "      <td>7536</td>\n",
       "    </tr>\n",
       "    <tr>\n",
       "      <th>15</th>\n",
       "      <td>2019</td>\n",
       "      <td>688</td>\n",
       "      <td>1421</td>\n",
       "      <td>8</td>\n",
       "      <td>215</td>\n",
       "      <td>1685</td>\n",
       "      <td>3862</td>\n",
       "      <td>1245</td>\n",
       "      <td>617</td>\n",
       "      <td>21</td>\n",
       "      <td>9762</td>\n",
       "    </tr>\n",
       "  </tbody>\n",
       "</table>\n",
       "</div>"
      ],
      "text/plain": [
       "    YEAR  ACRE  AMAZONAS  AMAPA  MARANHAO  MATO GROSSO  PARA  RONDONIA  \\\n",
       "0   2004   728      1232     46       755        11814  8870      3858   \n",
       "1   2005   592       775     33       922         7145  5899      3244   \n",
       "2   2006   398       788     30       674         4333  5659      2049   \n",
       "3   2007   184       610     39       631         2678  5526      1611   \n",
       "4   2008   254       604    100      1271         3258  5607      1136   \n",
       "5   2009   167       405     70       828         1049  4281       482   \n",
       "6   2010   259       595     53       712          871  3770       435   \n",
       "7   2011   280       502     66       396         1120  3008       865   \n",
       "8   2012   305       523     27       269          757  1741       773   \n",
       "9   2013   221       583     23       403         1139  2346       932   \n",
       "10  2014   309       500     31       257         1075  1887       684   \n",
       "11  2015   264       712     25       209         1601  2153      1030   \n",
       "12  2016   372      1129     17       258         1489  2992      1376   \n",
       "13  2017   257      1001     24       265         1561  2433      1243   \n",
       "14  2018   444      1045     24       253         1490  2744      1316   \n",
       "15  2019   688      1421      8       215         1685  3862      1245   \n",
       "\n",
       "    RORAIMA  TOCANTINS  TOTAL_DEFORESTED_AREA  \n",
       "0       311        158                  27772  \n",
       "1       133        271                  19014  \n",
       "2       231        124                  14286  \n",
       "3       309         63                  11651  \n",
       "4       574        107                  12911  \n",
       "5       121         61                   7464  \n",
       "6       256         49                   7000  \n",
       "7       141         40                   6418  \n",
       "8       124         52                   4571  \n",
       "9       170         74                   5891  \n",
       "10      219         50                   5012  \n",
       "11      156         57                   6207  \n",
       "12      202         58                   7893  \n",
       "13      132         31                   6947  \n",
       "14      195         25                   7536  \n",
       "15      617         21                   9762  "
      ]
     },
     "execution_count": 48,
     "metadata": {},
     "output_type": "execute_result"
    }
   ],
   "source": [
    "df"
   ]
  },
  {
   "attachments": {},
   "cell_type": "markdown",
   "metadata": {},
   "source": [
    "### 1. Simple scatter plot"
   ]
  },
  {
   "cell_type": "code",
   "execution_count": 49,
   "metadata": {},
   "outputs": [
    {
     "data": {
      "application/vnd.plotly.v1+json": {
       "config": {
        "plotlyServerURL": "https://plot.ly"
       },
       "data": [
        {
         "alignmentgroup": "True",
         "hovertemplate": "Year=%{x}<br>Total Deforested Area (acres)=%{y}<extra></extra>",
         "legendgroup": "",
         "marker": {
          "color": "#636efa",
          "pattern": {
           "shape": ""
          }
         },
         "name": "",
         "offsetgroup": "",
         "orientation": "v",
         "showlegend": false,
         "textposition": "auto",
         "type": "bar",
         "x": [
          2004,
          2005,
          2006,
          2007,
          2008,
          2009,
          2010,
          2011,
          2012,
          2013,
          2014,
          2015,
          2016,
          2017,
          2018,
          2019
         ],
         "xaxis": "x",
         "y": [
          27772,
          19014,
          14286,
          11651,
          12911,
          7464,
          7000,
          6418,
          4571,
          5891,
          5012,
          6207,
          7893,
          6947,
          7536,
          9762
         ],
         "yaxis": "y"
        }
       ],
       "layout": {
        "barmode": "relative",
        "legend": {
         "tracegroupgap": 0
        },
        "template": {
         "data": {
          "bar": [
           {
            "error_x": {
             "color": "#2a3f5f"
            },
            "error_y": {
             "color": "#2a3f5f"
            },
            "marker": {
             "line": {
              "color": "#E5ECF6",
              "width": 0.5
             },
             "pattern": {
              "fillmode": "overlay",
              "size": 10,
              "solidity": 0.2
             }
            },
            "type": "bar"
           }
          ],
          "barpolar": [
           {
            "marker": {
             "line": {
              "color": "#E5ECF6",
              "width": 0.5
             },
             "pattern": {
              "fillmode": "overlay",
              "size": 10,
              "solidity": 0.2
             }
            },
            "type": "barpolar"
           }
          ],
          "carpet": [
           {
            "aaxis": {
             "endlinecolor": "#2a3f5f",
             "gridcolor": "white",
             "linecolor": "white",
             "minorgridcolor": "white",
             "startlinecolor": "#2a3f5f"
            },
            "baxis": {
             "endlinecolor": "#2a3f5f",
             "gridcolor": "white",
             "linecolor": "white",
             "minorgridcolor": "white",
             "startlinecolor": "#2a3f5f"
            },
            "type": "carpet"
           }
          ],
          "choropleth": [
           {
            "colorbar": {
             "outlinewidth": 0,
             "ticks": ""
            },
            "type": "choropleth"
           }
          ],
          "contour": [
           {
            "colorbar": {
             "outlinewidth": 0,
             "ticks": ""
            },
            "colorscale": [
             [
              0,
              "#0d0887"
             ],
             [
              0.1111111111111111,
              "#46039f"
             ],
             [
              0.2222222222222222,
              "#7201a8"
             ],
             [
              0.3333333333333333,
              "#9c179e"
             ],
             [
              0.4444444444444444,
              "#bd3786"
             ],
             [
              0.5555555555555556,
              "#d8576b"
             ],
             [
              0.6666666666666666,
              "#ed7953"
             ],
             [
              0.7777777777777778,
              "#fb9f3a"
             ],
             [
              0.8888888888888888,
              "#fdca26"
             ],
             [
              1,
              "#f0f921"
             ]
            ],
            "type": "contour"
           }
          ],
          "contourcarpet": [
           {
            "colorbar": {
             "outlinewidth": 0,
             "ticks": ""
            },
            "type": "contourcarpet"
           }
          ],
          "heatmap": [
           {
            "colorbar": {
             "outlinewidth": 0,
             "ticks": ""
            },
            "colorscale": [
             [
              0,
              "#0d0887"
             ],
             [
              0.1111111111111111,
              "#46039f"
             ],
             [
              0.2222222222222222,
              "#7201a8"
             ],
             [
              0.3333333333333333,
              "#9c179e"
             ],
             [
              0.4444444444444444,
              "#bd3786"
             ],
             [
              0.5555555555555556,
              "#d8576b"
             ],
             [
              0.6666666666666666,
              "#ed7953"
             ],
             [
              0.7777777777777778,
              "#fb9f3a"
             ],
             [
              0.8888888888888888,
              "#fdca26"
             ],
             [
              1,
              "#f0f921"
             ]
            ],
            "type": "heatmap"
           }
          ],
          "heatmapgl": [
           {
            "colorbar": {
             "outlinewidth": 0,
             "ticks": ""
            },
            "colorscale": [
             [
              0,
              "#0d0887"
             ],
             [
              0.1111111111111111,
              "#46039f"
             ],
             [
              0.2222222222222222,
              "#7201a8"
             ],
             [
              0.3333333333333333,
              "#9c179e"
             ],
             [
              0.4444444444444444,
              "#bd3786"
             ],
             [
              0.5555555555555556,
              "#d8576b"
             ],
             [
              0.6666666666666666,
              "#ed7953"
             ],
             [
              0.7777777777777778,
              "#fb9f3a"
             ],
             [
              0.8888888888888888,
              "#fdca26"
             ],
             [
              1,
              "#f0f921"
             ]
            ],
            "type": "heatmapgl"
           }
          ],
          "histogram": [
           {
            "marker": {
             "pattern": {
              "fillmode": "overlay",
              "size": 10,
              "solidity": 0.2
             }
            },
            "type": "histogram"
           }
          ],
          "histogram2d": [
           {
            "colorbar": {
             "outlinewidth": 0,
             "ticks": ""
            },
            "colorscale": [
             [
              0,
              "#0d0887"
             ],
             [
              0.1111111111111111,
              "#46039f"
             ],
             [
              0.2222222222222222,
              "#7201a8"
             ],
             [
              0.3333333333333333,
              "#9c179e"
             ],
             [
              0.4444444444444444,
              "#bd3786"
             ],
             [
              0.5555555555555556,
              "#d8576b"
             ],
             [
              0.6666666666666666,
              "#ed7953"
             ],
             [
              0.7777777777777778,
              "#fb9f3a"
             ],
             [
              0.8888888888888888,
              "#fdca26"
             ],
             [
              1,
              "#f0f921"
             ]
            ],
            "type": "histogram2d"
           }
          ],
          "histogram2dcontour": [
           {
            "colorbar": {
             "outlinewidth": 0,
             "ticks": ""
            },
            "colorscale": [
             [
              0,
              "#0d0887"
             ],
             [
              0.1111111111111111,
              "#46039f"
             ],
             [
              0.2222222222222222,
              "#7201a8"
             ],
             [
              0.3333333333333333,
              "#9c179e"
             ],
             [
              0.4444444444444444,
              "#bd3786"
             ],
             [
              0.5555555555555556,
              "#d8576b"
             ],
             [
              0.6666666666666666,
              "#ed7953"
             ],
             [
              0.7777777777777778,
              "#fb9f3a"
             ],
             [
              0.8888888888888888,
              "#fdca26"
             ],
             [
              1,
              "#f0f921"
             ]
            ],
            "type": "histogram2dcontour"
           }
          ],
          "mesh3d": [
           {
            "colorbar": {
             "outlinewidth": 0,
             "ticks": ""
            },
            "type": "mesh3d"
           }
          ],
          "parcoords": [
           {
            "line": {
             "colorbar": {
              "outlinewidth": 0,
              "ticks": ""
             }
            },
            "type": "parcoords"
           }
          ],
          "pie": [
           {
            "automargin": true,
            "type": "pie"
           }
          ],
          "scatter": [
           {
            "fillpattern": {
             "fillmode": "overlay",
             "size": 10,
             "solidity": 0.2
            },
            "type": "scatter"
           }
          ],
          "scatter3d": [
           {
            "line": {
             "colorbar": {
              "outlinewidth": 0,
              "ticks": ""
             }
            },
            "marker": {
             "colorbar": {
              "outlinewidth": 0,
              "ticks": ""
             }
            },
            "type": "scatter3d"
           }
          ],
          "scattercarpet": [
           {
            "marker": {
             "colorbar": {
              "outlinewidth": 0,
              "ticks": ""
             }
            },
            "type": "scattercarpet"
           }
          ],
          "scattergeo": [
           {
            "marker": {
             "colorbar": {
              "outlinewidth": 0,
              "ticks": ""
             }
            },
            "type": "scattergeo"
           }
          ],
          "scattergl": [
           {
            "marker": {
             "colorbar": {
              "outlinewidth": 0,
              "ticks": ""
             }
            },
            "type": "scattergl"
           }
          ],
          "scattermapbox": [
           {
            "marker": {
             "colorbar": {
              "outlinewidth": 0,
              "ticks": ""
             }
            },
            "type": "scattermapbox"
           }
          ],
          "scatterpolar": [
           {
            "marker": {
             "colorbar": {
              "outlinewidth": 0,
              "ticks": ""
             }
            },
            "type": "scatterpolar"
           }
          ],
          "scatterpolargl": [
           {
            "marker": {
             "colorbar": {
              "outlinewidth": 0,
              "ticks": ""
             }
            },
            "type": "scatterpolargl"
           }
          ],
          "scatterternary": [
           {
            "marker": {
             "colorbar": {
              "outlinewidth": 0,
              "ticks": ""
             }
            },
            "type": "scatterternary"
           }
          ],
          "surface": [
           {
            "colorbar": {
             "outlinewidth": 0,
             "ticks": ""
            },
            "colorscale": [
             [
              0,
              "#0d0887"
             ],
             [
              0.1111111111111111,
              "#46039f"
             ],
             [
              0.2222222222222222,
              "#7201a8"
             ],
             [
              0.3333333333333333,
              "#9c179e"
             ],
             [
              0.4444444444444444,
              "#bd3786"
             ],
             [
              0.5555555555555556,
              "#d8576b"
             ],
             [
              0.6666666666666666,
              "#ed7953"
             ],
             [
              0.7777777777777778,
              "#fb9f3a"
             ],
             [
              0.8888888888888888,
              "#fdca26"
             ],
             [
              1,
              "#f0f921"
             ]
            ],
            "type": "surface"
           }
          ],
          "table": [
           {
            "cells": {
             "fill": {
              "color": "#EBF0F8"
             },
             "line": {
              "color": "white"
             }
            },
            "header": {
             "fill": {
              "color": "#C8D4E3"
             },
             "line": {
              "color": "white"
             }
            },
            "type": "table"
           }
          ]
         },
         "layout": {
          "annotationdefaults": {
           "arrowcolor": "#2a3f5f",
           "arrowhead": 0,
           "arrowwidth": 1
          },
          "autotypenumbers": "strict",
          "coloraxis": {
           "colorbar": {
            "outlinewidth": 0,
            "ticks": ""
           }
          },
          "colorscale": {
           "diverging": [
            [
             0,
             "#8e0152"
            ],
            [
             0.1,
             "#c51b7d"
            ],
            [
             0.2,
             "#de77ae"
            ],
            [
             0.3,
             "#f1b6da"
            ],
            [
             0.4,
             "#fde0ef"
            ],
            [
             0.5,
             "#f7f7f7"
            ],
            [
             0.6,
             "#e6f5d0"
            ],
            [
             0.7,
             "#b8e186"
            ],
            [
             0.8,
             "#7fbc41"
            ],
            [
             0.9,
             "#4d9221"
            ],
            [
             1,
             "#276419"
            ]
           ],
           "sequential": [
            [
             0,
             "#0d0887"
            ],
            [
             0.1111111111111111,
             "#46039f"
            ],
            [
             0.2222222222222222,
             "#7201a8"
            ],
            [
             0.3333333333333333,
             "#9c179e"
            ],
            [
             0.4444444444444444,
             "#bd3786"
            ],
            [
             0.5555555555555556,
             "#d8576b"
            ],
            [
             0.6666666666666666,
             "#ed7953"
            ],
            [
             0.7777777777777778,
             "#fb9f3a"
            ],
            [
             0.8888888888888888,
             "#fdca26"
            ],
            [
             1,
             "#f0f921"
            ]
           ],
           "sequentialminus": [
            [
             0,
             "#0d0887"
            ],
            [
             0.1111111111111111,
             "#46039f"
            ],
            [
             0.2222222222222222,
             "#7201a8"
            ],
            [
             0.3333333333333333,
             "#9c179e"
            ],
            [
             0.4444444444444444,
             "#bd3786"
            ],
            [
             0.5555555555555556,
             "#d8576b"
            ],
            [
             0.6666666666666666,
             "#ed7953"
            ],
            [
             0.7777777777777778,
             "#fb9f3a"
            ],
            [
             0.8888888888888888,
             "#fdca26"
            ],
            [
             1,
             "#f0f921"
            ]
           ]
          },
          "colorway": [
           "#636efa",
           "#EF553B",
           "#00cc96",
           "#ab63fa",
           "#FFA15A",
           "#19d3f3",
           "#FF6692",
           "#B6E880",
           "#FF97FF",
           "#FECB52"
          ],
          "font": {
           "color": "#2a3f5f"
          },
          "geo": {
           "bgcolor": "white",
           "lakecolor": "white",
           "landcolor": "#E5ECF6",
           "showlakes": true,
           "showland": true,
           "subunitcolor": "white"
          },
          "hoverlabel": {
           "align": "left"
          },
          "hovermode": "closest",
          "mapbox": {
           "style": "light"
          },
          "paper_bgcolor": "white",
          "plot_bgcolor": "#E5ECF6",
          "polar": {
           "angularaxis": {
            "gridcolor": "white",
            "linecolor": "white",
            "ticks": ""
           },
           "bgcolor": "#E5ECF6",
           "radialaxis": {
            "gridcolor": "white",
            "linecolor": "white",
            "ticks": ""
           }
          },
          "scene": {
           "xaxis": {
            "backgroundcolor": "#E5ECF6",
            "gridcolor": "white",
            "gridwidth": 2,
            "linecolor": "white",
            "showbackground": true,
            "ticks": "",
            "zerolinecolor": "white"
           },
           "yaxis": {
            "backgroundcolor": "#E5ECF6",
            "gridcolor": "white",
            "gridwidth": 2,
            "linecolor": "white",
            "showbackground": true,
            "ticks": "",
            "zerolinecolor": "white"
           },
           "zaxis": {
            "backgroundcolor": "#E5ECF6",
            "gridcolor": "white",
            "gridwidth": 2,
            "linecolor": "white",
            "showbackground": true,
            "ticks": "",
            "zerolinecolor": "white"
           }
          },
          "shapedefaults": {
           "line": {
            "color": "#2a3f5f"
           }
          },
          "ternary": {
           "aaxis": {
            "gridcolor": "white",
            "linecolor": "white",
            "ticks": ""
           },
           "baxis": {
            "gridcolor": "white",
            "linecolor": "white",
            "ticks": ""
           },
           "bgcolor": "#E5ECF6",
           "caxis": {
            "gridcolor": "white",
            "linecolor": "white",
            "ticks": ""
           }
          },
          "title": {
           "x": 0.05
          },
          "xaxis": {
           "automargin": true,
           "gridcolor": "white",
           "linecolor": "white",
           "ticks": "",
           "title": {
            "standoff": 15
           },
           "zerolinecolor": "white",
           "zerolinewidth": 2
          },
          "yaxis": {
           "automargin": true,
           "gridcolor": "white",
           "linecolor": "white",
           "ticks": "",
           "title": {
            "standoff": 15
           },
           "zerolinecolor": "white",
           "zerolinewidth": 2
          }
         }
        },
        "title": {
         "text": "Yearly Amazon Deforestation"
        },
        "xaxis": {
         "anchor": "y",
         "domain": [
          0,
          1
         ],
         "title": {
          "text": "Year"
         }
        },
        "yaxis": {
         "anchor": "x",
         "domain": [
          0,
          1
         ],
         "title": {
          "text": "Total Deforested Area (acres)"
         }
        }
       }
      }
     },
     "metadata": {},
     "output_type": "display_data"
    }
   ],
   "source": [
    "import plotly.express as px\n",
    "fig = px.bar(df, y=\"TOTAL_DEFORESTED_AREA\", x=\"YEAR\",\n",
    "                 labels=dict(TOTAL_DEFORESTED_AREA='Total Deforested Area (acres)', YEAR = \"Year\"),\n",
    "                 title=\"Yearly Amazon Deforestation\")\n",
    "fig.show()"
   ]
  },
  {
   "attachments": {},
   "cell_type": "markdown",
   "metadata": {},
   "source": [
    "### 2. Line graph with each Amazonian Region's Deforestation Area"
   ]
  },
  {
   "cell_type": "code",
   "execution_count": 50,
   "metadata": {},
   "outputs": [
    {
     "data": {
      "application/vnd.plotly.v1+json": {
       "config": {
        "plotlyServerURL": "https://plot.ly"
       },
       "data": [
        {
         "hovertemplate": "Year=%{x}<br>Deforested Area (acres)=%{y}<extra></extra>",
         "legendgroup": "",
         "line": {
          "color": "#636efa",
          "dash": "solid"
         },
         "marker": {
          "symbol": "circle"
         },
         "mode": "lines",
         "name": "",
         "orientation": "v",
         "showlegend": false,
         "type": "scatter",
         "x": [
          2004,
          2005,
          2006,
          2007,
          2008,
          2009,
          2010,
          2011,
          2012,
          2013,
          2014,
          2015,
          2016,
          2017,
          2018,
          2019
         ],
         "xaxis": "x",
         "y": [
          1232,
          775,
          788,
          610,
          604,
          405,
          595,
          502,
          523,
          583,
          500,
          712,
          1129,
          1001,
          1045,
          1421
         ],
         "yaxis": "y"
        },
        {
         "name": "Amazonas",
         "type": "scatter",
         "x": [
          2004,
          2005,
          2006,
          2007,
          2008,
          2009,
          2010,
          2011,
          2012,
          2013,
          2014,
          2015,
          2016,
          2017,
          2018,
          2019
         ],
         "y": [
          1232,
          775,
          788,
          610,
          604,
          405,
          595,
          502,
          523,
          583,
          500,
          712,
          1129,
          1001,
          1045,
          1421
         ]
        },
        {
         "name": "Amapa",
         "type": "scatter",
         "x": [
          2004,
          2005,
          2006,
          2007,
          2008,
          2009,
          2010,
          2011,
          2012,
          2013,
          2014,
          2015,
          2016,
          2017,
          2018,
          2019
         ],
         "y": [
          46,
          33,
          30,
          39,
          100,
          70,
          53,
          66,
          27,
          23,
          31,
          25,
          17,
          24,
          24,
          8
         ]
        },
        {
         "name": "Maranhoa",
         "type": "scatter",
         "x": [
          2004,
          2005,
          2006,
          2007,
          2008,
          2009,
          2010,
          2011,
          2012,
          2013,
          2014,
          2015,
          2016,
          2017,
          2018,
          2019
         ],
         "y": [
          755,
          922,
          674,
          631,
          1271,
          828,
          712,
          396,
          269,
          403,
          257,
          209,
          258,
          265,
          253,
          215
         ]
        },
        {
         "name": "Mato Graso",
         "type": "scatter",
         "x": [
          2004,
          2005,
          2006,
          2007,
          2008,
          2009,
          2010,
          2011,
          2012,
          2013,
          2014,
          2015,
          2016,
          2017,
          2018,
          2019
         ],
         "y": [
          11814,
          7145,
          4333,
          2678,
          3258,
          1049,
          871,
          1120,
          757,
          1139,
          1075,
          1601,
          1489,
          1561,
          1490,
          1685
         ]
        },
        {
         "name": "Para",
         "type": "scatter",
         "x": [
          2004,
          2005,
          2006,
          2007,
          2008,
          2009,
          2010,
          2011,
          2012,
          2013,
          2014,
          2015,
          2016,
          2017,
          2018,
          2019
         ],
         "y": [
          8870,
          5899,
          5659,
          5526,
          5607,
          4281,
          3770,
          3008,
          1741,
          2346,
          1887,
          2153,
          2992,
          2433,
          2744,
          3862
         ]
        },
        {
         "name": "Rondonia",
         "type": "scatter",
         "x": [
          2004,
          2005,
          2006,
          2007,
          2008,
          2009,
          2010,
          2011,
          2012,
          2013,
          2014,
          2015,
          2016,
          2017,
          2018,
          2019
         ],
         "y": [
          3858,
          3244,
          2049,
          1611,
          1136,
          482,
          435,
          865,
          773,
          932,
          684,
          1030,
          1376,
          1243,
          1316,
          1245
         ]
        },
        {
         "name": "Roraima",
         "type": "scatter",
         "x": [
          2004,
          2005,
          2006,
          2007,
          2008,
          2009,
          2010,
          2011,
          2012,
          2013,
          2014,
          2015,
          2016,
          2017,
          2018,
          2019
         ],
         "y": [
          311,
          133,
          231,
          309,
          574,
          121,
          256,
          141,
          124,
          170,
          219,
          156,
          202,
          132,
          195,
          617
         ]
        },
        {
         "name": "Tocantins",
         "type": "scatter",
         "x": [
          2004,
          2005,
          2006,
          2007,
          2008,
          2009,
          2010,
          2011,
          2012,
          2013,
          2014,
          2015,
          2016,
          2017,
          2018,
          2019
         ],
         "y": [
          158,
          271,
          124,
          63,
          107,
          61,
          49,
          40,
          52,
          74,
          50,
          57,
          58,
          31,
          25,
          21
         ]
        }
       ],
       "layout": {
        "legend": {
         "tracegroupgap": 0
        },
        "template": {
         "data": {
          "bar": [
           {
            "error_x": {
             "color": "#2a3f5f"
            },
            "error_y": {
             "color": "#2a3f5f"
            },
            "marker": {
             "line": {
              "color": "#E5ECF6",
              "width": 0.5
             },
             "pattern": {
              "fillmode": "overlay",
              "size": 10,
              "solidity": 0.2
             }
            },
            "type": "bar"
           }
          ],
          "barpolar": [
           {
            "marker": {
             "line": {
              "color": "#E5ECF6",
              "width": 0.5
             },
             "pattern": {
              "fillmode": "overlay",
              "size": 10,
              "solidity": 0.2
             }
            },
            "type": "barpolar"
           }
          ],
          "carpet": [
           {
            "aaxis": {
             "endlinecolor": "#2a3f5f",
             "gridcolor": "white",
             "linecolor": "white",
             "minorgridcolor": "white",
             "startlinecolor": "#2a3f5f"
            },
            "baxis": {
             "endlinecolor": "#2a3f5f",
             "gridcolor": "white",
             "linecolor": "white",
             "minorgridcolor": "white",
             "startlinecolor": "#2a3f5f"
            },
            "type": "carpet"
           }
          ],
          "choropleth": [
           {
            "colorbar": {
             "outlinewidth": 0,
             "ticks": ""
            },
            "type": "choropleth"
           }
          ],
          "contour": [
           {
            "colorbar": {
             "outlinewidth": 0,
             "ticks": ""
            },
            "colorscale": [
             [
              0,
              "#0d0887"
             ],
             [
              0.1111111111111111,
              "#46039f"
             ],
             [
              0.2222222222222222,
              "#7201a8"
             ],
             [
              0.3333333333333333,
              "#9c179e"
             ],
             [
              0.4444444444444444,
              "#bd3786"
             ],
             [
              0.5555555555555556,
              "#d8576b"
             ],
             [
              0.6666666666666666,
              "#ed7953"
             ],
             [
              0.7777777777777778,
              "#fb9f3a"
             ],
             [
              0.8888888888888888,
              "#fdca26"
             ],
             [
              1,
              "#f0f921"
             ]
            ],
            "type": "contour"
           }
          ],
          "contourcarpet": [
           {
            "colorbar": {
             "outlinewidth": 0,
             "ticks": ""
            },
            "type": "contourcarpet"
           }
          ],
          "heatmap": [
           {
            "colorbar": {
             "outlinewidth": 0,
             "ticks": ""
            },
            "colorscale": [
             [
              0,
              "#0d0887"
             ],
             [
              0.1111111111111111,
              "#46039f"
             ],
             [
              0.2222222222222222,
              "#7201a8"
             ],
             [
              0.3333333333333333,
              "#9c179e"
             ],
             [
              0.4444444444444444,
              "#bd3786"
             ],
             [
              0.5555555555555556,
              "#d8576b"
             ],
             [
              0.6666666666666666,
              "#ed7953"
             ],
             [
              0.7777777777777778,
              "#fb9f3a"
             ],
             [
              0.8888888888888888,
              "#fdca26"
             ],
             [
              1,
              "#f0f921"
             ]
            ],
            "type": "heatmap"
           }
          ],
          "heatmapgl": [
           {
            "colorbar": {
             "outlinewidth": 0,
             "ticks": ""
            },
            "colorscale": [
             [
              0,
              "#0d0887"
             ],
             [
              0.1111111111111111,
              "#46039f"
             ],
             [
              0.2222222222222222,
              "#7201a8"
             ],
             [
              0.3333333333333333,
              "#9c179e"
             ],
             [
              0.4444444444444444,
              "#bd3786"
             ],
             [
              0.5555555555555556,
              "#d8576b"
             ],
             [
              0.6666666666666666,
              "#ed7953"
             ],
             [
              0.7777777777777778,
              "#fb9f3a"
             ],
             [
              0.8888888888888888,
              "#fdca26"
             ],
             [
              1,
              "#f0f921"
             ]
            ],
            "type": "heatmapgl"
           }
          ],
          "histogram": [
           {
            "marker": {
             "pattern": {
              "fillmode": "overlay",
              "size": 10,
              "solidity": 0.2
             }
            },
            "type": "histogram"
           }
          ],
          "histogram2d": [
           {
            "colorbar": {
             "outlinewidth": 0,
             "ticks": ""
            },
            "colorscale": [
             [
              0,
              "#0d0887"
             ],
             [
              0.1111111111111111,
              "#46039f"
             ],
             [
              0.2222222222222222,
              "#7201a8"
             ],
             [
              0.3333333333333333,
              "#9c179e"
             ],
             [
              0.4444444444444444,
              "#bd3786"
             ],
             [
              0.5555555555555556,
              "#d8576b"
             ],
             [
              0.6666666666666666,
              "#ed7953"
             ],
             [
              0.7777777777777778,
              "#fb9f3a"
             ],
             [
              0.8888888888888888,
              "#fdca26"
             ],
             [
              1,
              "#f0f921"
             ]
            ],
            "type": "histogram2d"
           }
          ],
          "histogram2dcontour": [
           {
            "colorbar": {
             "outlinewidth": 0,
             "ticks": ""
            },
            "colorscale": [
             [
              0,
              "#0d0887"
             ],
             [
              0.1111111111111111,
              "#46039f"
             ],
             [
              0.2222222222222222,
              "#7201a8"
             ],
             [
              0.3333333333333333,
              "#9c179e"
             ],
             [
              0.4444444444444444,
              "#bd3786"
             ],
             [
              0.5555555555555556,
              "#d8576b"
             ],
             [
              0.6666666666666666,
              "#ed7953"
             ],
             [
              0.7777777777777778,
              "#fb9f3a"
             ],
             [
              0.8888888888888888,
              "#fdca26"
             ],
             [
              1,
              "#f0f921"
             ]
            ],
            "type": "histogram2dcontour"
           }
          ],
          "mesh3d": [
           {
            "colorbar": {
             "outlinewidth": 0,
             "ticks": ""
            },
            "type": "mesh3d"
           }
          ],
          "parcoords": [
           {
            "line": {
             "colorbar": {
              "outlinewidth": 0,
              "ticks": ""
             }
            },
            "type": "parcoords"
           }
          ],
          "pie": [
           {
            "automargin": true,
            "type": "pie"
           }
          ],
          "scatter": [
           {
            "fillpattern": {
             "fillmode": "overlay",
             "size": 10,
             "solidity": 0.2
            },
            "type": "scatter"
           }
          ],
          "scatter3d": [
           {
            "line": {
             "colorbar": {
              "outlinewidth": 0,
              "ticks": ""
             }
            },
            "marker": {
             "colorbar": {
              "outlinewidth": 0,
              "ticks": ""
             }
            },
            "type": "scatter3d"
           }
          ],
          "scattercarpet": [
           {
            "marker": {
             "colorbar": {
              "outlinewidth": 0,
              "ticks": ""
             }
            },
            "type": "scattercarpet"
           }
          ],
          "scattergeo": [
           {
            "marker": {
             "colorbar": {
              "outlinewidth": 0,
              "ticks": ""
             }
            },
            "type": "scattergeo"
           }
          ],
          "scattergl": [
           {
            "marker": {
             "colorbar": {
              "outlinewidth": 0,
              "ticks": ""
             }
            },
            "type": "scattergl"
           }
          ],
          "scattermapbox": [
           {
            "marker": {
             "colorbar": {
              "outlinewidth": 0,
              "ticks": ""
             }
            },
            "type": "scattermapbox"
           }
          ],
          "scatterpolar": [
           {
            "marker": {
             "colorbar": {
              "outlinewidth": 0,
              "ticks": ""
             }
            },
            "type": "scatterpolar"
           }
          ],
          "scatterpolargl": [
           {
            "marker": {
             "colorbar": {
              "outlinewidth": 0,
              "ticks": ""
             }
            },
            "type": "scatterpolargl"
           }
          ],
          "scatterternary": [
           {
            "marker": {
             "colorbar": {
              "outlinewidth": 0,
              "ticks": ""
             }
            },
            "type": "scatterternary"
           }
          ],
          "surface": [
           {
            "colorbar": {
             "outlinewidth": 0,
             "ticks": ""
            },
            "colorscale": [
             [
              0,
              "#0d0887"
             ],
             [
              0.1111111111111111,
              "#46039f"
             ],
             [
              0.2222222222222222,
              "#7201a8"
             ],
             [
              0.3333333333333333,
              "#9c179e"
             ],
             [
              0.4444444444444444,
              "#bd3786"
             ],
             [
              0.5555555555555556,
              "#d8576b"
             ],
             [
              0.6666666666666666,
              "#ed7953"
             ],
             [
              0.7777777777777778,
              "#fb9f3a"
             ],
             [
              0.8888888888888888,
              "#fdca26"
             ],
             [
              1,
              "#f0f921"
             ]
            ],
            "type": "surface"
           }
          ],
          "table": [
           {
            "cells": {
             "fill": {
              "color": "#EBF0F8"
             },
             "line": {
              "color": "white"
             }
            },
            "header": {
             "fill": {
              "color": "#C8D4E3"
             },
             "line": {
              "color": "white"
             }
            },
            "type": "table"
           }
          ]
         },
         "layout": {
          "annotationdefaults": {
           "arrowcolor": "#2a3f5f",
           "arrowhead": 0,
           "arrowwidth": 1
          },
          "autotypenumbers": "strict",
          "coloraxis": {
           "colorbar": {
            "outlinewidth": 0,
            "ticks": ""
           }
          },
          "colorscale": {
           "diverging": [
            [
             0,
             "#8e0152"
            ],
            [
             0.1,
             "#c51b7d"
            ],
            [
             0.2,
             "#de77ae"
            ],
            [
             0.3,
             "#f1b6da"
            ],
            [
             0.4,
             "#fde0ef"
            ],
            [
             0.5,
             "#f7f7f7"
            ],
            [
             0.6,
             "#e6f5d0"
            ],
            [
             0.7,
             "#b8e186"
            ],
            [
             0.8,
             "#7fbc41"
            ],
            [
             0.9,
             "#4d9221"
            ],
            [
             1,
             "#276419"
            ]
           ],
           "sequential": [
            [
             0,
             "#0d0887"
            ],
            [
             0.1111111111111111,
             "#46039f"
            ],
            [
             0.2222222222222222,
             "#7201a8"
            ],
            [
             0.3333333333333333,
             "#9c179e"
            ],
            [
             0.4444444444444444,
             "#bd3786"
            ],
            [
             0.5555555555555556,
             "#d8576b"
            ],
            [
             0.6666666666666666,
             "#ed7953"
            ],
            [
             0.7777777777777778,
             "#fb9f3a"
            ],
            [
             0.8888888888888888,
             "#fdca26"
            ],
            [
             1,
             "#f0f921"
            ]
           ],
           "sequentialminus": [
            [
             0,
             "#0d0887"
            ],
            [
             0.1111111111111111,
             "#46039f"
            ],
            [
             0.2222222222222222,
             "#7201a8"
            ],
            [
             0.3333333333333333,
             "#9c179e"
            ],
            [
             0.4444444444444444,
             "#bd3786"
            ],
            [
             0.5555555555555556,
             "#d8576b"
            ],
            [
             0.6666666666666666,
             "#ed7953"
            ],
            [
             0.7777777777777778,
             "#fb9f3a"
            ],
            [
             0.8888888888888888,
             "#fdca26"
            ],
            [
             1,
             "#f0f921"
            ]
           ]
          },
          "colorway": [
           "#636efa",
           "#EF553B",
           "#00cc96",
           "#ab63fa",
           "#FFA15A",
           "#19d3f3",
           "#FF6692",
           "#B6E880",
           "#FF97FF",
           "#FECB52"
          ],
          "font": {
           "color": "#2a3f5f"
          },
          "geo": {
           "bgcolor": "white",
           "lakecolor": "white",
           "landcolor": "#E5ECF6",
           "showlakes": true,
           "showland": true,
           "subunitcolor": "white"
          },
          "hoverlabel": {
           "align": "left"
          },
          "hovermode": "closest",
          "mapbox": {
           "style": "light"
          },
          "paper_bgcolor": "white",
          "plot_bgcolor": "#E5ECF6",
          "polar": {
           "angularaxis": {
            "gridcolor": "white",
            "linecolor": "white",
            "ticks": ""
           },
           "bgcolor": "#E5ECF6",
           "radialaxis": {
            "gridcolor": "white",
            "linecolor": "white",
            "ticks": ""
           }
          },
          "scene": {
           "xaxis": {
            "backgroundcolor": "#E5ECF6",
            "gridcolor": "white",
            "gridwidth": 2,
            "linecolor": "white",
            "showbackground": true,
            "ticks": "",
            "zerolinecolor": "white"
           },
           "yaxis": {
            "backgroundcolor": "#E5ECF6",
            "gridcolor": "white",
            "gridwidth": 2,
            "linecolor": "white",
            "showbackground": true,
            "ticks": "",
            "zerolinecolor": "white"
           },
           "zaxis": {
            "backgroundcolor": "#E5ECF6",
            "gridcolor": "white",
            "gridwidth": 2,
            "linecolor": "white",
            "showbackground": true,
            "ticks": "",
            "zerolinecolor": "white"
           }
          },
          "shapedefaults": {
           "line": {
            "color": "#2a3f5f"
           }
          },
          "ternary": {
           "aaxis": {
            "gridcolor": "white",
            "linecolor": "white",
            "ticks": ""
           },
           "baxis": {
            "gridcolor": "white",
            "linecolor": "white",
            "ticks": ""
           },
           "bgcolor": "#E5ECF6",
           "caxis": {
            "gridcolor": "white",
            "linecolor": "white",
            "ticks": ""
           }
          },
          "title": {
           "x": 0.05
          },
          "xaxis": {
           "automargin": true,
           "gridcolor": "white",
           "linecolor": "white",
           "ticks": "",
           "title": {
            "standoff": 15
           },
           "zerolinecolor": "white",
           "zerolinewidth": 2
          },
          "yaxis": {
           "automargin": true,
           "gridcolor": "white",
           "linecolor": "white",
           "ticks": "",
           "title": {
            "standoff": 15
           },
           "zerolinecolor": "white",
           "zerolinewidth": 2
          }
         }
        },
        "title": {
         "text": "Yearly Regional Deforested Area in the Amazon"
        },
        "xaxis": {
         "anchor": "y",
         "domain": [
          0,
          1
         ],
         "title": {
          "text": "Year"
         }
        },
        "yaxis": {
         "anchor": "x",
         "domain": [
          0,
          1
         ],
         "title": {
          "text": "Deforested Area (acres)"
         }
        }
       }
      }
     },
     "metadata": {},
     "output_type": "display_data"
    }
   ],
   "source": [
    "fig2 = px.line(df, x='YEAR', y = 'AMAZONAS',\n",
    "               labels = dict(AMAZONAS='Deforested Area (acres)', YEAR = 'Year'),\n",
    "               title = \"Yearly Regional Deforested Area in the Amazon\")\n",
    "fig2.add_scatter(x = df['YEAR'], y = df['AMAZONAS'], name = 'Amazonas')\n",
    "fig2.add_scatter(x = df['YEAR'], y = df['AMAPA'], name = 'Amapa' )\n",
    "fig2.add_scatter(x = df['YEAR'], y = df['MARANHAO'], name = 'Maranhoa')\n",
    "fig2.add_scatter(x = df['YEAR'], y = df['MATO GROSSO'], name = 'Mato Graso')\n",
    "fig2.add_scatter(x = df['YEAR'], y = df['PARA'], name = 'Para')\n",
    "fig2.add_scatter(x = df['YEAR'], y = df['RONDONIA'], name = 'Rondonia')\n",
    "fig2.add_scatter(x = df['YEAR'], y = df['RORAIMA'], name = 'Roraima')\n",
    "fig2.add_scatter(x = df['YEAR'], y = df['TOCANTINS'], name = 'Tocantins')\n",
    "\n",
    "fig2.show()"
   ]
  },
  {
   "attachments": {},
   "cell_type": "markdown",
   "metadata": {},
   "source": [
    "### 3. Subplots "
   ]
  },
  {
   "cell_type": "code",
   "execution_count": 51,
   "metadata": {},
   "outputs": [
    {
     "data": {
      "application/vnd.plotly.v1+json": {
       "config": {
        "plotlyServerURL": "https://plot.ly"
       },
       "data": [
        {
         "mode": "lines",
         "name": "Mato Grosso",
         "type": "scatter",
         "x": [
          2004,
          2005,
          2006,
          2007,
          2008,
          2009,
          2010,
          2011,
          2012,
          2013,
          2014,
          2015,
          2016,
          2017,
          2018,
          2019
         ],
         "xaxis": "x",
         "y": [
          11814,
          7145,
          4333,
          2678,
          3258,
          1049,
          871,
          1120,
          757,
          1139,
          1075,
          1601,
          1489,
          1561,
          1490,
          1685
         ],
         "yaxis": "y"
        },
        {
         "mode": "lines",
         "name": "Para",
         "type": "scatter",
         "x": [
          2004,
          2005,
          2006,
          2007,
          2008,
          2009,
          2010,
          2011,
          2012,
          2013,
          2014,
          2015,
          2016,
          2017,
          2018,
          2019
         ],
         "xaxis": "x2",
         "y": [
          8870,
          5899,
          5659,
          5526,
          5607,
          4281,
          3770,
          3008,
          1741,
          2346,
          1887,
          2153,
          2992,
          2433,
          2744,
          3862
         ],
         "yaxis": "y2"
        }
       ],
       "layout": {
        "template": {
         "data": {
          "bar": [
           {
            "error_x": {
             "color": "#2a3f5f"
            },
            "error_y": {
             "color": "#2a3f5f"
            },
            "marker": {
             "line": {
              "color": "#E5ECF6",
              "width": 0.5
             },
             "pattern": {
              "fillmode": "overlay",
              "size": 10,
              "solidity": 0.2
             }
            },
            "type": "bar"
           }
          ],
          "barpolar": [
           {
            "marker": {
             "line": {
              "color": "#E5ECF6",
              "width": 0.5
             },
             "pattern": {
              "fillmode": "overlay",
              "size": 10,
              "solidity": 0.2
             }
            },
            "type": "barpolar"
           }
          ],
          "carpet": [
           {
            "aaxis": {
             "endlinecolor": "#2a3f5f",
             "gridcolor": "white",
             "linecolor": "white",
             "minorgridcolor": "white",
             "startlinecolor": "#2a3f5f"
            },
            "baxis": {
             "endlinecolor": "#2a3f5f",
             "gridcolor": "white",
             "linecolor": "white",
             "minorgridcolor": "white",
             "startlinecolor": "#2a3f5f"
            },
            "type": "carpet"
           }
          ],
          "choropleth": [
           {
            "colorbar": {
             "outlinewidth": 0,
             "ticks": ""
            },
            "type": "choropleth"
           }
          ],
          "contour": [
           {
            "colorbar": {
             "outlinewidth": 0,
             "ticks": ""
            },
            "colorscale": [
             [
              0,
              "#0d0887"
             ],
             [
              0.1111111111111111,
              "#46039f"
             ],
             [
              0.2222222222222222,
              "#7201a8"
             ],
             [
              0.3333333333333333,
              "#9c179e"
             ],
             [
              0.4444444444444444,
              "#bd3786"
             ],
             [
              0.5555555555555556,
              "#d8576b"
             ],
             [
              0.6666666666666666,
              "#ed7953"
             ],
             [
              0.7777777777777778,
              "#fb9f3a"
             ],
             [
              0.8888888888888888,
              "#fdca26"
             ],
             [
              1,
              "#f0f921"
             ]
            ],
            "type": "contour"
           }
          ],
          "contourcarpet": [
           {
            "colorbar": {
             "outlinewidth": 0,
             "ticks": ""
            },
            "type": "contourcarpet"
           }
          ],
          "heatmap": [
           {
            "colorbar": {
             "outlinewidth": 0,
             "ticks": ""
            },
            "colorscale": [
             [
              0,
              "#0d0887"
             ],
             [
              0.1111111111111111,
              "#46039f"
             ],
             [
              0.2222222222222222,
              "#7201a8"
             ],
             [
              0.3333333333333333,
              "#9c179e"
             ],
             [
              0.4444444444444444,
              "#bd3786"
             ],
             [
              0.5555555555555556,
              "#d8576b"
             ],
             [
              0.6666666666666666,
              "#ed7953"
             ],
             [
              0.7777777777777778,
              "#fb9f3a"
             ],
             [
              0.8888888888888888,
              "#fdca26"
             ],
             [
              1,
              "#f0f921"
             ]
            ],
            "type": "heatmap"
           }
          ],
          "heatmapgl": [
           {
            "colorbar": {
             "outlinewidth": 0,
             "ticks": ""
            },
            "colorscale": [
             [
              0,
              "#0d0887"
             ],
             [
              0.1111111111111111,
              "#46039f"
             ],
             [
              0.2222222222222222,
              "#7201a8"
             ],
             [
              0.3333333333333333,
              "#9c179e"
             ],
             [
              0.4444444444444444,
              "#bd3786"
             ],
             [
              0.5555555555555556,
              "#d8576b"
             ],
             [
              0.6666666666666666,
              "#ed7953"
             ],
             [
              0.7777777777777778,
              "#fb9f3a"
             ],
             [
              0.8888888888888888,
              "#fdca26"
             ],
             [
              1,
              "#f0f921"
             ]
            ],
            "type": "heatmapgl"
           }
          ],
          "histogram": [
           {
            "marker": {
             "pattern": {
              "fillmode": "overlay",
              "size": 10,
              "solidity": 0.2
             }
            },
            "type": "histogram"
           }
          ],
          "histogram2d": [
           {
            "colorbar": {
             "outlinewidth": 0,
             "ticks": ""
            },
            "colorscale": [
             [
              0,
              "#0d0887"
             ],
             [
              0.1111111111111111,
              "#46039f"
             ],
             [
              0.2222222222222222,
              "#7201a8"
             ],
             [
              0.3333333333333333,
              "#9c179e"
             ],
             [
              0.4444444444444444,
              "#bd3786"
             ],
             [
              0.5555555555555556,
              "#d8576b"
             ],
             [
              0.6666666666666666,
              "#ed7953"
             ],
             [
              0.7777777777777778,
              "#fb9f3a"
             ],
             [
              0.8888888888888888,
              "#fdca26"
             ],
             [
              1,
              "#f0f921"
             ]
            ],
            "type": "histogram2d"
           }
          ],
          "histogram2dcontour": [
           {
            "colorbar": {
             "outlinewidth": 0,
             "ticks": ""
            },
            "colorscale": [
             [
              0,
              "#0d0887"
             ],
             [
              0.1111111111111111,
              "#46039f"
             ],
             [
              0.2222222222222222,
              "#7201a8"
             ],
             [
              0.3333333333333333,
              "#9c179e"
             ],
             [
              0.4444444444444444,
              "#bd3786"
             ],
             [
              0.5555555555555556,
              "#d8576b"
             ],
             [
              0.6666666666666666,
              "#ed7953"
             ],
             [
              0.7777777777777778,
              "#fb9f3a"
             ],
             [
              0.8888888888888888,
              "#fdca26"
             ],
             [
              1,
              "#f0f921"
             ]
            ],
            "type": "histogram2dcontour"
           }
          ],
          "mesh3d": [
           {
            "colorbar": {
             "outlinewidth": 0,
             "ticks": ""
            },
            "type": "mesh3d"
           }
          ],
          "parcoords": [
           {
            "line": {
             "colorbar": {
              "outlinewidth": 0,
              "ticks": ""
             }
            },
            "type": "parcoords"
           }
          ],
          "pie": [
           {
            "automargin": true,
            "type": "pie"
           }
          ],
          "scatter": [
           {
            "fillpattern": {
             "fillmode": "overlay",
             "size": 10,
             "solidity": 0.2
            },
            "type": "scatter"
           }
          ],
          "scatter3d": [
           {
            "line": {
             "colorbar": {
              "outlinewidth": 0,
              "ticks": ""
             }
            },
            "marker": {
             "colorbar": {
              "outlinewidth": 0,
              "ticks": ""
             }
            },
            "type": "scatter3d"
           }
          ],
          "scattercarpet": [
           {
            "marker": {
             "colorbar": {
              "outlinewidth": 0,
              "ticks": ""
             }
            },
            "type": "scattercarpet"
           }
          ],
          "scattergeo": [
           {
            "marker": {
             "colorbar": {
              "outlinewidth": 0,
              "ticks": ""
             }
            },
            "type": "scattergeo"
           }
          ],
          "scattergl": [
           {
            "marker": {
             "colorbar": {
              "outlinewidth": 0,
              "ticks": ""
             }
            },
            "type": "scattergl"
           }
          ],
          "scattermapbox": [
           {
            "marker": {
             "colorbar": {
              "outlinewidth": 0,
              "ticks": ""
             }
            },
            "type": "scattermapbox"
           }
          ],
          "scatterpolar": [
           {
            "marker": {
             "colorbar": {
              "outlinewidth": 0,
              "ticks": ""
             }
            },
            "type": "scatterpolar"
           }
          ],
          "scatterpolargl": [
           {
            "marker": {
             "colorbar": {
              "outlinewidth": 0,
              "ticks": ""
             }
            },
            "type": "scatterpolargl"
           }
          ],
          "scatterternary": [
           {
            "marker": {
             "colorbar": {
              "outlinewidth": 0,
              "ticks": ""
             }
            },
            "type": "scatterternary"
           }
          ],
          "surface": [
           {
            "colorbar": {
             "outlinewidth": 0,
             "ticks": ""
            },
            "colorscale": [
             [
              0,
              "#0d0887"
             ],
             [
              0.1111111111111111,
              "#46039f"
             ],
             [
              0.2222222222222222,
              "#7201a8"
             ],
             [
              0.3333333333333333,
              "#9c179e"
             ],
             [
              0.4444444444444444,
              "#bd3786"
             ],
             [
              0.5555555555555556,
              "#d8576b"
             ],
             [
              0.6666666666666666,
              "#ed7953"
             ],
             [
              0.7777777777777778,
              "#fb9f3a"
             ],
             [
              0.8888888888888888,
              "#fdca26"
             ],
             [
              1,
              "#f0f921"
             ]
            ],
            "type": "surface"
           }
          ],
          "table": [
           {
            "cells": {
             "fill": {
              "color": "#EBF0F8"
             },
             "line": {
              "color": "white"
             }
            },
            "header": {
             "fill": {
              "color": "#C8D4E3"
             },
             "line": {
              "color": "white"
             }
            },
            "type": "table"
           }
          ]
         },
         "layout": {
          "annotationdefaults": {
           "arrowcolor": "#2a3f5f",
           "arrowhead": 0,
           "arrowwidth": 1
          },
          "autotypenumbers": "strict",
          "coloraxis": {
           "colorbar": {
            "outlinewidth": 0,
            "ticks": ""
           }
          },
          "colorscale": {
           "diverging": [
            [
             0,
             "#8e0152"
            ],
            [
             0.1,
             "#c51b7d"
            ],
            [
             0.2,
             "#de77ae"
            ],
            [
             0.3,
             "#f1b6da"
            ],
            [
             0.4,
             "#fde0ef"
            ],
            [
             0.5,
             "#f7f7f7"
            ],
            [
             0.6,
             "#e6f5d0"
            ],
            [
             0.7,
             "#b8e186"
            ],
            [
             0.8,
             "#7fbc41"
            ],
            [
             0.9,
             "#4d9221"
            ],
            [
             1,
             "#276419"
            ]
           ],
           "sequential": [
            [
             0,
             "#0d0887"
            ],
            [
             0.1111111111111111,
             "#46039f"
            ],
            [
             0.2222222222222222,
             "#7201a8"
            ],
            [
             0.3333333333333333,
             "#9c179e"
            ],
            [
             0.4444444444444444,
             "#bd3786"
            ],
            [
             0.5555555555555556,
             "#d8576b"
            ],
            [
             0.6666666666666666,
             "#ed7953"
            ],
            [
             0.7777777777777778,
             "#fb9f3a"
            ],
            [
             0.8888888888888888,
             "#fdca26"
            ],
            [
             1,
             "#f0f921"
            ]
           ],
           "sequentialminus": [
            [
             0,
             "#0d0887"
            ],
            [
             0.1111111111111111,
             "#46039f"
            ],
            [
             0.2222222222222222,
             "#7201a8"
            ],
            [
             0.3333333333333333,
             "#9c179e"
            ],
            [
             0.4444444444444444,
             "#bd3786"
            ],
            [
             0.5555555555555556,
             "#d8576b"
            ],
            [
             0.6666666666666666,
             "#ed7953"
            ],
            [
             0.7777777777777778,
             "#fb9f3a"
            ],
            [
             0.8888888888888888,
             "#fdca26"
            ],
            [
             1,
             "#f0f921"
            ]
           ]
          },
          "colorway": [
           "#636efa",
           "#EF553B",
           "#00cc96",
           "#ab63fa",
           "#FFA15A",
           "#19d3f3",
           "#FF6692",
           "#B6E880",
           "#FF97FF",
           "#FECB52"
          ],
          "font": {
           "color": "#2a3f5f"
          },
          "geo": {
           "bgcolor": "white",
           "lakecolor": "white",
           "landcolor": "#E5ECF6",
           "showlakes": true,
           "showland": true,
           "subunitcolor": "white"
          },
          "hoverlabel": {
           "align": "left"
          },
          "hovermode": "closest",
          "mapbox": {
           "style": "light"
          },
          "paper_bgcolor": "white",
          "plot_bgcolor": "#E5ECF6",
          "polar": {
           "angularaxis": {
            "gridcolor": "white",
            "linecolor": "white",
            "ticks": ""
           },
           "bgcolor": "#E5ECF6",
           "radialaxis": {
            "gridcolor": "white",
            "linecolor": "white",
            "ticks": ""
           }
          },
          "scene": {
           "xaxis": {
            "backgroundcolor": "#E5ECF6",
            "gridcolor": "white",
            "gridwidth": 2,
            "linecolor": "white",
            "showbackground": true,
            "ticks": "",
            "zerolinecolor": "white"
           },
           "yaxis": {
            "backgroundcolor": "#E5ECF6",
            "gridcolor": "white",
            "gridwidth": 2,
            "linecolor": "white",
            "showbackground": true,
            "ticks": "",
            "zerolinecolor": "white"
           },
           "zaxis": {
            "backgroundcolor": "#E5ECF6",
            "gridcolor": "white",
            "gridwidth": 2,
            "linecolor": "white",
            "showbackground": true,
            "ticks": "",
            "zerolinecolor": "white"
           }
          },
          "shapedefaults": {
           "line": {
            "color": "#2a3f5f"
           }
          },
          "ternary": {
           "aaxis": {
            "gridcolor": "white",
            "linecolor": "white",
            "ticks": ""
           },
           "baxis": {
            "gridcolor": "white",
            "linecolor": "white",
            "ticks": ""
           },
           "bgcolor": "#E5ECF6",
           "caxis": {
            "gridcolor": "white",
            "linecolor": "white",
            "ticks": ""
           }
          },
          "title": {
           "x": 0.05
          },
          "xaxis": {
           "automargin": true,
           "gridcolor": "white",
           "linecolor": "white",
           "ticks": "",
           "title": {
            "standoff": 15
           },
           "zerolinecolor": "white",
           "zerolinewidth": 2
          },
          "yaxis": {
           "automargin": true,
           "gridcolor": "white",
           "linecolor": "white",
           "ticks": "",
           "title": {
            "standoff": 15
           },
           "zerolinecolor": "white",
           "zerolinewidth": 2
          }
         }
        },
        "xaxis": {
         "anchor": "y",
         "domain": [
          0,
          0.45
         ]
        },
        "xaxis2": {
         "anchor": "y2",
         "domain": [
          0.55,
          1
         ]
        },
        "yaxis": {
         "anchor": "x",
         "domain": [
          0,
          1
         ]
        },
        "yaxis2": {
         "anchor": "x2",
         "domain": [
          0,
          1
         ]
        }
       }
      }
     },
     "metadata": {},
     "output_type": "display_data"
    }
   ],
   "source": [
    "from plotly.subplots import make_subplots\n",
    "\n",
    "fig3 = make_subplots(rows=1, cols=2)\n",
    "\n",
    "fig3.add_scatter(x = df['YEAR'], y = df['MATO GROSSO'], mode = \"lines\", row = 1, col = 1, name = \"Mato Grosso\")\n",
    "fig3.add_scatter(x = df['YEAR'], y = df['PARA'], mode = \"lines\", row = 1, col = 2, name = \"Para\")\n",
    "fig3.show()"
   ]
  },
  {
   "attachments": {},
   "cell_type": "markdown",
   "metadata": {},
   "source": [
    "### 4. Histogram of Amazon Firespots"
   ]
  },
  {
   "cell_type": "code",
   "execution_count": 52,
   "metadata": {},
   "outputs": [
    {
     "data": {
      "text/plain": [
       "Index(['year', 'month', 'state', 'latitude', 'longitude', 'firespots'], dtype='object')"
      ]
     },
     "execution_count": 52,
     "metadata": {},
     "output_type": "execute_result"
    }
   ],
   "source": [
    "df2=pd.read_csv('inpe_brazilian_amazon_fires_1999_2019.csv')\n",
    "df2.columns"
   ]
  },
  {
   "cell_type": "code",
   "execution_count": 53,
   "metadata": {},
   "outputs": [
    {
     "data": {
      "application/vnd.plotly.v1+json": {
       "config": {
        "plotlyServerURL": "https://plot.ly"
       },
       "data": [
        {
         "alignmentgroup": "True",
         "bingroup": "x",
         "hovertemplate": "firespots=%{x}<br>count=%{y}<extra></extra>",
         "legendgroup": "",
         "marker": {
          "color": "#636efa",
          "pattern": {
           "shape": ""
          }
         },
         "name": "",
         "offsetgroup": "",
         "orientation": "v",
         "showlegend": false,
         "type": "histogram",
         "x": [
          3,
          36,
          18,
          87,
          1,
          15,
          1,
          43,
          8,
          285,
          1,
          20,
          2,
          7,
          4,
          4,
          7,
          8,
          98,
          2,
          43,
          6,
          3,
          16,
          441,
          4,
          3,
          1,
          2,
          7,
          1,
          1376,
          37,
          10,
          3,
          3,
          1,
          11,
          44,
          2473,
          982,
          135,
          4,
          25,
          67,
          255,
          186,
          12707,
          6179,
          1976,
          1,
          154,
          212,
          4,
          214,
          375,
          7357,
          4417,
          3059,
          3,
          465,
          63,
          25,
          476,
          1446,
          3648,
          5026,
          1884,
          10,
          216,
          4,
          26,
          28,
          1203,
          445,
          2682,
          41,
          15,
          5,
          41,
          2,
          841,
          18,
          766,
          35,
          2,
          7,
          17,
          13,
          30,
          18,
          62,
          3,
          25,
          29,
          6,
          57,
          11,
          69,
          10,
          181,
          9,
          125,
          1,
          18,
          2,
          31,
          40,
          1,
          51,
          840,
          12,
          15,
          7,
          4,
          1,
          6,
          31,
          3049,
          59,
          54,
          11,
          1,
          39,
          48,
          851,
          426,
          120,
          25,
          136,
          3,
          180,
          140,
          4366,
          5484,
          2200,
          9,
          273,
          261,
          19,
          193,
          255,
          3901,
          2569,
          2440,
          12,
          412,
          18,
          42,
          145,
          1072,
          3898,
          4308,
          641,
          25,
          77,
          157,
          27,
          1657,
          233,
          3366,
          13,
          32,
          12,
          30,
          60,
          1275,
          25,
          1697,
          7,
          77,
          4,
          3,
          10,
          17,
          34,
          101,
          8,
          27,
          16,
          2,
          646,
          6,
          21,
          1107,
          1,
          1,
          235,
          380,
          1,
          893,
          7,
          5,
          9,
          1,
          1,
          5,
          3,
          4137,
          42,
          31,
          1,
          7,
          3,
          1,
          9,
          77,
          918,
          709,
          74,
          1,
          24,
          399,
          12,
          499,
          367,
          4997,
          9042,
          2132,
          4,
          227,
          288,
          95,
          168,
          952,
          5020,
          6136,
          1929,
          1,
          939,
          137,
          193,
          332,
          3254,
          4300,
          5102,
          796,
          13,
          165,
          1,
          406,
          244,
          2348,
          208,
          4936,
          92,
          76,
          35,
          593,
          22,
          966,
          22,
          2566,
          1,
          76,
          10,
          7,
          17,
          22,
          90,
          144,
          6,
          302,
          2,
          1,
          2,
          2,
          42,
          15,
          120,
          8,
          476,
          1,
          5,
          2,
          58,
          14,
          1,
          819,
          2,
          2,
          7,
          341,
          11,
          3,
          41,
          3,
          8,
          8,
          1433,
          18,
          15,
          5,
          5,
          26,
          5372,
          149,
          143,
          7,
          76,
          3,
          405,
          198,
          8408,
          1982,
          995,
          11,
          27,
          1486,
          25,
          2108,
          663,
          23642,
          37926,
          7375,
          21,
          434,
          5137,
          211,
          3679,
          1298,
          23385,
          22054,
          22133,
          131,
          1490,
          1129,
          894,
          2297,
          4909,
          13177,
          15718,
          7305,
          309,
          591,
          153,
          2148,
          1395,
          9251,
          2851,
          20777,
          1026,
          288,
          28,
          3,
          437,
          280,
          4422,
          908,
          7936,
          122,
          447,
          14,
          14,
          35,
          379,
          404,
          597,
          1440,
          69,
          761,
          5,
          129,
          1,
          343,
          23,
          14,
          1063,
          5,
          94,
          2,
          364,
          28,
          12,
          1486,
          6,
          5,
          3,
          42,
          6,
          596,
          14,
          18,
          354,
          18,
          1,
          24,
          35,
          1684,
          112,
          102,
          6,
          1,
          18,
          3,
          36,
          76,
          6072,
          403,
          229,
          4,
          7,
          427,
          1,
          655,
          226,
          9058,
          3814,
          1673,
          64,
          3163,
          21,
          3017,
          356,
          10224,
          8875,
          9049,
          6,
          54,
          5803,
          135,
          2594,
          672,
          14666,
          12633,
          10774,
          8,
          504,
          1041,
          526,
          1851,
          3069,
          4384,
          6673,
          7591,
          24,
          182,
          30,
          1117,
          780,
          4517,
          1626,
          10732,
          749,
          52,
          28,
          4,
          669,
          590,
          2672,
          1099,
          8293,
          253,
          223,
          10,
          58,
          277,
          242,
          171,
          875,
          31,
          522,
          2,
          4,
          1,
          129,
          6,
          264,
          36,
          16,
          349,
          20,
          4,
          506,
          29,
          26,
          449,
          1,
          9,
          1,
          26,
          7,
          616,
          61,
          27,
          262,
          3,
          21,
          1,
          11,
          54,
          2803,
          193,
          32,
          9,
          7,
          12,
          7,
          43,
          67,
          8101,
          637,
          287,
          9,
          16,
          95,
          4,
          364,
          194,
          10159,
          6620,
          1722,
          2,
          19,
          1003,
          18,
          1850,
          343,
          12906,
          17861,
          9235,
          22,
          82,
          5458,
          117,
          2436,
          568,
          24886,
          14249,
          23414,
          15,
          379,
          633,
          534,
          1564,
          1295,
          7122,
          7464,
          5086,
          71,
          159,
          25,
          1406,
          988,
          5214,
          1886,
          15958,
          680,
          210,
          57,
          11,
          1266,
          375,
          3449,
          1002,
          10231,
          268,
          301,
          21,
          20,
          194,
          225,
          435,
          297,
          2861,
          122,
          155,
          5,
          1,
          16,
          34,
          628,
          121,
          41,
          207,
          5,
          15,
          3,
          246,
          32,
          16,
          441,
          2,
          8,
          12,
          681,
          43,
          26,
          56,
          4,
          17,
          1,
          36,
          15,
          1502,
          101,
          61,
          6,
          7,
          75,
          3,
          130,
          94,
          1710,
          656,
          261,
          10,
          15,
          1136,
          1,
          1894,
          209,
          4655,
          9464,
          1947,
          8,
          50,
          7669,
          15,
          5981,
          358,
          13065,
          23635,
          12798,
          16,
          227,
          6092,
          139,
          4931,
          1047,
          22116,
          12728,
          20902,
          108,
          497,
          943,
          509,
          1499,
          2770,
          7057,
          8689,
          4718,
          121,
          318,
          27,
          1054,
          833,
          3498,
          1136,
          9368,
          671,
          175,
          28,
          7,
          103,
          76,
          2345,
          396,
          3779,
          78,
          158,
          24,
          7,
          10,
          79,
          179,
          720,
          855,
          14,
          98,
          11,
          1,
          1,
          31,
          9,
          265,
          110,
          19,
          441,
          2,
          30,
          3,
          312,
          18,
          15,
          524,
          1,
          2,
          4,
          28,
          2,
          277,
          11,
          9,
          376,
          58,
          20,
          22,
          624,
          8,
          105,
          5,
          1,
          34,
          156,
          85,
          1579,
          423,
          232,
          13,
          186,
          574,
          161,
          3031,
          1955,
          1057,
          1,
          30,
          1507,
          27,
          3399,
          304,
          7483,
          15064,
          6347,
          21,
          56,
          3737,
          159,
          4254,
          364,
          14105,
          13225,
          14938,
          56,
          190,
          600,
          565,
          2181,
          1189,
          2216,
          9346,
          1895,
          161,
          156,
          66,
          637,
          588,
          3391,
          1949,
          9684,
          1027,
          96,
          36,
          262,
          357,
          2176,
          184,
          5141,
          41,
          410,
          8,
          1,
          12,
          106,
          347,
          296,
          817,
          44,
          288,
          7,
          14,
          1,
          167,
          3,
          183,
          39,
          5,
          1347,
          2,
          5,
          2,
          14,
          2,
          436,
          17,
          26,
          927,
          2,
          8,
          18,
          2,
          520,
          17,
          9,
          184,
          2,
          15,
          16,
          22,
          963,
          90,
          64,
          2,
          4,
          76,
          180,
          103,
          2164,
          671,
          309,
          3,
          13,
          181,
          19,
          607,
          184,
          2678,
          1885,
          586,
          15,
          41,
          1942,
          10,
          3990,
          818,
          11221,
          21386,
          6768,
          4,
          246,
          5446,
          146,
          3521,
          2554,
          24779,
          22055,
          14044,
          19,
          577,
          823,
          485,
          1663,
          3689,
          8071,
          8346,
          5337,
          69,
          248,
          38,
          753,
          833,
          2929,
          702,
          10114,
          235,
          357,
          64,
          56,
          178,
          1676,
          386,
          3054,
          50,
          29,
          8,
          4,
          45,
          120,
          146,
          240,
          6,
          371,
          6,
          1,
          48,
          19,
          122,
          99,
          12,
          223,
          3,
          1,
          2,
          25,
          117,
          11,
          2,
          702,
          1,
          2,
          35,
          8,
          219,
          12,
          12,
          278,
          2,
          23,
          12,
          17,
          259,
          30,
          20,
          22,
          18,
          2,
          42,
          50,
          710,
          328,
          79,
          3,
          16,
          165,
          4,
          457,
          239,
          1506,
          3020,
          475,
          35,
          1621,
          14,
          2538,
          269,
          3055,
          11035,
          2840,
          13,
          60,
          2947,
          133,
          1716,
          404,
          6542,
          9463,
          5111,
          30,
          123,
          856,
          651,
          1156,
          1251,
          5123,
          11568,
          2548,
          112,
          253,
          63,
          1182,
          533,
          3037,
          570,
          9456,
          420,
          165,
          24,
          4,
          158,
          94,
          2408,
          233,
          3187,
          24,
          31,
          6,
          8,
          34,
          222,
          271,
          466,
          25,
          65,
          4,
          2,
          9,
          1,
          101,
          26,
          2,
          212,
          1,
          19,
          3,
          242,
          11,
          15,
          293,
          1,
          2,
          2,
          11,
          1,
          118,
          15,
          6,
          279,
          1,
          10,
          2,
          4,
          2,
          360,
          8,
          10,
          277,
          1,
          1,
          31,
          8,
          842,
          91,
          26,
          19,
          4,
          59,
          4,
          246,
          67,
          1081,
          703,
          133,
          21,
          13,
          366,
          23,
          1799,
          216,
          1246,
          5386,
          608,
          41,
          47,
          2067,
          214,
          3595,
          298,
          2688,
          8961,
          2422,
          148,
          134,
          952,
          951,
          2409,
          858,
          2429,
          9444,
          1910,
          261,
          109,
          50,
          1115,
          983,
          3340,
          460,
          12485,
          214,
          394,
          63,
          2,
          136,
          140,
          1648,
          132,
          4068,
          25,
          349,
          5,
          1,
          4,
          93,
          261,
          142,
          701,
          26,
          457,
          12,
          76,
          11,
          265,
          147,
          9,
          634,
          5,
          1,
          3,
          64,
          28,
          384,
          141,
          13,
          536,
          6,
          10,
          9,
          521,
          30,
          42,
          19,
          2,
          33,
          2,
          37,
          5,
          775,
          97,
          70,
          6,
          1,
          41,
          113,
          33,
          1044,
          441,
          223,
          1,
          15,
          210,
          3,
          788,
          116,
          1743,
          2065,
          871,
          2,
          70,
          2752,
          2,
          5261,
          376,
          8909,
          21677,
          5797,
          7,
          237,
          5030,
          72,
          4021,
          1267,
          10270,
          15187,
          7572,
          27,
          487,
          523,
          358,
          1137,
          1055,
          3297,
          6435,
          1722,
          87,
          184,
          58,
          490,
          400,
          2642,
          564,
          7544,
          351,
          39,
          79,
          2,
          66,
          140,
          1504,
          448,
          2731,
          228,
          103,
          18,
          2,
          59,
          101,
          80,
          219,
          2,
          307,
          1,
          3,
          6,
          1,
          85,
          25,
          11,
          140,
          23,
          4,
          218,
          16,
          6,
          158,
          2,
          4,
          7,
          3,
          273,
          10,
          12,
          156,
          8,
          2,
          16,
          8,
          404,
          21,
          59,
          9,
          1,
          26,
          1,
          32,
          53,
          591,
          199,
          169,
          9,
          3,
          130,
          4,
          330,
          91,
          520,
          1024,
          320,
          10,
          16,
          685,
          12,
          1543,
          105,
          1187,
          3040,
          1358,
          47,
          25,
          1912,
          140,
          1524,
          406,
          3498,
          6821,
          2458,
          66,
          162,
          264,
          381,
          844,
          592,
          1636,
          4588,
          1281,
          81,
          93,
          152,
          407,
          502,
          1977,
          429,
          5760,
          357,
          181,
          50,
          8,
          446,
          142,
          1635,
          182,
          4840,
          45,
          311,
          23,
          1,
          34,
          8,
          302,
          79,
          534,
          6,
          239,
          8,
          8,
          27,
          134,
          78,
          9,
          172,
          2,
          3,
          5,
          5,
          251,
          16,
          20,
          183,
          1,
          3,
          2,
          8,
          2,
          364,
          24,
          21,
          49,
          15,
          3,
          15,
          24,
          643,
          98,
          35,
          21,
          1,
          12,
          8,
          58,
          31,
          1370,
          305,
          55,
          29,
          7,
          132,
          6,
          316,
          133,
          1195,
          1041,
          253,
          3,
          16,
          1092,
          31,
          3616,
          687,
          3405,
          9168,
          2561,
          8,
          119,
          2796,
          173,
          2731,
          1047,
          5813,
          8190,
          3141,
          89,
          87,
          627,
          583,
          1484,
          1767,
          2204,
          5946,
          1866,
          201,
          136,
          39,
          1157,
          749,
          1564,
          316,
          8871,
          271,
          257,
          35,
          3,
          510,
          116,
          1330,
          359,
          2950,
          74,
          125,
          2,
          2,
          43,
          200,
          143,
          291,
          16,
          482,
          4,
          2,
          4,
          22,
          220,
          47,
          8,
          71,
          1,
          23,
          2,
          395,
          20,
          30,
          265,
          2,
          46,
          2,
          26,
          6,
          268,
          29,
          27,
          113,
          1,
          11,
          1,
          21,
          16,
          640,
          74,
          19,
          6,
          8,
          19,
          6,
          81,
          55,
          922,
          323,
          32,
          6,
          6,
          98,
          1,
          359,
          74,
          1024,
          793,
          159,
          4,
          19,
          1045,
          18,
          1981,
          283,
          1814,
          3173,
          1102,
          4,
          24,
          3331,
          126,
          2204,
          389,
          3739,
          4363,
          2472,
          39,
          123,
          318,
          560,
          1235,
          784,
          1055,
          5510,
          510,
          116,
          154,
          108,
          613,
          258,
          1146,
          403,
          3844,
          103,
          125,
          15,
          4,
          197,
          277,
          1441,
          207,
          5579,
          135,
          164,
          9,
          25,
          71,
          185,
          149,
          570,
          11,
          557,
          5,
          2,
          17,
          88,
          30,
          4,
          332,
          1,
          2,
          30,
          2,
          344,
          17,
          11,
          603,
          7,
          1,
          20,
          1,
          379,
          23,
          16,
          183,
          2,
          1,
          17,
          8,
          494,
          55,
          26,
          63,
          9,
          23,
          2,
          73,
          33,
          1088,
          284,
          99,
          5,
          21,
          91,
          5,
          253,
          106,
          1254,
          813,
          206,
          9,
          29,
          1263,
          19,
          3604,
          286,
          3835,
          8147,
          2842,
          16,
          101,
          2528,
          161,
          3148,
          413,
          4581,
          6636,
          2806,
          80,
          169,
          406,
          592,
          794,
          1327,
          2717,
          6241,
          978,
          65,
          102,
          70,
          653,
          692,
          1870,
          531,
          7908,
          187,
          197,
          61,
          8,
          386,
          289,
          1502,
          217,
          4802,
          141,
          409,
          19,
          3,
          27,
          38,
          237,
          422,
          866,
          24,
          411,
          14,
          2,
          71,
          38,
          253,
          92,
          17,
          571,
          3,
          1,
          1,
          25,
          5,
          319,
          31,
          10,
          175,
          5,
          3,
          20,
          5,
          392,
          22,
          12,
          307,
          1,
          2,
          11,
          2,
          274,
          84,
          13,
          14,
          7,
          42,
          2,
          34,
          46,
          779,
          241,
          120,
          5,
          18,
          118,
          4,
          365,
          94,
          902,
          882,
          417,
          5,
          30,
          1624,
          26,
          4235,
          287,
          2866,
          7672,
          3668,
          14,
          79,
          2949,
          198,
          5004,
          589,
          5782,
          9394,
          5197,
          86,
          127,
          912,
          927,
          2233,
          1590,
          3647,
          7379,
          2468,
          194,
          119,
          115,
          1424,
          909,
          2293,
          1147,
          9783,
          901,
          298,
          65,
          8,
          327,
          474,
          2289,
          816,
          6718,
          258,
          372,
          41,
          13,
          16,
          654,
          288,
          162,
          1479,
          85,
          1958,
          2,
          2,
          1,
          252,
          110,
          522,
          370,
          71,
          185,
          46,
          105,
          2,
          634,
          53,
          30,
          1195,
          5,
          1,
          13,
          8,
          781,
          51,
          56,
          154,
          11,
          23,
          3,
          26,
          25,
          589,
          148,
          52,
          22,
          7,
          101,
          2,
          84,
          84,
          683,
          509,
          174,
          10,
          16,
          588,
          1,
          1087,
          231,
          1497,
          1732,
          947,
          1,
          36,
          2526,
          39,
          3652,
          436,
          2881,
          5185,
          3545,
          17,
          59,
          3863,
          150,
          2785,
          305,
          5466,
          3878,
          3914,
          18,
          81,
          515,
          816,
          1913,
          941,
          1799,
          5954,
          2040,
          107,
          149,
          46,
          1104,
          497,
          1545,
          552,
          7314,
          411,
          69,
          72,
          6,
          463,
          105,
          953,
          270,
          3051,
          137,
          134,
          5,
          2,
          62,
          75,
          290,
          213,
          43,
          108,
          3,
          4,
          21,
          5,
          194,
          14,
          15,
          124,
          2,
          24,
          419,
          18,
          22,
          251,
          2,
          1,
          3,
          15,
          4,
          458,
          42,
          20,
          75,
          9,
          2,
          33,
          8,
          574,
          121,
          29,
          27,
          2,
          39,
          2,
          95,
          71,
          886,
          486,
          152,
          4,
          24,
          362,
          3,
          1534,
          288,
          1049,
          3696,
          1005,
          3,
          46,
          1318,
          28,
          4793,
          226,
          2738,
          8781,
          3244,
          33,
          83,
          3100,
          88,
          3185,
          909,
          8453,
          15735,
          4563,
          40,
          496,
          1350,
          440,
          1190,
          972,
          2389,
          6146,
          1724,
          150,
          96,
          102,
          972,
          486,
          1459,
          529,
          9639,
          423,
          421,
          74,
          10,
          406,
          247,
          1879,
          164,
          4879,
          58,
          329,
          13,
          14,
          46,
          156,
          196,
          536,
          15,
          480,
          1,
          2,
          1,
          93,
          3,
          185,
          36,
          7,
          558,
          3,
          1,
          54,
          11,
          486,
          51,
          28,
          727,
          1,
          5,
          1,
          14,
          1,
          280,
          13,
          7,
          191,
          1,
          14,
          1,
          19,
          14,
          591,
          78,
          41,
          10,
          4,
          41,
          3,
          123,
          56,
          1132,
          454,
          148,
          5,
          18,
          381,
          4,
          1346,
          95,
          1222,
          929,
          769,
          4,
          38,
          1368,
          38,
          2589,
          150,
          1475,
          2782,
          1975,
          7,
          37,
          4379,
          123,
          4928,
          167,
          4220,
          4892,
          6032,
          17,
          45,
          407,
          571,
          1725,
          426,
          1300,
          5028,
          986,
          141,
          70,
          26,
          450,
          472,
          1033,
          269,
          6276,
          198,
          120,
          37,
          2,
          37,
          337,
          265,
          1005,
          47,
          123,
          26,
          1,
          4,
          35,
          269,
          336,
          355,
          33,
          383,
          3,
          1,
          90,
          9,
          536,
          80,
          22,
          629,
          1,
          2,
          114,
          3,
          752,
          46,
          28,
          2433,
          5,
          6,
          10,
          2,
          485,
          38,
          26,
          1134,
          1,
          33,
          21,
          12,
          631,
          80,
          50,
          21,
          6,
          60,
          57,
          24,
          1246,
          315,
          170,
          2,
          6,
          272,
          4,
          1371,
          86,
          1343,
          1443,
          780,
          4,
          15,
          3051,
          21,
          6668,
          193,
          5123,
          10185,
          5592,
          5,
          62,
          2977,
          138,
          3026,
          291,
          5165,
          4618,
          3644,
          26,
          40,
          354,
          540,
          548,
          861,
          1030,
          3870,
          556,
          53,
          43,
          44,
          503,
          573,
          1738,
          684,
          7390,
          263,
          58,
          44,
          1,
          62,
          152,
          501,
          148,
          1280,
          42,
          27,
          21
         ],
         "xaxis": "x",
         "yaxis": "y"
        }
       ],
       "layout": {
        "barmode": "relative",
        "legend": {
         "tracegroupgap": 0
        },
        "template": {
         "data": {
          "bar": [
           {
            "error_x": {
             "color": "#2a3f5f"
            },
            "error_y": {
             "color": "#2a3f5f"
            },
            "marker": {
             "line": {
              "color": "#E5ECF6",
              "width": 0.5
             },
             "pattern": {
              "fillmode": "overlay",
              "size": 10,
              "solidity": 0.2
             }
            },
            "type": "bar"
           }
          ],
          "barpolar": [
           {
            "marker": {
             "line": {
              "color": "#E5ECF6",
              "width": 0.5
             },
             "pattern": {
              "fillmode": "overlay",
              "size": 10,
              "solidity": 0.2
             }
            },
            "type": "barpolar"
           }
          ],
          "carpet": [
           {
            "aaxis": {
             "endlinecolor": "#2a3f5f",
             "gridcolor": "white",
             "linecolor": "white",
             "minorgridcolor": "white",
             "startlinecolor": "#2a3f5f"
            },
            "baxis": {
             "endlinecolor": "#2a3f5f",
             "gridcolor": "white",
             "linecolor": "white",
             "minorgridcolor": "white",
             "startlinecolor": "#2a3f5f"
            },
            "type": "carpet"
           }
          ],
          "choropleth": [
           {
            "colorbar": {
             "outlinewidth": 0,
             "ticks": ""
            },
            "type": "choropleth"
           }
          ],
          "contour": [
           {
            "colorbar": {
             "outlinewidth": 0,
             "ticks": ""
            },
            "colorscale": [
             [
              0,
              "#0d0887"
             ],
             [
              0.1111111111111111,
              "#46039f"
             ],
             [
              0.2222222222222222,
              "#7201a8"
             ],
             [
              0.3333333333333333,
              "#9c179e"
             ],
             [
              0.4444444444444444,
              "#bd3786"
             ],
             [
              0.5555555555555556,
              "#d8576b"
             ],
             [
              0.6666666666666666,
              "#ed7953"
             ],
             [
              0.7777777777777778,
              "#fb9f3a"
             ],
             [
              0.8888888888888888,
              "#fdca26"
             ],
             [
              1,
              "#f0f921"
             ]
            ],
            "type": "contour"
           }
          ],
          "contourcarpet": [
           {
            "colorbar": {
             "outlinewidth": 0,
             "ticks": ""
            },
            "type": "contourcarpet"
           }
          ],
          "heatmap": [
           {
            "colorbar": {
             "outlinewidth": 0,
             "ticks": ""
            },
            "colorscale": [
             [
              0,
              "#0d0887"
             ],
             [
              0.1111111111111111,
              "#46039f"
             ],
             [
              0.2222222222222222,
              "#7201a8"
             ],
             [
              0.3333333333333333,
              "#9c179e"
             ],
             [
              0.4444444444444444,
              "#bd3786"
             ],
             [
              0.5555555555555556,
              "#d8576b"
             ],
             [
              0.6666666666666666,
              "#ed7953"
             ],
             [
              0.7777777777777778,
              "#fb9f3a"
             ],
             [
              0.8888888888888888,
              "#fdca26"
             ],
             [
              1,
              "#f0f921"
             ]
            ],
            "type": "heatmap"
           }
          ],
          "heatmapgl": [
           {
            "colorbar": {
             "outlinewidth": 0,
             "ticks": ""
            },
            "colorscale": [
             [
              0,
              "#0d0887"
             ],
             [
              0.1111111111111111,
              "#46039f"
             ],
             [
              0.2222222222222222,
              "#7201a8"
             ],
             [
              0.3333333333333333,
              "#9c179e"
             ],
             [
              0.4444444444444444,
              "#bd3786"
             ],
             [
              0.5555555555555556,
              "#d8576b"
             ],
             [
              0.6666666666666666,
              "#ed7953"
             ],
             [
              0.7777777777777778,
              "#fb9f3a"
             ],
             [
              0.8888888888888888,
              "#fdca26"
             ],
             [
              1,
              "#f0f921"
             ]
            ],
            "type": "heatmapgl"
           }
          ],
          "histogram": [
           {
            "marker": {
             "pattern": {
              "fillmode": "overlay",
              "size": 10,
              "solidity": 0.2
             }
            },
            "type": "histogram"
           }
          ],
          "histogram2d": [
           {
            "colorbar": {
             "outlinewidth": 0,
             "ticks": ""
            },
            "colorscale": [
             [
              0,
              "#0d0887"
             ],
             [
              0.1111111111111111,
              "#46039f"
             ],
             [
              0.2222222222222222,
              "#7201a8"
             ],
             [
              0.3333333333333333,
              "#9c179e"
             ],
             [
              0.4444444444444444,
              "#bd3786"
             ],
             [
              0.5555555555555556,
              "#d8576b"
             ],
             [
              0.6666666666666666,
              "#ed7953"
             ],
             [
              0.7777777777777778,
              "#fb9f3a"
             ],
             [
              0.8888888888888888,
              "#fdca26"
             ],
             [
              1,
              "#f0f921"
             ]
            ],
            "type": "histogram2d"
           }
          ],
          "histogram2dcontour": [
           {
            "colorbar": {
             "outlinewidth": 0,
             "ticks": ""
            },
            "colorscale": [
             [
              0,
              "#0d0887"
             ],
             [
              0.1111111111111111,
              "#46039f"
             ],
             [
              0.2222222222222222,
              "#7201a8"
             ],
             [
              0.3333333333333333,
              "#9c179e"
             ],
             [
              0.4444444444444444,
              "#bd3786"
             ],
             [
              0.5555555555555556,
              "#d8576b"
             ],
             [
              0.6666666666666666,
              "#ed7953"
             ],
             [
              0.7777777777777778,
              "#fb9f3a"
             ],
             [
              0.8888888888888888,
              "#fdca26"
             ],
             [
              1,
              "#f0f921"
             ]
            ],
            "type": "histogram2dcontour"
           }
          ],
          "mesh3d": [
           {
            "colorbar": {
             "outlinewidth": 0,
             "ticks": ""
            },
            "type": "mesh3d"
           }
          ],
          "parcoords": [
           {
            "line": {
             "colorbar": {
              "outlinewidth": 0,
              "ticks": ""
             }
            },
            "type": "parcoords"
           }
          ],
          "pie": [
           {
            "automargin": true,
            "type": "pie"
           }
          ],
          "scatter": [
           {
            "fillpattern": {
             "fillmode": "overlay",
             "size": 10,
             "solidity": 0.2
            },
            "type": "scatter"
           }
          ],
          "scatter3d": [
           {
            "line": {
             "colorbar": {
              "outlinewidth": 0,
              "ticks": ""
             }
            },
            "marker": {
             "colorbar": {
              "outlinewidth": 0,
              "ticks": ""
             }
            },
            "type": "scatter3d"
           }
          ],
          "scattercarpet": [
           {
            "marker": {
             "colorbar": {
              "outlinewidth": 0,
              "ticks": ""
             }
            },
            "type": "scattercarpet"
           }
          ],
          "scattergeo": [
           {
            "marker": {
             "colorbar": {
              "outlinewidth": 0,
              "ticks": ""
             }
            },
            "type": "scattergeo"
           }
          ],
          "scattergl": [
           {
            "marker": {
             "colorbar": {
              "outlinewidth": 0,
              "ticks": ""
             }
            },
            "type": "scattergl"
           }
          ],
          "scattermapbox": [
           {
            "marker": {
             "colorbar": {
              "outlinewidth": 0,
              "ticks": ""
             }
            },
            "type": "scattermapbox"
           }
          ],
          "scatterpolar": [
           {
            "marker": {
             "colorbar": {
              "outlinewidth": 0,
              "ticks": ""
             }
            },
            "type": "scatterpolar"
           }
          ],
          "scatterpolargl": [
           {
            "marker": {
             "colorbar": {
              "outlinewidth": 0,
              "ticks": ""
             }
            },
            "type": "scatterpolargl"
           }
          ],
          "scatterternary": [
           {
            "marker": {
             "colorbar": {
              "outlinewidth": 0,
              "ticks": ""
             }
            },
            "type": "scatterternary"
           }
          ],
          "surface": [
           {
            "colorbar": {
             "outlinewidth": 0,
             "ticks": ""
            },
            "colorscale": [
             [
              0,
              "#0d0887"
             ],
             [
              0.1111111111111111,
              "#46039f"
             ],
             [
              0.2222222222222222,
              "#7201a8"
             ],
             [
              0.3333333333333333,
              "#9c179e"
             ],
             [
              0.4444444444444444,
              "#bd3786"
             ],
             [
              0.5555555555555556,
              "#d8576b"
             ],
             [
              0.6666666666666666,
              "#ed7953"
             ],
             [
              0.7777777777777778,
              "#fb9f3a"
             ],
             [
              0.8888888888888888,
              "#fdca26"
             ],
             [
              1,
              "#f0f921"
             ]
            ],
            "type": "surface"
           }
          ],
          "table": [
           {
            "cells": {
             "fill": {
              "color": "#EBF0F8"
             },
             "line": {
              "color": "white"
             }
            },
            "header": {
             "fill": {
              "color": "#C8D4E3"
             },
             "line": {
              "color": "white"
             }
            },
            "type": "table"
           }
          ]
         },
         "layout": {
          "annotationdefaults": {
           "arrowcolor": "#2a3f5f",
           "arrowhead": 0,
           "arrowwidth": 1
          },
          "autotypenumbers": "strict",
          "coloraxis": {
           "colorbar": {
            "outlinewidth": 0,
            "ticks": ""
           }
          },
          "colorscale": {
           "diverging": [
            [
             0,
             "#8e0152"
            ],
            [
             0.1,
             "#c51b7d"
            ],
            [
             0.2,
             "#de77ae"
            ],
            [
             0.3,
             "#f1b6da"
            ],
            [
             0.4,
             "#fde0ef"
            ],
            [
             0.5,
             "#f7f7f7"
            ],
            [
             0.6,
             "#e6f5d0"
            ],
            [
             0.7,
             "#b8e186"
            ],
            [
             0.8,
             "#7fbc41"
            ],
            [
             0.9,
             "#4d9221"
            ],
            [
             1,
             "#276419"
            ]
           ],
           "sequential": [
            [
             0,
             "#0d0887"
            ],
            [
             0.1111111111111111,
             "#46039f"
            ],
            [
             0.2222222222222222,
             "#7201a8"
            ],
            [
             0.3333333333333333,
             "#9c179e"
            ],
            [
             0.4444444444444444,
             "#bd3786"
            ],
            [
             0.5555555555555556,
             "#d8576b"
            ],
            [
             0.6666666666666666,
             "#ed7953"
            ],
            [
             0.7777777777777778,
             "#fb9f3a"
            ],
            [
             0.8888888888888888,
             "#fdca26"
            ],
            [
             1,
             "#f0f921"
            ]
           ],
           "sequentialminus": [
            [
             0,
             "#0d0887"
            ],
            [
             0.1111111111111111,
             "#46039f"
            ],
            [
             0.2222222222222222,
             "#7201a8"
            ],
            [
             0.3333333333333333,
             "#9c179e"
            ],
            [
             0.4444444444444444,
             "#bd3786"
            ],
            [
             0.5555555555555556,
             "#d8576b"
            ],
            [
             0.6666666666666666,
             "#ed7953"
            ],
            [
             0.7777777777777778,
             "#fb9f3a"
            ],
            [
             0.8888888888888888,
             "#fdca26"
            ],
            [
             1,
             "#f0f921"
            ]
           ]
          },
          "colorway": [
           "#636efa",
           "#EF553B",
           "#00cc96",
           "#ab63fa",
           "#FFA15A",
           "#19d3f3",
           "#FF6692",
           "#B6E880",
           "#FF97FF",
           "#FECB52"
          ],
          "font": {
           "color": "#2a3f5f"
          },
          "geo": {
           "bgcolor": "white",
           "lakecolor": "white",
           "landcolor": "#E5ECF6",
           "showlakes": true,
           "showland": true,
           "subunitcolor": "white"
          },
          "hoverlabel": {
           "align": "left"
          },
          "hovermode": "closest",
          "mapbox": {
           "style": "light"
          },
          "paper_bgcolor": "white",
          "plot_bgcolor": "#E5ECF6",
          "polar": {
           "angularaxis": {
            "gridcolor": "white",
            "linecolor": "white",
            "ticks": ""
           },
           "bgcolor": "#E5ECF6",
           "radialaxis": {
            "gridcolor": "white",
            "linecolor": "white",
            "ticks": ""
           }
          },
          "scene": {
           "xaxis": {
            "backgroundcolor": "#E5ECF6",
            "gridcolor": "white",
            "gridwidth": 2,
            "linecolor": "white",
            "showbackground": true,
            "ticks": "",
            "zerolinecolor": "white"
           },
           "yaxis": {
            "backgroundcolor": "#E5ECF6",
            "gridcolor": "white",
            "gridwidth": 2,
            "linecolor": "white",
            "showbackground": true,
            "ticks": "",
            "zerolinecolor": "white"
           },
           "zaxis": {
            "backgroundcolor": "#E5ECF6",
            "gridcolor": "white",
            "gridwidth": 2,
            "linecolor": "white",
            "showbackground": true,
            "ticks": "",
            "zerolinecolor": "white"
           }
          },
          "shapedefaults": {
           "line": {
            "color": "#2a3f5f"
           }
          },
          "ternary": {
           "aaxis": {
            "gridcolor": "white",
            "linecolor": "white",
            "ticks": ""
           },
           "baxis": {
            "gridcolor": "white",
            "linecolor": "white",
            "ticks": ""
           },
           "bgcolor": "#E5ECF6",
           "caxis": {
            "gridcolor": "white",
            "linecolor": "white",
            "ticks": ""
           }
          },
          "title": {
           "x": 0.05
          },
          "xaxis": {
           "automargin": true,
           "gridcolor": "white",
           "linecolor": "white",
           "ticks": "",
           "title": {
            "standoff": 15
           },
           "zerolinecolor": "white",
           "zerolinewidth": 2
          },
          "yaxis": {
           "automargin": true,
           "gridcolor": "white",
           "linecolor": "white",
           "ticks": "",
           "title": {
            "standoff": 15
           },
           "zerolinecolor": "white",
           "zerolinewidth": 2
          }
         }
        },
        "title": {
         "text": "Firespots Histogram"
        },
        "xaxis": {
         "anchor": "y",
         "domain": [
          0,
          1
         ],
         "title": {
          "text": "firespots"
         }
        },
        "yaxis": {
         "anchor": "x",
         "domain": [
          0,
          1
         ],
         "title": {
          "text": "count"
         }
        }
       }
      }
     },
     "metadata": {},
     "output_type": "display_data"
    }
   ],
   "source": [
    "import plotly.graph_objects as go\n",
    "\n",
    "fig4 = px.histogram(df2, x='firespots',\n",
    "               labels = dict(TOTAL_DEFORESTED_AREA = 'Deforested Area (acres)'),\n",
    "               title = \"Firespots Histogram\")\n",
    "\n",
    "# The two histograms are drawn on top of another\n",
    "fig4.show()"
   ]
  },
  {
   "attachments": {},
   "cell_type": "markdown",
   "metadata": {},
   "source": [
    "### 5. Bubble Chart of Amazon Firespots"
   ]
  },
  {
   "cell_type": "code",
   "execution_count": 54,
   "metadata": {},
   "outputs": [
    {
     "data": {
      "application/vnd.plotly.v1+json": {
       "config": {
        "plotlyServerURL": "https://plot.ly"
       },
       "data": [
        {
         "hovertemplate": "<b>%{hovertext}</b><br><br>state=ACRE<br>month=%{x}<br>firespots=%{marker.size}<extra></extra>",
         "hovertext": [
          "ACRE",
          "ACRE",
          "ACRE",
          "ACRE",
          "ACRE",
          "ACRE",
          "ACRE",
          "ACRE",
          "ACRE",
          "ACRE",
          "ACRE",
          "ACRE"
         ],
         "legendgroup": "ACRE",
         "marker": {
          "color": "#636efa",
          "size": [
           1,
           1,
           2,
           6,
           33,
           60,
           272,
           3051,
           2977,
           354,
           44,
           1
          ],
          "sizemode": "area",
          "sizeref": 2.8291666666666666,
          "symbol": "circle"
         },
         "mode": "markers",
         "name": "ACRE",
         "orientation": "v",
         "showlegend": true,
         "type": "scatter",
         "x": [
          1,
          2,
          3,
          4,
          5,
          6,
          7,
          8,
          9,
          10,
          11,
          12
         ],
         "xaxis": "x",
         "y": [
          1,
          1,
          2,
          6,
          33,
          60,
          272,
          3051,
          2977,
          354,
          44,
          1
         ],
         "yaxis": "y"
        },
        {
         "hovertemplate": "<b>%{hovertext}</b><br><br>state=AMAPA<br>month=%{x}<br>firespots=%{marker.size}<extra></extra>",
         "hovertext": [
          "AMAPA",
          "AMAPA",
          "AMAPA",
          "AMAPA",
          "AMAPA",
          "AMAPA",
          "AMAPA"
         ],
         "legendgroup": "AMAPA",
         "marker": {
          "color": "#EF553B",
          "size": [
           4,
           4,
           21,
           138,
           540,
           503,
           62
          ],
          "sizemode": "area",
          "sizeref": 2.8291666666666666,
          "symbol": "circle"
         },
         "mode": "markers",
         "name": "AMAPA",
         "orientation": "v",
         "showlegend": true,
         "type": "scatter",
         "x": [
          1,
          7,
          8,
          9,
          10,
          11,
          12
         ],
         "xaxis": "x",
         "y": [
          4,
          4,
          21,
          138,
          540,
          503,
          62
         ],
         "yaxis": "y"
        },
        {
         "hovertemplate": "<b>%{hovertext}</b><br><br>state=AMAZONAS<br>month=%{x}<br>firespots=%{marker.size}<extra></extra>",
         "hovertext": [
          "AMAZONAS",
          "AMAZONAS",
          "AMAZONAS",
          "AMAZONAS",
          "AMAZONAS",
          "AMAZONAS",
          "AMAZONAS",
          "AMAZONAS",
          "AMAZONAS",
          "AMAZONAS",
          "AMAZONAS",
          "AMAZONAS"
         ],
         "legendgroup": "AMAZONAS",
         "marker": {
          "color": "#00cc96",
          "size": [
           35,
           90,
           114,
           10,
           21,
           57,
           1371,
           6668,
           3026,
           548,
           573,
           152
          ],
          "sizemode": "area",
          "sizeref": 2.8291666666666666,
          "symbol": "circle"
         },
         "mode": "markers",
         "name": "AMAZONAS",
         "orientation": "v",
         "showlegend": true,
         "type": "scatter",
         "x": [
          1,
          2,
          3,
          4,
          5,
          6,
          7,
          8,
          9,
          10,
          11,
          12
         ],
         "xaxis": "x",
         "y": [
          35,
          90,
          114,
          10,
          21,
          57,
          1371,
          6668,
          3026,
          548,
          573,
          152
         ],
         "yaxis": "y"
        },
        {
         "hovertemplate": "<b>%{hovertext}</b><br><br>state=MARANHAO<br>month=%{x}<br>firespots=%{marker.size}<extra></extra>",
         "hovertext": [
          "MARANHAO",
          "MARANHAO",
          "MARANHAO",
          "MARANHAO",
          "MARANHAO",
          "MARANHAO",
          "MARANHAO",
          "MARANHAO",
          "MARANHAO",
          "MARANHAO",
          "MARANHAO",
          "MARANHAO"
         ],
         "legendgroup": "MARANHAO",
         "marker": {
          "color": "#ab63fa",
          "size": [
           269,
           9,
           3,
           2,
           12,
           24,
           86,
           193,
           291,
           861,
           1738,
           501
          ],
          "sizemode": "area",
          "sizeref": 2.8291666666666666,
          "symbol": "circle"
         },
         "mode": "markers",
         "name": "MARANHAO",
         "orientation": "v",
         "showlegend": true,
         "type": "scatter",
         "x": [
          1,
          2,
          3,
          4,
          5,
          6,
          7,
          8,
          9,
          10,
          11,
          12
         ],
         "xaxis": "x",
         "y": [
          269,
          9,
          3,
          2,
          12,
          24,
          86,
          193,
          291,
          861,
          1738,
          501
         ],
         "yaxis": "y"
        },
        {
         "hovertemplate": "<b>%{hovertext}</b><br><br>state=MATO GROSSO<br>month=%{x}<br>firespots=%{marker.size}<extra></extra>",
         "hovertext": [
          "MATO GROSSO",
          "MATO GROSSO",
          "MATO GROSSO",
          "MATO GROSSO",
          "MATO GROSSO",
          "MATO GROSSO",
          "MATO GROSSO",
          "MATO GROSSO",
          "MATO GROSSO",
          "MATO GROSSO",
          "MATO GROSSO",
          "MATO GROSSO"
         ],
         "legendgroup": "MATO GROSSO",
         "marker": {
          "color": "#FFA15A",
          "size": [
           336,
           536,
           752,
           485,
           631,
           1246,
           1343,
           5123,
           5165,
           1030,
           684,
           148
          ],
          "sizemode": "area",
          "sizeref": 2.8291666666666666,
          "symbol": "circle"
         },
         "mode": "markers",
         "name": "MATO GROSSO",
         "orientation": "v",
         "showlegend": true,
         "type": "scatter",
         "x": [
          1,
          2,
          3,
          4,
          5,
          6,
          7,
          8,
          9,
          10,
          11,
          12
         ],
         "xaxis": "x",
         "y": [
          336,
          536,
          752,
          485,
          631,
          1246,
          1343,
          5123,
          5165,
          1030,
          684,
          148
         ],
         "yaxis": "y"
        },
        {
         "hovertemplate": "<b>%{hovertext}</b><br><br>state=PARA<br>month=%{x}<br>firespots=%{marker.size}<extra></extra>",
         "hovertext": [
          "PARA",
          "PARA",
          "PARA",
          "PARA",
          "PARA",
          "PARA",
          "PARA",
          "PARA",
          "PARA",
          "PARA",
          "PARA",
          "PARA"
         ],
         "legendgroup": "PARA",
         "marker": {
          "color": "#19d3f3",
          "size": [
           355,
           80,
           46,
           38,
           80,
           315,
           1443,
           10185,
           4618,
           3870,
           7390,
           1280
          ],
          "sizemode": "area",
          "sizeref": 2.8291666666666666,
          "symbol": "circle"
         },
         "mode": "markers",
         "name": "PARA",
         "orientation": "v",
         "showlegend": true,
         "type": "scatter",
         "x": [
          1,
          2,
          3,
          4,
          5,
          6,
          7,
          8,
          9,
          10,
          11,
          12
         ],
         "xaxis": "x",
         "y": [
          355,
          80,
          46,
          38,
          80,
          315,
          1443,
          10185,
          4618,
          3870,
          7390,
          1280
         ],
         "yaxis": "y"
        },
        {
         "hovertemplate": "<b>%{hovertext}</b><br><br>state=RONDONIA<br>month=%{x}<br>firespots=%{marker.size}<extra></extra>",
         "hovertext": [
          "RONDONIA",
          "RONDONIA",
          "RONDONIA",
          "RONDONIA",
          "RONDONIA",
          "RONDONIA",
          "RONDONIA",
          "RONDONIA",
          "RONDONIA",
          "RONDONIA",
          "RONDONIA",
          "RONDONIA"
         ],
         "legendgroup": "RONDONIA",
         "marker": {
          "color": "#FF6692",
          "size": [
           33,
           22,
           28,
           26,
           50,
           170,
           780,
           5592,
           3644,
           556,
           263,
           42
          ],
          "sizemode": "area",
          "sizeref": 2.8291666666666666,
          "symbol": "circle"
         },
         "mode": "markers",
         "name": "RONDONIA",
         "orientation": "v",
         "showlegend": true,
         "type": "scatter",
         "x": [
          1,
          2,
          3,
          4,
          5,
          6,
          7,
          8,
          9,
          10,
          11,
          12
         ],
         "xaxis": "x",
         "y": [
          33,
          22,
          28,
          26,
          50,
          170,
          780,
          5592,
          3644,
          556,
          263,
          42
         ],
         "yaxis": "y"
        },
        {
         "hovertemplate": "<b>%{hovertext}</b><br><br>state=RORAIMA<br>month=%{x}<br>firespots=%{marker.size}<extra></extra>",
         "hovertext": [
          "RORAIMA",
          "RORAIMA",
          "RORAIMA",
          "RORAIMA",
          "RORAIMA",
          "RORAIMA",
          "RORAIMA",
          "RORAIMA",
          "RORAIMA",
          "RORAIMA",
          "RORAIMA",
          "RORAIMA"
         ],
         "legendgroup": "RORAIMA",
         "marker": {
          "color": "#B6E880",
          "size": [
           383,
           629,
           2433,
           1134,
           21,
           2,
           4,
           5,
           26,
           53,
           58,
           27
          ],
          "sizemode": "area",
          "sizeref": 2.8291666666666666,
          "symbol": "circle"
         },
         "mode": "markers",
         "name": "RORAIMA",
         "orientation": "v",
         "showlegend": true,
         "type": "scatter",
         "x": [
          1,
          2,
          3,
          4,
          5,
          6,
          7,
          8,
          9,
          10,
          11,
          12
         ],
         "xaxis": "x",
         "y": [
          383,
          629,
          2433,
          1134,
          21,
          2,
          4,
          5,
          26,
          53,
          58,
          27
         ],
         "yaxis": "y"
        },
        {
         "hovertemplate": "<b>%{hovertext}</b><br><br>state=TOCANTINS<br>month=%{x}<br>firespots=%{marker.size}<extra></extra>",
         "hovertext": [
          "TOCANTINS",
          "TOCANTINS",
          "TOCANTINS",
          "TOCANTINS",
          "TOCANTINS",
          "TOCANTINS",
          "TOCANTINS",
          "TOCANTINS",
          "TOCANTINS",
          "TOCANTINS",
          "TOCANTINS",
          "TOCANTINS"
         ],
         "legendgroup": "TOCANTINS",
         "marker": {
          "color": "#FF97FF",
          "size": [
           3,
           1,
           5,
           1,
           6,
           6,
           15,
           62,
           40,
           43,
           44,
           21
          ],
          "sizemode": "area",
          "sizeref": 2.8291666666666666,
          "symbol": "circle"
         },
         "mode": "markers",
         "name": "TOCANTINS",
         "orientation": "v",
         "showlegend": true,
         "type": "scatter",
         "x": [
          1,
          2,
          3,
          4,
          5,
          6,
          7,
          8,
          9,
          10,
          11,
          12
         ],
         "xaxis": "x",
         "y": [
          3,
          1,
          5,
          1,
          6,
          6,
          15,
          62,
          40,
          43,
          44,
          21
         ],
         "yaxis": "y"
        }
       ],
       "layout": {
        "legend": {
         "itemsizing": "constant",
         "title": {
          "text": "state"
         },
         "tracegroupgap": 0
        },
        "template": {
         "data": {
          "bar": [
           {
            "error_x": {
             "color": "#2a3f5f"
            },
            "error_y": {
             "color": "#2a3f5f"
            },
            "marker": {
             "line": {
              "color": "#E5ECF6",
              "width": 0.5
             },
             "pattern": {
              "fillmode": "overlay",
              "size": 10,
              "solidity": 0.2
             }
            },
            "type": "bar"
           }
          ],
          "barpolar": [
           {
            "marker": {
             "line": {
              "color": "#E5ECF6",
              "width": 0.5
             },
             "pattern": {
              "fillmode": "overlay",
              "size": 10,
              "solidity": 0.2
             }
            },
            "type": "barpolar"
           }
          ],
          "carpet": [
           {
            "aaxis": {
             "endlinecolor": "#2a3f5f",
             "gridcolor": "white",
             "linecolor": "white",
             "minorgridcolor": "white",
             "startlinecolor": "#2a3f5f"
            },
            "baxis": {
             "endlinecolor": "#2a3f5f",
             "gridcolor": "white",
             "linecolor": "white",
             "minorgridcolor": "white",
             "startlinecolor": "#2a3f5f"
            },
            "type": "carpet"
           }
          ],
          "choropleth": [
           {
            "colorbar": {
             "outlinewidth": 0,
             "ticks": ""
            },
            "type": "choropleth"
           }
          ],
          "contour": [
           {
            "colorbar": {
             "outlinewidth": 0,
             "ticks": ""
            },
            "colorscale": [
             [
              0,
              "#0d0887"
             ],
             [
              0.1111111111111111,
              "#46039f"
             ],
             [
              0.2222222222222222,
              "#7201a8"
             ],
             [
              0.3333333333333333,
              "#9c179e"
             ],
             [
              0.4444444444444444,
              "#bd3786"
             ],
             [
              0.5555555555555556,
              "#d8576b"
             ],
             [
              0.6666666666666666,
              "#ed7953"
             ],
             [
              0.7777777777777778,
              "#fb9f3a"
             ],
             [
              0.8888888888888888,
              "#fdca26"
             ],
             [
              1,
              "#f0f921"
             ]
            ],
            "type": "contour"
           }
          ],
          "contourcarpet": [
           {
            "colorbar": {
             "outlinewidth": 0,
             "ticks": ""
            },
            "type": "contourcarpet"
           }
          ],
          "heatmap": [
           {
            "colorbar": {
             "outlinewidth": 0,
             "ticks": ""
            },
            "colorscale": [
             [
              0,
              "#0d0887"
             ],
             [
              0.1111111111111111,
              "#46039f"
             ],
             [
              0.2222222222222222,
              "#7201a8"
             ],
             [
              0.3333333333333333,
              "#9c179e"
             ],
             [
              0.4444444444444444,
              "#bd3786"
             ],
             [
              0.5555555555555556,
              "#d8576b"
             ],
             [
              0.6666666666666666,
              "#ed7953"
             ],
             [
              0.7777777777777778,
              "#fb9f3a"
             ],
             [
              0.8888888888888888,
              "#fdca26"
             ],
             [
              1,
              "#f0f921"
             ]
            ],
            "type": "heatmap"
           }
          ],
          "heatmapgl": [
           {
            "colorbar": {
             "outlinewidth": 0,
             "ticks": ""
            },
            "colorscale": [
             [
              0,
              "#0d0887"
             ],
             [
              0.1111111111111111,
              "#46039f"
             ],
             [
              0.2222222222222222,
              "#7201a8"
             ],
             [
              0.3333333333333333,
              "#9c179e"
             ],
             [
              0.4444444444444444,
              "#bd3786"
             ],
             [
              0.5555555555555556,
              "#d8576b"
             ],
             [
              0.6666666666666666,
              "#ed7953"
             ],
             [
              0.7777777777777778,
              "#fb9f3a"
             ],
             [
              0.8888888888888888,
              "#fdca26"
             ],
             [
              1,
              "#f0f921"
             ]
            ],
            "type": "heatmapgl"
           }
          ],
          "histogram": [
           {
            "marker": {
             "pattern": {
              "fillmode": "overlay",
              "size": 10,
              "solidity": 0.2
             }
            },
            "type": "histogram"
           }
          ],
          "histogram2d": [
           {
            "colorbar": {
             "outlinewidth": 0,
             "ticks": ""
            },
            "colorscale": [
             [
              0,
              "#0d0887"
             ],
             [
              0.1111111111111111,
              "#46039f"
             ],
             [
              0.2222222222222222,
              "#7201a8"
             ],
             [
              0.3333333333333333,
              "#9c179e"
             ],
             [
              0.4444444444444444,
              "#bd3786"
             ],
             [
              0.5555555555555556,
              "#d8576b"
             ],
             [
              0.6666666666666666,
              "#ed7953"
             ],
             [
              0.7777777777777778,
              "#fb9f3a"
             ],
             [
              0.8888888888888888,
              "#fdca26"
             ],
             [
              1,
              "#f0f921"
             ]
            ],
            "type": "histogram2d"
           }
          ],
          "histogram2dcontour": [
           {
            "colorbar": {
             "outlinewidth": 0,
             "ticks": ""
            },
            "colorscale": [
             [
              0,
              "#0d0887"
             ],
             [
              0.1111111111111111,
              "#46039f"
             ],
             [
              0.2222222222222222,
              "#7201a8"
             ],
             [
              0.3333333333333333,
              "#9c179e"
             ],
             [
              0.4444444444444444,
              "#bd3786"
             ],
             [
              0.5555555555555556,
              "#d8576b"
             ],
             [
              0.6666666666666666,
              "#ed7953"
             ],
             [
              0.7777777777777778,
              "#fb9f3a"
             ],
             [
              0.8888888888888888,
              "#fdca26"
             ],
             [
              1,
              "#f0f921"
             ]
            ],
            "type": "histogram2dcontour"
           }
          ],
          "mesh3d": [
           {
            "colorbar": {
             "outlinewidth": 0,
             "ticks": ""
            },
            "type": "mesh3d"
           }
          ],
          "parcoords": [
           {
            "line": {
             "colorbar": {
              "outlinewidth": 0,
              "ticks": ""
             }
            },
            "type": "parcoords"
           }
          ],
          "pie": [
           {
            "automargin": true,
            "type": "pie"
           }
          ],
          "scatter": [
           {
            "fillpattern": {
             "fillmode": "overlay",
             "size": 10,
             "solidity": 0.2
            },
            "type": "scatter"
           }
          ],
          "scatter3d": [
           {
            "line": {
             "colorbar": {
              "outlinewidth": 0,
              "ticks": ""
             }
            },
            "marker": {
             "colorbar": {
              "outlinewidth": 0,
              "ticks": ""
             }
            },
            "type": "scatter3d"
           }
          ],
          "scattercarpet": [
           {
            "marker": {
             "colorbar": {
              "outlinewidth": 0,
              "ticks": ""
             }
            },
            "type": "scattercarpet"
           }
          ],
          "scattergeo": [
           {
            "marker": {
             "colorbar": {
              "outlinewidth": 0,
              "ticks": ""
             }
            },
            "type": "scattergeo"
           }
          ],
          "scattergl": [
           {
            "marker": {
             "colorbar": {
              "outlinewidth": 0,
              "ticks": ""
             }
            },
            "type": "scattergl"
           }
          ],
          "scattermapbox": [
           {
            "marker": {
             "colorbar": {
              "outlinewidth": 0,
              "ticks": ""
             }
            },
            "type": "scattermapbox"
           }
          ],
          "scatterpolar": [
           {
            "marker": {
             "colorbar": {
              "outlinewidth": 0,
              "ticks": ""
             }
            },
            "type": "scatterpolar"
           }
          ],
          "scatterpolargl": [
           {
            "marker": {
             "colorbar": {
              "outlinewidth": 0,
              "ticks": ""
             }
            },
            "type": "scatterpolargl"
           }
          ],
          "scatterternary": [
           {
            "marker": {
             "colorbar": {
              "outlinewidth": 0,
              "ticks": ""
             }
            },
            "type": "scatterternary"
           }
          ],
          "surface": [
           {
            "colorbar": {
             "outlinewidth": 0,
             "ticks": ""
            },
            "colorscale": [
             [
              0,
              "#0d0887"
             ],
             [
              0.1111111111111111,
              "#46039f"
             ],
             [
              0.2222222222222222,
              "#7201a8"
             ],
             [
              0.3333333333333333,
              "#9c179e"
             ],
             [
              0.4444444444444444,
              "#bd3786"
             ],
             [
              0.5555555555555556,
              "#d8576b"
             ],
             [
              0.6666666666666666,
              "#ed7953"
             ],
             [
              0.7777777777777778,
              "#fb9f3a"
             ],
             [
              0.8888888888888888,
              "#fdca26"
             ],
             [
              1,
              "#f0f921"
             ]
            ],
            "type": "surface"
           }
          ],
          "table": [
           {
            "cells": {
             "fill": {
              "color": "#EBF0F8"
             },
             "line": {
              "color": "white"
             }
            },
            "header": {
             "fill": {
              "color": "#C8D4E3"
             },
             "line": {
              "color": "white"
             }
            },
            "type": "table"
           }
          ]
         },
         "layout": {
          "annotationdefaults": {
           "arrowcolor": "#2a3f5f",
           "arrowhead": 0,
           "arrowwidth": 1
          },
          "autotypenumbers": "strict",
          "coloraxis": {
           "colorbar": {
            "outlinewidth": 0,
            "ticks": ""
           }
          },
          "colorscale": {
           "diverging": [
            [
             0,
             "#8e0152"
            ],
            [
             0.1,
             "#c51b7d"
            ],
            [
             0.2,
             "#de77ae"
            ],
            [
             0.3,
             "#f1b6da"
            ],
            [
             0.4,
             "#fde0ef"
            ],
            [
             0.5,
             "#f7f7f7"
            ],
            [
             0.6,
             "#e6f5d0"
            ],
            [
             0.7,
             "#b8e186"
            ],
            [
             0.8,
             "#7fbc41"
            ],
            [
             0.9,
             "#4d9221"
            ],
            [
             1,
             "#276419"
            ]
           ],
           "sequential": [
            [
             0,
             "#0d0887"
            ],
            [
             0.1111111111111111,
             "#46039f"
            ],
            [
             0.2222222222222222,
             "#7201a8"
            ],
            [
             0.3333333333333333,
             "#9c179e"
            ],
            [
             0.4444444444444444,
             "#bd3786"
            ],
            [
             0.5555555555555556,
             "#d8576b"
            ],
            [
             0.6666666666666666,
             "#ed7953"
            ],
            [
             0.7777777777777778,
             "#fb9f3a"
            ],
            [
             0.8888888888888888,
             "#fdca26"
            ],
            [
             1,
             "#f0f921"
            ]
           ],
           "sequentialminus": [
            [
             0,
             "#0d0887"
            ],
            [
             0.1111111111111111,
             "#46039f"
            ],
            [
             0.2222222222222222,
             "#7201a8"
            ],
            [
             0.3333333333333333,
             "#9c179e"
            ],
            [
             0.4444444444444444,
             "#bd3786"
            ],
            [
             0.5555555555555556,
             "#d8576b"
            ],
            [
             0.6666666666666666,
             "#ed7953"
            ],
            [
             0.7777777777777778,
             "#fb9f3a"
            ],
            [
             0.8888888888888888,
             "#fdca26"
            ],
            [
             1,
             "#f0f921"
            ]
           ]
          },
          "colorway": [
           "#636efa",
           "#EF553B",
           "#00cc96",
           "#ab63fa",
           "#FFA15A",
           "#19d3f3",
           "#FF6692",
           "#B6E880",
           "#FF97FF",
           "#FECB52"
          ],
          "font": {
           "color": "#2a3f5f"
          },
          "geo": {
           "bgcolor": "white",
           "lakecolor": "white",
           "landcolor": "#E5ECF6",
           "showlakes": true,
           "showland": true,
           "subunitcolor": "white"
          },
          "hoverlabel": {
           "align": "left"
          },
          "hovermode": "closest",
          "mapbox": {
           "style": "light"
          },
          "paper_bgcolor": "white",
          "plot_bgcolor": "#E5ECF6",
          "polar": {
           "angularaxis": {
            "gridcolor": "white",
            "linecolor": "white",
            "ticks": ""
           },
           "bgcolor": "#E5ECF6",
           "radialaxis": {
            "gridcolor": "white",
            "linecolor": "white",
            "ticks": ""
           }
          },
          "scene": {
           "xaxis": {
            "backgroundcolor": "#E5ECF6",
            "gridcolor": "white",
            "gridwidth": 2,
            "linecolor": "white",
            "showbackground": true,
            "ticks": "",
            "zerolinecolor": "white"
           },
           "yaxis": {
            "backgroundcolor": "#E5ECF6",
            "gridcolor": "white",
            "gridwidth": 2,
            "linecolor": "white",
            "showbackground": true,
            "ticks": "",
            "zerolinecolor": "white"
           },
           "zaxis": {
            "backgroundcolor": "#E5ECF6",
            "gridcolor": "white",
            "gridwidth": 2,
            "linecolor": "white",
            "showbackground": true,
            "ticks": "",
            "zerolinecolor": "white"
           }
          },
          "shapedefaults": {
           "line": {
            "color": "#2a3f5f"
           }
          },
          "ternary": {
           "aaxis": {
            "gridcolor": "white",
            "linecolor": "white",
            "ticks": ""
           },
           "baxis": {
            "gridcolor": "white",
            "linecolor": "white",
            "ticks": ""
           },
           "bgcolor": "#E5ECF6",
           "caxis": {
            "gridcolor": "white",
            "linecolor": "white",
            "ticks": ""
           }
          },
          "title": {
           "x": 0.05
          },
          "xaxis": {
           "automargin": true,
           "gridcolor": "white",
           "linecolor": "white",
           "ticks": "",
           "title": {
            "standoff": 15
           },
           "zerolinecolor": "white",
           "zerolinewidth": 2
          },
          "yaxis": {
           "automargin": true,
           "gridcolor": "white",
           "linecolor": "white",
           "ticks": "",
           "title": {
            "standoff": 15
           },
           "zerolinecolor": "white",
           "zerolinewidth": 2
          }
         }
        },
        "title": {
         "text": "Firespots in the Amazon during 2019"
        },
        "xaxis": {
         "anchor": "y",
         "domain": [
          0,
          1
         ],
         "title": {
          "text": "month"
         }
        },
        "yaxis": {
         "anchor": "x",
         "domain": [
          0,
          1
         ],
         "title": {
          "text": "firespots"
         }
        }
       }
      }
     },
     "metadata": {},
     "output_type": "display_data"
    }
   ],
   "source": [
    "fig5 = px.scatter(df2.query(\"year==2019\"), x=\"month\", y=\"firespots\",\n",
    "                    title = \"Firespots in the Amazon during 2019\",\n",
    "\t                size=\"firespots\", color=\"state\",\n",
    "                    hover_name=\"state\", size_max=60)\n",
    "fig5.show()"
   ]
  },
  {
   "attachments": {},
   "cell_type": "markdown",
   "metadata": {},
   "source": [
    "## Task 3\n",
    "Export at least one chart to a static image and one chart to an HTML page, using Pythoncode."
   ]
  },
  {
   "cell_type": "code",
   "execution_count": 61,
   "metadata": {},
   "outputs": [
    {
     "name": "stdout",
     "output_type": "stream",
     "text": [
      "Collecting kaleido\n",
      "  Using cached kaleido-0.2.1-py2.py3-none-win_amd64.whl (65.9 MB)\n",
      "Installing collected packages: kaleido\n",
      "Note: you may need to restart the kernel to use updated packages.\n"
     ]
    },
    {
     "name": "stderr",
     "output_type": "stream",
     "text": [
      "WARNING: Ignoring invalid distribution -aleido (c:\\users\\amyca\\anaconda3\\lib\\site-packages)\n",
      "WARNING: Ignoring invalid distribution -aleido (c:\\users\\amyca\\anaconda3\\lib\\site-packages)\n",
      "WARNING: Ignoring invalid distribution -aleido (c:\\users\\amyca\\anaconda3\\lib\\site-packages)\n",
      "ERROR: Could not install packages due to an OSError: [WinError 32] The process cannot access the file because it is being used by another process: 'c:\\\\Users\\\\amyca\\\\anaconda3\\\\Lib\\\\site-packages\\\\kaleido\\\\executable\\\\version'\n",
      "Consider using the `--user` option or check the permissions.\n",
      "\n",
      "WARNING: Ignoring invalid distribution -aleido (c:\\users\\amyca\\anaconda3\\lib\\site-packages)\n",
      "WARNING: Ignoring invalid distribution -aleido (c:\\users\\amyca\\anaconda3\\lib\\site-packages)\n",
      "WARNING: Ignoring invalid distribution -aleido (c:\\users\\amyca\\anaconda3\\lib\\site-packages)\n"
     ]
    }
   ],
   "source": [
    "#Notes\n",
    "#Using kaleido to create a file path for html\n",
    "%pip install -U kaleido\n",
    "import os\n",
    "\n",
    "#create an output directory to store our image\n",
    "if not os.path.exists(\"images\"):\n",
    "    os.mkdir(\"images\")\n",
    "\n",
    "#html \n",
    "fig.write_html(\"images/fig1_file.html\")\n",
    "fig2.write_html(\"images/fig2_file.html\")\n",
    "fig3.write_html(\"images/fig3_file.html\")\n",
    "fig4.write_html(\"images/fig4_file.html\")\n",
    "fig5.write_html(\"images/fig5_file.html\")"
   ]
  },
  {
   "cell_type": "code",
   "execution_count": 57,
   "metadata": {},
   "outputs": [
    {
     "name": "stdout",
     "output_type": "stream",
     "text": [
      "Processing c:\\users\\amyca\\gtech-hw\\assignment_5\\kaleido-0.1.0.post1-py2.py3-none-win_amd64.whl\n",
      "Installing collected packages: kaleido\n",
      "Note: you may need to restart the kernel to use updated packages.\n"
     ]
    },
    {
     "name": "stderr",
     "output_type": "stream",
     "text": [
      "WARNING: Ignoring invalid distribution -aleido (c:\\users\\amyca\\anaconda3\\lib\\site-packages)\n",
      "WARNING: Ignoring invalid distribution -aleido (c:\\users\\amyca\\anaconda3\\lib\\site-packages)\n",
      "WARNING: Ignoring invalid distribution -aleido (c:\\users\\amyca\\anaconda3\\lib\\site-packages)\n",
      "ERROR: Could not install packages due to an OSError: [WinError 32] The process cannot access the file because it is being used by another process: 'c:\\\\Users\\\\amyca\\\\anaconda3\\\\Lib\\\\site-packages\\\\kaleido\\\\executable\\\\version'\n",
      "Consider using the `--user` option or check the permissions.\n",
      "\n",
      "WARNING: Ignoring invalid distribution -aleido (c:\\users\\amyca\\anaconda3\\lib\\site-packages)\n",
      "WARNING: Ignoring invalid distribution -aleido (c:\\users\\amyca\\anaconda3\\lib\\site-packages)\n",
      "WARNING: Ignoring invalid distribution -aleido (c:\\users\\amyca\\anaconda3\\lib\\site-packages)\n"
     ]
    }
   ],
   "source": [
    "# Windows problem...the write_image wasn't working so I was looking online and found a solution! A link for anyone else that might be encountering this problem:\n",
    "# https://community.plotly.com/t/static-image-export-hangs-using-kaleido/61519/3\n",
    "\n",
    "%pip install kaleido-0.1.0.post1-py2.py3-none-win_amd64.whl"
   ]
  },
  {
   "cell_type": "code",
   "execution_count": 62,
   "metadata": {},
   "outputs": [],
   "source": [
    "#Static image\n",
    "fig.write_image(\"images/fig1_pythoncode.png\")\n",
    "fig2.write_image(\"images/fig2_pythoncode.png\")\n",
    "fig3.write_image(\"images/fig3_pythoncode.png\")\n",
    "fig4.write_image(\"images/fig4_pythoncode.png\")\n",
    "fig5.write_image(\"images/fig5_pythoncode.png\")"
   ]
  }
 ],
 "metadata": {
  "kernelspec": {
   "display_name": "base",
   "language": "python",
   "name": "python3"
  },
  "language_info": {
   "codemirror_mode": {
    "name": "ipython",
    "version": 3
   },
   "file_extension": ".py",
   "mimetype": "text/x-python",
   "name": "python",
   "nbconvert_exporter": "python",
   "pygments_lexer": "ipython3",
   "version": "3.9.13"
  },
  "orig_nbformat": 4
 },
 "nbformat": 4,
 "nbformat_minor": 2
}
