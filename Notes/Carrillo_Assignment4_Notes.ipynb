{
 "cells": [
  {
   "attachments": {},
   "cell_type": "markdown",
   "metadata": {},
   "source": [
    "## Task 1"
   ]
  },
  {
   "cell_type": "code",
   "execution_count": 1,
   "metadata": {},
   "outputs": [],
   "source": [
    "import math as mth\n",
    "import random"
   ]
  },
  {
   "cell_type": "code",
   "execution_count": 2,
   "metadata": {},
   "outputs": [
    {
     "name": "stdout",
     "output_type": "stream",
     "text": [
      "Directory 'Geom_Directory_ipynb' created\n"
     ]
    }
   ],
   "source": [
    "import os\n",
    "directory = \"Geom_Directory_ipynb\"\n",
    "print(\"Directory '% s' created\" % directory)"
   ]
  },
  {
   "cell_type": "code",
   "execution_count": 3,
   "metadata": {},
   "outputs": [],
   "source": [
    "#Set up a Geom class for all geometric figures which all know their name and color"
   ]
  },
  {
   "cell_type": "code",
   "execution_count": 14,
   "metadata": {},
   "outputs": [],
   "source": [
    "class Geom():\n",
    "  geomType = 'Generic Geometry Type'\n",
    "  \n",
    "  # Constructor of the class: used to initialize an object\n",
    "  def __init__(self):\n",
    "    # Check out the names and the faker packages for random names\n",
    "    self.name = random.choice(['Bill','Sally','Tamica','Josh','Lammar','Hussain'])\n",
    "    self.color = random.choice(['BLUE', 'RED', 'PURPLE'])\n",
    "  \n",
    "  # This is a method that all children will inherit. \n",
    "  # In other words, all children will have this method without explicitly defining it. \n",
    "  def print_name(self):\n",
    "    print('My name is ',self.name, 'and my color is ',self.color)\n",
    "\n",
    "  # Another method: why we can call self.area without defining it here?\n",
    "  def makeString(self):\n",
    "    return f\"Name: {self.name}, Color: {self.color}, Area: {self.area()}\""
   ]
  },
  {
   "cell_type": "code",
   "execution_count": 16,
   "metadata": {},
   "outputs": [
    {
     "data": {
      "text/plain": [
       "'Tamica'"
      ]
     },
     "execution_count": 16,
     "metadata": {},
     "output_type": "execute_result"
    }
   ],
   "source": [
    "#Amy Notes. Accessing attributes.\n",
    "my_geom = Geom()\n",
    "my_geom.name"
   ]
  },
  {
   "cell_type": "code",
   "execution_count": 6,
   "metadata": {},
   "outputs": [
    {
     "name": "stdout",
     "output_type": "stream",
     "text": [
      "My name is  Tamica and my color is  PURPLE\n"
     ]
    }
   ],
   "source": [
    "#Amy notes. Calling methods\n",
    "my_geom.print_name()"
   ]
  },
  {
   "cell_type": "code",
   "execution_count": 7,
   "metadata": {},
   "outputs": [],
   "source": [
    "#create a subclass of the geometery type\n",
    "#Notes: self.radius = radius can be before or after super().__init__()\n",
    "class Circle(Geom):\n",
    "  \n",
    "  def __init__ (self,radius):\n",
    "    #self.radius = radius\n",
    "    super().__init__()\n",
    "    self.radius = radius\n",
    "\n",
    "  # area method  \n",
    "  def area(self):\n",
    "     return mth.pi * self.radius **2\n",
    "     \n",
    "\n"
   ]
  },
  {
   "cell_type": "code",
   "execution_count": 8,
   "metadata": {},
   "outputs": [
    {
     "name": "stdout",
     "output_type": "stream",
     "text": [
      "My name is  Bill and my color is  PURPLE\n",
      "12.566370614359172\n"
     ]
    }
   ],
   "source": [
    "#Amy notes\n",
    "radius = 2\n",
    "my_circle = Circle(radius)\n",
    "my_circle.print_name()\n",
    "print(my_circle.area())"
   ]
  },
  {
   "cell_type": "code",
   "execution_count": 9,
   "metadata": {},
   "outputs": [],
   "source": [
    "class Square(Geom):\n",
    "  \n",
    "  def __init__ (self,side):\n",
    "    self.side = side\n",
    "    super().__init__()\n",
    "  # area method  \n",
    "  def area(self):\n",
    "     return self.side **2"
   ]
  },
  {
   "cell_type": "code",
   "execution_count": 10,
   "metadata": {},
   "outputs": [
    {
     "name": "stdout",
     "output_type": "stream",
     "text": [
      "My name is  Sally and my color is  BLUE\n",
      "My area is  64\n"
     ]
    }
   ],
   "source": [
    "side = 8\n",
    "my_square = Square(side)\n",
    "my_square.print_name()\n",
    "print('My area is ',my_square.area())"
   ]
  },
  {
   "cell_type": "code",
   "execution_count": 11,
   "metadata": {},
   "outputs": [
    {
     "name": "stdout",
     "output_type": "stream",
     "text": [
      "[<__main__.Circle object at 0x0000021488266670>, <__main__.Circle object at 0x00000214882665E0>]\n",
      "My name is  Josh and my color is  PURPLE\n",
      "My name is  Lammar and my color is  PURPLE\n",
      "['Name: Josh, Color: PURPLE, Area: 12.566370614359172', 'Name: Lammar, Color: PURPLE, Area: 28.274333882308138']\n"
     ]
    }
   ],
   "source": [
    "circle_list = [Circle(i) for i in range(2,4)]\n",
    "print(circle_list)\n",
    "\n",
    "for x in circle_list:\n",
    "    x.print_name()\n",
    "\n",
    "print([x.makeString() for x in circle_list])"
   ]
  },
  {
   "attachments": {},
   "cell_type": "markdown",
   "metadata": {},
   "source": [
    "## Assignment 4\n",
    "### Task 1"
   ]
  },
  {
   "cell_type": "code",
   "execution_count": 12,
   "metadata": {},
   "outputs": [],
   "source": [
    "#Triangle\n",
    "\n",
    "class Triangle(Geom):\n",
    "    def __init__(self, base, height):\n",
    "        self.base = base\n",
    "        self.height = height\n",
    "        super().__init__()\n",
    "\n",
    "    #area method\n",
    "    def area(self):\n",
    "        return (self.base * self.height)*0.5"
   ]
  },
  {
   "cell_type": "code",
   "execution_count": 13,
   "metadata": {},
   "outputs": [
    {
     "name": "stdout",
     "output_type": "stream",
     "text": [
      "My name is  Tamica and my color is  RED\n",
      "My triangle area is  21.0\n"
     ]
    }
   ],
   "source": [
    "#Create an instance of a triangle\n",
    "base = 6\n",
    "height = 7\n",
    "my_triangle = Triangle(base,height)\n",
    "my_triangle.print_name()\n",
    "print('My triangle area is ', my_triangle.area())"
   ]
  }
 ],
 "metadata": {
  "kernelspec": {
   "display_name": "base",
   "language": "python",
   "name": "python3"
  },
  "language_info": {
   "codemirror_mode": {
    "name": "ipython",
    "version": 3
   },
   "file_extension": ".py",
   "mimetype": "text/x-python",
   "name": "python",
   "nbconvert_exporter": "python",
   "pygments_lexer": "ipython3",
   "version": "3.9.13"
  },
  "orig_nbformat": 4,
  "vscode": {
   "interpreter": {
    "hash": "e8a21d808dd2dbf19e8996affc9523669993497fdeccbcdabb7e9e60698cb18e"
   }
  }
 },
 "nbformat": 4,
 "nbformat_minor": 2
}
