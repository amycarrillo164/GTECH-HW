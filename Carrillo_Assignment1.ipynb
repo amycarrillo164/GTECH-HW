{
 "cells": [
  {
   "cell_type": "code",
   "execution_count": 1,
   "metadata": {},
   "outputs": [
    {
     "name": "stdout",
     "output_type": "stream",
     "text": [
      "[46, 3, 124, 19, 189, 133, 122, 42, 128, 196, 196, 60, 54, 70, 22, 8, 52, 50, 149, 19, 172, 126, 41, 130, 191, 25, 146, 86, 118, 3, 130, 34, 152, 90, 160, 35, 35, 177, 163, 117, 198, 55, 109, 4, 43, 116, 117, 76, 77]\n"
     ]
    }
   ],
   "source": [
    "# Generate a list of random numbers using random module in Python\n",
    "import random\n",
    "random.seed(1009)\n",
    "rndList_2 = []\n",
    "for i in range (1, 50):\n",
    "    rndList_2.append(random.randint(0,200))\n",
    "    \n",
    "print(rndList_2)"
   ]
  },
  {
   "cell_type": "code",
   "execution_count": 4,
   "metadata": {},
   "outputs": [
    {
     "name": "stdout",
     "output_type": "stream",
     "text": [
      "94.04081632653062\n"
     ]
    }
   ],
   "source": [
    "#Calculate the mean value for the list by looping through its element\n",
    "import statistics\n",
    "print(statistics.mean(rndList_2))"
   ]
  },
  {
   "cell_type": "code",
   "execution_count": 5,
   "metadata": {},
   "outputs": [
    {
     "name": "stdout",
     "output_type": "stream",
     "text": [
      "94.04081632653062\n",
      "3646.6649659863947\n"
     ]
    }
   ],
   "source": [
    "#Calculate the variance of the list\n",
    "import statistics\n",
    "print(statistics.mean(rndList_2))\n",
    "print(statistics.variance(rndList_2))"
   ]
  },
  {
   "cell_type": "code",
   "execution_count": null,
   "metadata": {},
   "outputs": [],
   "source": []
  }
 ],
 "metadata": {
  "kernelspec": {
   "display_name": "base",
   "language": "python",
   "name": "python3"
  },
  "language_info": {
   "codemirror_mode": {
    "name": "ipython",
    "version": 3
   },
   "file_extension": ".py",
   "mimetype": "text/x-python",
   "name": "python",
   "nbconvert_exporter": "python",
   "pygments_lexer": "ipython3",
   "version": "3.9.13"
  },
  "orig_nbformat": 4,
  "vscode": {
   "interpreter": {
    "hash": "e8a21d808dd2dbf19e8996affc9523669993497fdeccbcdabb7e9e60698cb18e"
   }
  }
 },
 "nbformat": 4,
 "nbformat_minor": 2
}
