{
 "cells": [
  {
   "attachments": {},
   "cell_type": "markdown",
   "metadata": {},
   "source": [
    "## Task 1"
   ]
  },
  {
   "cell_type": "code",
   "execution_count": null,
   "metadata": {},
   "outputs": [],
   "source": [
    "#Answer\n",
    "class Triangle(Geom):\n",
    "  def __init__(self, base, height):\n",
    "      self.base = base\n",
    "      self.height = height\n",
    "      super().__init__()\n",
    "\n",
    "  #area method\n",
    "  def area(self):\n",
    "      return (self.base * self.height)*0.5\n",
    "  \n",
    "#Class Triangle can also be found in \"Geom1.py\""
   ]
  },
  {
   "attachments": {},
   "cell_type": "markdown",
   "metadata": {},
   "source": [
    "## Task 2\n",
    "Reorganize these classes as a package with one or multiple modules. Import them into another Python Notebook or Script file to test them."
   ]
  },
  {
   "cell_type": "code",
   "execution_count": null,
   "metadata": {},
   "outputs": [],
   "source": [
    "#Package/Directory = \"Geom_Directory\"\n",
    "#Module w/ all the geo classes = \"Geom1.py\""
   ]
  },
  {
   "cell_type": "code",
   "execution_count": 4,
   "metadata": {},
   "outputs": [
    {
     "name": "stdout",
     "output_type": "stream",
     "text": [
      "The autoreload extension is already loaded. To reload it, use:\n",
      "  %reload_ext autoreload\n"
     ]
    }
   ],
   "source": [
    "#Importing local Python modules into Jupyter Notebooks\n",
    "%load_ext autoreload\n",
    "%autoreload 2\n",
    "import os\n",
    "import sys\n",
    "module_path = os.path.abspath(os.path.join('../src'))\n",
    "sys.path.insert(0, module_path)"
   ]
  },
  {
   "cell_type": "code",
   "execution_count": 6,
   "metadata": {},
   "outputs": [],
   "source": [
    "#Importing module from local Pythoon module\n",
    "from Geom1 import *"
   ]
  },
  {
   "cell_type": "code",
   "execution_count": 8,
   "metadata": {},
   "outputs": [
    {
     "name": "stdout",
     "output_type": "stream",
     "text": [
      "My name is  Bill and my color is  BLUE\n",
      "Area Test 3: My area is  64\n"
     ]
    }
   ],
   "source": [
    "#Square\n",
    "#Testing\n",
    "side = 8\n",
    "my_square = Square(side)\n",
    "my_square.print_name()\n",
    "print('Area Test 3: My area is ',my_square.area())"
   ]
  },
  {
   "cell_type": "code",
   "execution_count": 9,
   "metadata": {},
   "outputs": [
    {
     "name": "stdout",
     "output_type": "stream",
     "text": [
      "My name is  Lammar and my color is  PURPLE\n",
      "Area Test 2: My triangle area is  21.0\n"
     ]
    }
   ],
   "source": [
    "#Testing\n",
    "##Triangle\n",
    "base = 6\n",
    "height = 7\n",
    "my_triangle = Triangle(base,height)\n",
    "my_triangle.print_name()\n",
    "print('Area Test 2: My triangle area is ', my_triangle.area())"
   ]
  },
  {
   "cell_type": "code",
   "execution_count": 10,
   "metadata": {},
   "outputs": [
    {
     "name": "stdout",
     "output_type": "stream",
     "text": [
      "My name is  Sally and my color is  RED\n",
      "Area Test 3: My area is  64\n"
     ]
    }
   ],
   "source": [
    "##Square\n",
    "side = 8\n",
    "my_square = Square(side)\n",
    "my_square.print_name()\n",
    "print('Area Test 3: My area is ',my_square.area())"
   ]
  },
  {
   "cell_type": "code",
   "execution_count": 11,
   "metadata": {},
   "outputs": [
    {
     "name": "stdout",
     "output_type": "stream",
     "text": [
      "My name is  Bill and my color is  PURPLE\n",
      "Area Test 4:  My area is  12.566370614359172\n"
     ]
    }
   ],
   "source": [
    "#Circle\n",
    "radius = 2\n",
    "my_circle = Circle(radius)\n",
    "my_circle.print_name()\n",
    "print('Area Test 4:  My area is ',my_circle.area())"
   ]
  }
 ],
 "metadata": {
  "kernelspec": {
   "display_name": "base",
   "language": "python",
   "name": "python3"
  },
  "language_info": {
   "codemirror_mode": {
    "name": "ipython",
    "version": 3
   },
   "file_extension": ".py",
   "mimetype": "text/x-python",
   "name": "python",
   "nbconvert_exporter": "python",
   "pygments_lexer": "ipython3",
   "version": "3.9.13"
  },
  "orig_nbformat": 4,
  "vscode": {
   "interpreter": {
    "hash": "e8a21d808dd2dbf19e8996affc9523669993497fdeccbcdabb7e9e60698cb18e"
   }
  }
 },
 "nbformat": 4,
 "nbformat_minor": 2
}
